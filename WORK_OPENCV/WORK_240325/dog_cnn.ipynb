{
 "cells": [
  {
   "cell_type": "markdown",
   "source": [
    "### 개 품종 분류\n",
    "- ImageFolder\n",
    "- Transforms\n",
    "- DataLoader\n",
    "- WeightedRandomSampler\n",
    "- CNN"
   ],
   "metadata": {
    "collapsed": false
   },
   "id": "90d4baaead58005d"
  },
  {
   "cell_type": "markdown",
   "source": [
    "(1) 데이터 준비 (Dataset / ImageFolder, DataLoader)"
   ],
   "metadata": {
    "collapsed": false
   },
   "id": "f06b025723835c7a"
  },
  {
   "cell_type": "code",
   "outputs": [
    {
     "name": "stderr",
     "output_type": "stream",
     "text": [
      "C:\\Users\\kdp\\.conda\\envs\\Torch_38\\lib\\site-packages\\torchvision\\io\\image.py:13: UserWarning: Failed to load image Python extension: '[WinError 127] 지정된 프로시저를 찾을 수 없습니다'If you don't plan on using image functionality from `torchvision.io`, you can ignore this warning. Otherwise, there might be something wrong with your environment. Did you have `libjpeg` or `libpng` installed before building `torchvision` from source?\n",
      "  warn(\n"
     ]
    }
   ],
   "source": [
    "from PIL import Image\n",
    "import torchvision.transforms as transforms"
   ],
   "metadata": {
    "collapsed": false,
    "ExecuteTime": {
     "end_time": "2024-03-25T16:03:04.749486600Z",
     "start_time": "2024-03-25T16:03:01.031133100Z"
    }
   },
   "id": "21ffe79c5394bde4",
   "execution_count": 1
  },
  {
   "cell_type": "code",
   "outputs": [],
   "source": [
    "### 데이터셋에 적용할 변환(전처리) 설정\n",
    "preprocessing = transforms.Compose([\n",
    "    transforms.Resize((30, 30)),    # 30x30 크기\n",
    "    transforms.ToTensor()\n",
    "])"
   ],
   "metadata": {
    "collapsed": false,
    "ExecuteTime": {
     "end_time": "2024-03-25T16:03:04.769047500Z",
     "start_time": "2024-03-25T16:03:04.751636500Z"
    }
   },
   "id": "4a46b582bc8433b9",
   "execution_count": 2
  },
  {
   "cell_type": "code",
   "outputs": [],
   "source": [
    "from torchvision.datasets import ImageFolder"
   ],
   "metadata": {
    "collapsed": false,
    "ExecuteTime": {
     "end_time": "2024-03-25T16:03:04.795559200Z",
     "start_time": "2024-03-25T16:03:04.767896600Z"
    }
   },
   "id": "e11c3aaa0724fcc3",
   "execution_count": 3
  },
  {
   "cell_type": "code",
   "outputs": [],
   "source": [
    "### 데이터셋 생성\n",
    "img_root = './Images-resized'\n",
    "\n",
    "imgDS = ImageFolder(root=img_root, transform=preprocessing)"
   ],
   "metadata": {
    "collapsed": false,
    "ExecuteTime": {
     "end_time": "2024-03-25T16:03:04.828505400Z",
     "start_time": "2024-03-25T16:03:04.783219600Z"
    }
   },
   "id": "6f5fd5efc76203b3",
   "execution_count": 4
  },
  {
   "cell_type": "code",
   "outputs": [
    {
     "data": {
      "text/plain": "1297"
     },
     "execution_count": 5,
     "metadata": {},
     "output_type": "execute_result"
    }
   ],
   "source": [
    "len(imgDS)"
   ],
   "metadata": {
    "collapsed": false,
    "ExecuteTime": {
     "end_time": "2024-03-25T16:03:04.847053Z",
     "start_time": "2024-03-25T16:03:04.832875900Z"
    }
   },
   "id": "f06c0d121d2bfe4c",
   "execution_count": 5
  },
  {
   "cell_type": "code",
   "outputs": [
    {
     "data": {
      "text/plain": "['Chihuahua',\n 'Maltese_dog',\n 'Pekinese',\n 'Shih-Tzu',\n 'beagle',\n 'bluetick',\n 'papillon']"
     },
     "execution_count": 6,
     "metadata": {},
     "output_type": "execute_result"
    }
   ],
   "source": [
    "imgDS.classes"
   ],
   "metadata": {
    "collapsed": false,
    "ExecuteTime": {
     "end_time": "2024-03-25T16:03:04.879630200Z",
     "start_time": "2024-03-25T16:03:04.845990Z"
    }
   },
   "id": "21d226564fec88b",
   "execution_count": 6
  },
  {
   "cell_type": "code",
   "outputs": [
    {
     "data": {
      "text/plain": "{'Chihuahua': 0,\n 'Maltese_dog': 1,\n 'Pekinese': 2,\n 'Shih-Tzu': 3,\n 'beagle': 4,\n 'bluetick': 5,\n 'papillon': 6}"
     },
     "execution_count": 7,
     "metadata": {},
     "output_type": "execute_result"
    }
   ],
   "source": [
    "imgDS.class_to_idx  # 클래스 이름 : 해당 인덱스"
   ],
   "metadata": {
    "collapsed": false,
    "ExecuteTime": {
     "end_time": "2024-03-25T16:03:04.880700Z",
     "start_time": "2024-03-25T16:03:04.861232300Z"
    }
   },
   "id": "d334f35f6e4fcf25",
   "execution_count": 7
  },
  {
   "cell_type": "code",
   "outputs": [
    {
     "data": {
      "text/plain": "dict"
     },
     "execution_count": 8,
     "metadata": {},
     "output_type": "execute_result"
    }
   ],
   "source": [
    "type(imgDS.class_to_idx)"
   ],
   "metadata": {
    "collapsed": false,
    "ExecuteTime": {
     "end_time": "2024-03-25T16:03:04.914954300Z",
     "start_time": "2024-03-25T16:03:04.875263200Z"
    }
   },
   "id": "64f5037ae6bf7812",
   "execution_count": 8
  },
  {
   "cell_type": "code",
   "outputs": [
    {
     "data": {
      "text/plain": "[('./Images-resized\\\\Chihuahua\\\\n02085620_10074.png', 0),\n ('./Images-resized\\\\Chihuahua\\\\n02085620_10131.png', 0),\n ('./Images-resized\\\\Chihuahua\\\\n02085620_10621.png', 0),\n ('./Images-resized\\\\Chihuahua\\\\n02085620_1073.png', 0),\n ('./Images-resized\\\\Chihuahua\\\\n02085620_10976.png', 0),\n ('./Images-resized\\\\Chihuahua\\\\n02085620_11140.png', 0),\n ('./Images-resized\\\\Chihuahua\\\\n02085620_11238.png', 0),\n ('./Images-resized\\\\Chihuahua\\\\n02085620_11258.png', 0),\n ('./Images-resized\\\\Chihuahua\\\\n02085620_11337.png', 0),\n ('./Images-resized\\\\Chihuahua\\\\n02085620_11477.png', 0),\n ('./Images-resized\\\\Chihuahua\\\\n02085620_1152.png', 0),\n ('./Images-resized\\\\Chihuahua\\\\n02085620_11696.png', 0),\n ('./Images-resized\\\\Chihuahua\\\\n02085620_11818.png', 0),\n ('./Images-resized\\\\Chihuahua\\\\n02085620_11948.png', 0),\n ('./Images-resized\\\\Chihuahua\\\\n02085620_1205.png', 0),\n ('./Images-resized\\\\Chihuahua\\\\n02085620_12101.png', 0),\n ('./Images-resized\\\\Chihuahua\\\\n02085620_12334.png', 0),\n ('./Images-resized\\\\Chihuahua\\\\n02085620_1235.png', 0),\n ('./Images-resized\\\\Chihuahua\\\\n02085620_1271.png', 0),\n ('./Images-resized\\\\Chihuahua\\\\n02085620_12718.png', 0),\n ('./Images-resized\\\\Chihuahua\\\\n02085620_1298.png', 0),\n ('./Images-resized\\\\Chihuahua\\\\n02085620_13151.png', 0),\n ('./Images-resized\\\\Chihuahua\\\\n02085620_1321.png', 0),\n ('./Images-resized\\\\Chihuahua\\\\n02085620_13383.png', 0),\n ('./Images-resized\\\\Chihuahua\\\\n02085620_1346.png', 0),\n ('./Images-resized\\\\Chihuahua\\\\n02085620_13964.png', 0),\n ('./Images-resized\\\\Chihuahua\\\\n02085620_14252.png', 0),\n ('./Images-resized\\\\Chihuahua\\\\n02085620_14413.png', 0),\n ('./Images-resized\\\\Chihuahua\\\\n02085620_14516.png', 0),\n ('./Images-resized\\\\Chihuahua\\\\n02085620_1455.png', 0),\n ('./Images-resized\\\\Chihuahua\\\\n02085620_1492.png', 0),\n ('./Images-resized\\\\Chihuahua\\\\n02085620_1502.png', 0),\n ('./Images-resized\\\\Chihuahua\\\\n02085620_1558.png', 0),\n ('./Images-resized\\\\Chihuahua\\\\n02085620_1569.png', 0),\n ('./Images-resized\\\\Chihuahua\\\\n02085620_1617.png', 0),\n ('./Images-resized\\\\Chihuahua\\\\n02085620_1620.png', 0),\n ('./Images-resized\\\\Chihuahua\\\\n02085620_1765.png', 0),\n ('./Images-resized\\\\Chihuahua\\\\n02085620_1816.png', 0),\n ('./Images-resized\\\\Chihuahua\\\\n02085620_1862.png', 0),\n ('./Images-resized\\\\Chihuahua\\\\n02085620_1916.png', 0),\n ('./Images-resized\\\\Chihuahua\\\\n02085620_199.png', 0),\n ('./Images-resized\\\\Chihuahua\\\\n02085620_2053.png', 0),\n ('./Images-resized\\\\Chihuahua\\\\n02085620_2188.png', 0),\n ('./Images-resized\\\\Chihuahua\\\\n02085620_2204.png', 0),\n ('./Images-resized\\\\Chihuahua\\\\n02085620_2208.png', 0),\n ('./Images-resized\\\\Chihuahua\\\\n02085620_242.png', 0),\n ('./Images-resized\\\\Chihuahua\\\\n02085620_2479.png', 0),\n ('./Images-resized\\\\Chihuahua\\\\n02085620_2507.png', 0),\n ('./Images-resized\\\\Chihuahua\\\\n02085620_2517.png', 0),\n ('./Images-resized\\\\Chihuahua\\\\n02085620_2590.png', 0),\n ('./Images-resized\\\\Chihuahua\\\\n02085620_2614.png', 0),\n ('./Images-resized\\\\Chihuahua\\\\n02085620_2650.png', 0),\n ('./Images-resized\\\\Chihuahua\\\\n02085620_2693.png', 0),\n ('./Images-resized\\\\Chihuahua\\\\n02085620_2706.png', 0),\n ('./Images-resized\\\\Chihuahua\\\\n02085620_275.png', 0),\n ('./Images-resized\\\\Chihuahua\\\\n02085620_2793.png', 0),\n ('./Images-resized\\\\Chihuahua\\\\n02085620_2815.png', 0),\n ('./Images-resized\\\\Chihuahua\\\\n02085620_2887.png', 0),\n ('./Images-resized\\\\Chihuahua\\\\n02085620_2903.png', 0),\n ('./Images-resized\\\\Chihuahua\\\\n02085620_2921.png', 0),\n ('./Images-resized\\\\Chihuahua\\\\n02085620_2937.png', 0),\n ('./Images-resized\\\\Chihuahua\\\\n02085620_2973.png', 0),\n ('./Images-resized\\\\Chihuahua\\\\n02085620_2981.png', 0),\n ('./Images-resized\\\\Chihuahua\\\\n02085620_3006.png', 0),\n ('./Images-resized\\\\Chihuahua\\\\n02085620_3033.png', 0),\n ('./Images-resized\\\\Chihuahua\\\\n02085620_3045.png', 0),\n ('./Images-resized\\\\Chihuahua\\\\n02085620_3093.png', 0),\n ('./Images-resized\\\\Chihuahua\\\\n02085620_3110.png', 0),\n ('./Images-resized\\\\Chihuahua\\\\n02085620_3208.png', 0),\n ('./Images-resized\\\\Chihuahua\\\\n02085620_326.png', 0),\n ('./Images-resized\\\\Chihuahua\\\\n02085620_3402.png', 0),\n ('./Images-resized\\\\Chihuahua\\\\n02085620_3407.png', 0),\n ('./Images-resized\\\\Chihuahua\\\\n02085620_3409.png', 0),\n ('./Images-resized\\\\Chihuahua\\\\n02085620_3423.png', 0),\n ('./Images-resized\\\\Chihuahua\\\\n02085620_3485.png', 0),\n ('./Images-resized\\\\Chihuahua\\\\n02085620_3488.png', 0),\n ('./Images-resized\\\\Chihuahua\\\\n02085620_3593.png', 0),\n ('./Images-resized\\\\Chihuahua\\\\n02085620_3651.png', 0),\n ('./Images-resized\\\\Chihuahua\\\\n02085620_3677.png', 0),\n ('./Images-resized\\\\Chihuahua\\\\n02085620_368.png', 0),\n ('./Images-resized\\\\Chihuahua\\\\n02085620_3681.png', 0),\n ('./Images-resized\\\\Chihuahua\\\\n02085620_3742.png', 0),\n ('./Images-resized\\\\Chihuahua\\\\n02085620_3763.png', 0),\n ('./Images-resized\\\\Chihuahua\\\\n02085620_382.png', 0),\n ('./Images-resized\\\\Chihuahua\\\\n02085620_3826.png', 0),\n ('./Images-resized\\\\Chihuahua\\\\n02085620_3838.png', 0),\n ('./Images-resized\\\\Chihuahua\\\\n02085620_3875.png', 0),\n ('./Images-resized\\\\Chihuahua\\\\n02085620_3877.png', 0),\n ('./Images-resized\\\\Chihuahua\\\\n02085620_3880.png', 0),\n ('./Images-resized\\\\Chihuahua\\\\n02085620_3928.png', 0),\n ('./Images-resized\\\\Chihuahua\\\\n02085620_3942.png', 0),\n ('./Images-resized\\\\Chihuahua\\\\n02085620_3975.png', 0),\n ('./Images-resized\\\\Chihuahua\\\\n02085620_4016.png', 0),\n ('./Images-resized\\\\Chihuahua\\\\n02085620_4159.png', 0),\n ('./Images-resized\\\\Chihuahua\\\\n02085620_4207.png', 0),\n ('./Images-resized\\\\Chihuahua\\\\n02085620_4266.png', 0),\n ('./Images-resized\\\\Chihuahua\\\\n02085620_4290.png', 0),\n ('./Images-resized\\\\Chihuahua\\\\n02085620_431.png', 0),\n ('./Images-resized\\\\Chihuahua\\\\n02085620_4441.png', 0),\n ('./Images-resized\\\\Chihuahua\\\\n02085620_4515.png', 0),\n ('./Images-resized\\\\Chihuahua\\\\n02085620_4572.png', 0),\n ('./Images-resized\\\\Chihuahua\\\\n02085620_4602.png', 0),\n ('./Images-resized\\\\Chihuahua\\\\n02085620_4673.png', 0),\n ('./Images-resized\\\\Chihuahua\\\\n02085620_4700.png', 0),\n ('./Images-resized\\\\Chihuahua\\\\n02085620_473.png', 0),\n ('./Images-resized\\\\Chihuahua\\\\n02085620_477.png', 0),\n ('./Images-resized\\\\Chihuahua\\\\n02085620_4814.png', 0),\n ('./Images-resized\\\\Chihuahua\\\\n02085620_4875.png', 0),\n ('./Images-resized\\\\Chihuahua\\\\n02085620_4919.png', 0),\n ('./Images-resized\\\\Chihuahua\\\\n02085620_4951.png', 0),\n ('./Images-resized\\\\Chihuahua\\\\n02085620_4980.png', 0),\n ('./Images-resized\\\\Chihuahua\\\\n02085620_4998.png', 0),\n ('./Images-resized\\\\Chihuahua\\\\n02085620_500.png', 0),\n ('./Images-resized\\\\Chihuahua\\\\n02085620_5093.png', 0),\n ('./Images-resized\\\\Chihuahua\\\\n02085620_5312.png', 0),\n ('./Images-resized\\\\Chihuahua\\\\n02085620_5496.png', 0),\n ('./Images-resized\\\\Chihuahua\\\\n02085620_5661.png', 0),\n ('./Images-resized\\\\Chihuahua\\\\n02085620_5713.png', 0),\n ('./Images-resized\\\\Chihuahua\\\\n02085620_574.png', 0),\n ('./Images-resized\\\\Chihuahua\\\\n02085620_575.png', 0),\n ('./Images-resized\\\\Chihuahua\\\\n02085620_5771.png', 0),\n ('./Images-resized\\\\Chihuahua\\\\n02085620_588.png', 0),\n ('./Images-resized\\\\Chihuahua\\\\n02085620_5927.png', 0),\n ('./Images-resized\\\\Chihuahua\\\\n02085620_6295.png', 0),\n ('./Images-resized\\\\Chihuahua\\\\n02085620_6399.png', 0),\n ('./Images-resized\\\\Chihuahua\\\\n02085620_6931.png', 0),\n ('./Images-resized\\\\Chihuahua\\\\n02085620_7.png', 0),\n ('./Images-resized\\\\Chihuahua\\\\n02085620_712.png', 0),\n ('./Images-resized\\\\Chihuahua\\\\n02085620_7292.png', 0),\n ('./Images-resized\\\\Chihuahua\\\\n02085620_730.png', 0),\n ('./Images-resized\\\\Chihuahua\\\\n02085620_735.png', 0),\n ('./Images-resized\\\\Chihuahua\\\\n02085620_7436.png', 0),\n ('./Images-resized\\\\Chihuahua\\\\n02085620_7440.png', 0),\n ('./Images-resized\\\\Chihuahua\\\\n02085620_7613.png', 0),\n ('./Images-resized\\\\Chihuahua\\\\n02085620_7700.png', 0),\n ('./Images-resized\\\\Chihuahua\\\\n02085620_7738.png', 0),\n ('./Images-resized\\\\Chihuahua\\\\n02085620_806.png', 0),\n ('./Images-resized\\\\Chihuahua\\\\n02085620_8420.png', 0),\n ('./Images-resized\\\\Chihuahua\\\\n02085620_8491.png', 0),\n ('./Images-resized\\\\Chihuahua\\\\n02085620_8558.png', 0),\n ('./Images-resized\\\\Chihuahua\\\\n02085620_8578.png', 0),\n ('./Images-resized\\\\Chihuahua\\\\n02085620_8585.png', 0),\n ('./Images-resized\\\\Chihuahua\\\\n02085620_8611.png', 0),\n ('./Images-resized\\\\Chihuahua\\\\n02085620_8636.png', 0),\n ('./Images-resized\\\\Chihuahua\\\\n02085620_8637.png', 0),\n ('./Images-resized\\\\Chihuahua\\\\n02085620_9351.png', 0),\n ('./Images-resized\\\\Chihuahua\\\\n02085620_9357.png', 0),\n ('./Images-resized\\\\Chihuahua\\\\n02085620_9399.png', 0),\n ('./Images-resized\\\\Chihuahua\\\\n02085620_9414.png', 0),\n ('./Images-resized\\\\Chihuahua\\\\n02085620_949.png', 0),\n ('./Images-resized\\\\Chihuahua\\\\n02085620_952.png', 0),\n ('./Images-resized\\\\Chihuahua\\\\n02085620_9654.png', 0),\n ('./Images-resized\\\\Maltese_dog\\\\n02085936_10073.png', 1),\n ('./Images-resized\\\\Maltese_dog\\\\n02085936_10130.png', 1),\n ('./Images-resized\\\\Maltese_dog\\\\n02085936_10148.png', 1),\n ('./Images-resized\\\\Maltese_dog\\\\n02085936_10197.png', 1),\n ('./Images-resized\\\\Maltese_dog\\\\n02085936_10199.png', 1),\n ('./Images-resized\\\\Maltese_dog\\\\n02085936_10273.png', 1),\n ('./Images-resized\\\\Maltese_dog\\\\n02085936_10297.png', 1),\n ('./Images-resized\\\\Maltese_dog\\\\n02085936_10307.png', 1),\n ('./Images-resized\\\\Maltese_dog\\\\n02085936_10377.png', 1),\n ('./Images-resized\\\\Maltese_dog\\\\n02085936_10397.png', 1),\n ('./Images-resized\\\\Maltese_dog\\\\n02085936_10447.png', 1),\n ('./Images-resized\\\\Maltese_dog\\\\n02085936_10610.png', 1),\n ('./Images-resized\\\\Maltese_dog\\\\n02085936_10625.png', 1),\n ('./Images-resized\\\\Maltese_dog\\\\n02085936_10646.png', 1),\n ('./Images-resized\\\\Maltese_dog\\\\n02085936_10661.png', 1),\n ('./Images-resized\\\\Maltese_dog\\\\n02085936_10719.png', 1),\n ('./Images-resized\\\\Maltese_dog\\\\n02085936_11541.png', 1),\n ('./Images-resized\\\\Maltese_dog\\\\n02085936_1155.png', 1),\n ('./Images-resized\\\\Maltese_dog\\\\n02085936_11653.png', 1),\n ('./Images-resized\\\\Maltese_dog\\\\n02085936_11744.png', 1),\n ('./Images-resized\\\\Maltese_dog\\\\n02085936_1244.png', 1),\n ('./Images-resized\\\\Maltese_dog\\\\n02085936_1247.png', 1),\n ('./Images-resized\\\\Maltese_dog\\\\n02085936_126.png', 1),\n ('./Images-resized\\\\Maltese_dog\\\\n02085936_1288.png', 1),\n ('./Images-resized\\\\Maltese_dog\\\\n02085936_13013.png', 1),\n ('./Images-resized\\\\Maltese_dog\\\\n02085936_1325.png', 1),\n ('./Images-resized\\\\Maltese_dog\\\\n02085936_13378.png', 1),\n ('./Images-resized\\\\Maltese_dog\\\\n02085936_137.png', 1),\n ('./Images-resized\\\\Maltese_dog\\\\n02085936_1390.png', 1),\n ('./Images-resized\\\\Maltese_dog\\\\n02085936_13944.png', 1),\n ('./Images-resized\\\\Maltese_dog\\\\n02085936_1424.png', 1),\n ('./Images-resized\\\\Maltese_dog\\\\n02085936_14432.png', 1),\n ('./Images-resized\\\\Maltese_dog\\\\n02085936_14595.png', 1),\n ('./Images-resized\\\\Maltese_dog\\\\n02085936_1515.png', 1),\n ('./Images-resized\\\\Maltese_dog\\\\n02085936_1549.png', 1),\n ('./Images-resized\\\\Maltese_dog\\\\n02085936_1556.png', 1),\n ('./Images-resized\\\\Maltese_dog\\\\n02085936_16014.png', 1),\n ('./Images-resized\\\\Maltese_dog\\\\n02085936_16188.png', 1),\n ('./Images-resized\\\\Maltese_dog\\\\n02085936_16190.png', 1),\n ('./Images-resized\\\\Maltese_dog\\\\n02085936_16331.png', 1),\n ('./Images-resized\\\\Maltese_dog\\\\n02085936_16355.png', 1),\n ('./Images-resized\\\\Maltese_dog\\\\n02085936_16565.png', 1),\n ('./Images-resized\\\\Maltese_dog\\\\n02085936_16998.png', 1),\n ('./Images-resized\\\\Maltese_dog\\\\n02085936_17059.png', 1),\n ('./Images-resized\\\\Maltese_dog\\\\n02085936_17116.png', 1),\n ('./Images-resized\\\\Maltese_dog\\\\n02085936_1739.png', 1),\n ('./Images-resized\\\\Maltese_dog\\\\n02085936_17631.png', 1),\n ('./Images-resized\\\\Maltese_dog\\\\n02085936_1799.png', 1),\n ('./Images-resized\\\\Maltese_dog\\\\n02085936_17990.png', 1),\n ('./Images-resized\\\\Maltese_dog\\\\n02085936_18114.png', 1),\n ('./Images-resized\\\\Maltese_dog\\\\n02085936_18640.png', 1),\n ('./Images-resized\\\\Maltese_dog\\\\n02085936_19133.png', 1),\n ('./Images-resized\\\\Maltese_dog\\\\n02085936_19558.png', 1),\n ('./Images-resized\\\\Maltese_dog\\\\n02085936_19731.png', 1),\n ('./Images-resized\\\\Maltese_dog\\\\n02085936_19805.png', 1),\n ('./Images-resized\\\\Maltese_dog\\\\n02085936_20076.png', 1),\n ('./Images-resized\\\\Maltese_dog\\\\n02085936_20102.png', 1),\n ('./Images-resized\\\\Maltese_dog\\\\n02085936_2020.png', 1),\n ('./Images-resized\\\\Maltese_dog\\\\n02085936_20313.png', 1),\n ('./Images-resized\\\\Maltese_dog\\\\n02085936_20610.png', 1),\n ('./Images-resized\\\\Maltese_dog\\\\n02085936_21320.png', 1),\n ('./Images-resized\\\\Maltese_dog\\\\n02085936_2135.png', 1),\n ('./Images-resized\\\\Maltese_dog\\\\n02085936_2154.png', 1),\n ('./Images-resized\\\\Maltese_dog\\\\n02085936_2167.png', 1),\n ('./Images-resized\\\\Maltese_dog\\\\n02085936_2203.png', 1),\n ('./Images-resized\\\\Maltese_dog\\\\n02085936_22127.png', 1),\n ('./Images-resized\\\\Maltese_dog\\\\n02085936_22167.png', 1),\n ('./Images-resized\\\\Maltese_dog\\\\n02085936_22439.png', 1),\n ('./Images-resized\\\\Maltese_dog\\\\n02085936_22666.png', 1),\n ('./Images-resized\\\\Maltese_dog\\\\n02085936_2318.png', 1),\n ('./Images-resized\\\\Maltese_dog\\\\n02085936_233.png', 1),\n ('./Images-resized\\\\Maltese_dog\\\\n02085936_24178.png', 1),\n ('./Images-resized\\\\Maltese_dog\\\\n02085936_2422.png', 1),\n ('./Images-resized\\\\Maltese_dog\\\\n02085936_24464.png', 1),\n ('./Images-resized\\\\Maltese_dog\\\\n02085936_2458.png', 1),\n ('./Images-resized\\\\Maltese_dog\\\\n02085936_2465.png', 1),\n ('./Images-resized\\\\Maltese_dog\\\\n02085936_2536.png', 1),\n ('./Images-resized\\\\Maltese_dog\\\\n02085936_2543.png', 1),\n ('./Images-resized\\\\Maltese_dog\\\\n02085936_2573.png', 1),\n ('./Images-resized\\\\Maltese_dog\\\\n02085936_25908.png', 1),\n ('./Images-resized\\\\Maltese_dog\\\\n02085936_2627.png', 1),\n ('./Images-resized\\\\Maltese_dog\\\\n02085936_2636.png', 1),\n ('./Images-resized\\\\Maltese_dog\\\\n02085936_2693.png', 1),\n ('./Images-resized\\\\Maltese_dog\\\\n02085936_2741.png', 1),\n ('./Images-resized\\\\Maltese_dog\\\\n02085936_2760.png', 1),\n ('./Images-resized\\\\Maltese_dog\\\\n02085936_2832.png', 1),\n ('./Images-resized\\\\Maltese_dog\\\\n02085936_2889.png', 1),\n ('./Images-resized\\\\Maltese_dog\\\\n02085936_2905.png', 1),\n ('./Images-resized\\\\Maltese_dog\\\\n02085936_2927.png', 1),\n ('./Images-resized\\\\Maltese_dog\\\\n02085936_296.png', 1),\n ('./Images-resized\\\\Maltese_dog\\\\n02085936_2976.png', 1),\n ('./Images-resized\\\\Maltese_dog\\\\n02085936_2999.png', 1),\n ('./Images-resized\\\\Maltese_dog\\\\n02085936_3000.png', 1),\n ('./Images-resized\\\\Maltese_dog\\\\n02085936_3108.png', 1),\n ('./Images-resized\\\\Maltese_dog\\\\n02085936_3207.png', 1),\n ('./Images-resized\\\\Maltese_dog\\\\n02085936_3217.png', 1),\n ('./Images-resized\\\\Maltese_dog\\\\n02085936_3239.png', 1),\n ('./Images-resized\\\\Maltese_dog\\\\n02085936_3292.png', 1),\n ('./Images-resized\\\\Maltese_dog\\\\n02085936_3313.png', 1),\n ('./Images-resized\\\\Maltese_dog\\\\n02085936_3315.png', 1),\n ('./Images-resized\\\\Maltese_dog\\\\n02085936_3326.png', 1),\n ('./Images-resized\\\\Maltese_dog\\\\n02085936_3348.png', 1),\n ('./Images-resized\\\\Maltese_dog\\\\n02085936_338.png', 1),\n ('./Images-resized\\\\Maltese_dog\\\\n02085936_3391.png', 1),\n ('./Images-resized\\\\Maltese_dog\\\\n02085936_3394.png', 1),\n ('./Images-resized\\\\Maltese_dog\\\\n02085936_3396.png', 1),\n ('./Images-resized\\\\Maltese_dog\\\\n02085936_3451.png', 1),\n ('./Images-resized\\\\Maltese_dog\\\\n02085936_3470.png', 1),\n ('./Images-resized\\\\Maltese_dog\\\\n02085936_352.png', 1),\n ('./Images-resized\\\\Maltese_dog\\\\n02085936_3580.png', 1),\n ('./Images-resized\\\\Maltese_dog\\\\n02085936_3677.png', 1),\n ('./Images-resized\\\\Maltese_dog\\\\n02085936_3678.png', 1),\n ('./Images-resized\\\\Maltese_dog\\\\n02085936_3698.png', 1),\n ('./Images-resized\\\\Maltese_dog\\\\n02085936_37.png', 1),\n ('./Images-resized\\\\Maltese_dog\\\\n02085936_3863.png', 1),\n ('./Images-resized\\\\Maltese_dog\\\\n02085936_3947.png', 1),\n ('./Images-resized\\\\Maltese_dog\\\\n02085936_3994.png', 1),\n ('./Images-resized\\\\Maltese_dog\\\\n02085936_4004.png', 1),\n ('./Images-resized\\\\Maltese_dog\\\\n02085936_4070.png', 1),\n ('./Images-resized\\\\Maltese_dog\\\\n02085936_4188.png', 1),\n ('./Images-resized\\\\Maltese_dog\\\\n02085936_4192.png', 1),\n ('./Images-resized\\\\Maltese_dog\\\\n02085936_420.png', 1),\n ('./Images-resized\\\\Maltese_dog\\\\n02085936_4245.png', 1),\n ('./Images-resized\\\\Maltese_dog\\\\n02085936_4257.png', 1),\n ('./Images-resized\\\\Maltese_dog\\\\n02085936_426.png', 1),\n ('./Images-resized\\\\Maltese_dog\\\\n02085936_4262.png', 1),\n ('./Images-resized\\\\Maltese_dog\\\\n02085936_4271.png', 1),\n ('./Images-resized\\\\Maltese_dog\\\\n02085936_4318.png', 1),\n ('./Images-resized\\\\Maltese_dog\\\\n02085936_4343.png', 1),\n ('./Images-resized\\\\Maltese_dog\\\\n02085936_4351.png', 1),\n ('./Images-resized\\\\Maltese_dog\\\\n02085936_4396.png', 1),\n ('./Images-resized\\\\Maltese_dog\\\\n02085936_4474.png', 1),\n ('./Images-resized\\\\Maltese_dog\\\\n02085936_4480.png', 1),\n ('./Images-resized\\\\Maltese_dog\\\\n02085936_4490.png', 1),\n ('./Images-resized\\\\Maltese_dog\\\\n02085936_4506.png', 1),\n ('./Images-resized\\\\Maltese_dog\\\\n02085936_4569.png', 1),\n ('./Images-resized\\\\Maltese_dog\\\\n02085936_4608.png', 1),\n ('./Images-resized\\\\Maltese_dog\\\\n02085936_461.png', 1),\n ('./Images-resized\\\\Maltese_dog\\\\n02085936_4695.png', 1),\n ('./Images-resized\\\\Maltese_dog\\\\n02085936_4713.png', 1),\n ('./Images-resized\\\\Maltese_dog\\\\n02085936_4781.png', 1),\n ('./Images-resized\\\\Maltese_dog\\\\n02085936_4797.png', 1),\n ('./Images-resized\\\\Maltese_dog\\\\n02085936_4894.png', 1),\n ('./Images-resized\\\\Maltese_dog\\\\n02085936_4897.png', 1),\n ('./Images-resized\\\\Maltese_dog\\\\n02085936_4916.png', 1),\n ('./Images-resized\\\\Maltese_dog\\\\n02085936_4921.png', 1),\n ('./Images-resized\\\\Maltese_dog\\\\n02085936_4924.png', 1),\n ('./Images-resized\\\\Maltese_dog\\\\n02085936_4929.png', 1),\n ('./Images-resized\\\\Maltese_dog\\\\n02085936_500.png', 1),\n ('./Images-resized\\\\Maltese_dog\\\\n02085936_5010.png', 1),\n ('./Images-resized\\\\Maltese_dog\\\\n02085936_5012.png', 1),\n ('./Images-resized\\\\Maltese_dog\\\\n02085936_5023.png', 1),\n ('./Images-resized\\\\Maltese_dog\\\\n02085936_5067.png', 1),\n ('./Images-resized\\\\Maltese_dog\\\\n02085936_5068.png', 1),\n ('./Images-resized\\\\Maltese_dog\\\\n02085936_5103.png', 1),\n ('./Images-resized\\\\Maltese_dog\\\\n02085936_5107.png', 1),\n ('./Images-resized\\\\Maltese_dog\\\\n02085936_517.png', 1),\n ('./Images-resized\\\\Maltese_dog\\\\n02085936_5202.png', 1),\n ('./Images-resized\\\\Maltese_dog\\\\n02085936_5250.png', 1),\n ('./Images-resized\\\\Maltese_dog\\\\n02085936_5404.png', 1),\n ('./Images-resized\\\\Maltese_dog\\\\n02085936_5435.png', 1),\n ('./Images-resized\\\\Maltese_dog\\\\n02085936_544.png', 1),\n ('./Images-resized\\\\Maltese_dog\\\\n02085936_5459.png', 1),\n ('./Images-resized\\\\Maltese_dog\\\\n02085936_5466.png', 1),\n ('./Images-resized\\\\Maltese_dog\\\\n02085936_548.png', 1),\n ('./Images-resized\\\\Maltese_dog\\\\n02085936_5488.png', 1),\n ('./Images-resized\\\\Maltese_dog\\\\n02085936_5545.png', 1),\n ('./Images-resized\\\\Maltese_dog\\\\n02085936_5582.png', 1),\n ('./Images-resized\\\\Maltese_dog\\\\n02085936_5596.png', 1),\n ('./Images-resized\\\\Maltese_dog\\\\n02085936_5609.png', 1),\n ('./Images-resized\\\\Maltese_dog\\\\n02085936_5645.png', 1),\n ('./Images-resized\\\\Maltese_dog\\\\n02085936_5728.png', 1),\n ('./Images-resized\\\\Maltese_dog\\\\n02085936_5766.png', 1),\n ('./Images-resized\\\\Maltese_dog\\\\n02085936_5789.png', 1),\n ('./Images-resized\\\\Maltese_dog\\\\n02085936_6034.png', 1),\n ('./Images-resized\\\\Maltese_dog\\\\n02085936_6071.png', 1),\n ('./Images-resized\\\\Maltese_dog\\\\n02085936_6077.png', 1),\n ('./Images-resized\\\\Maltese_dog\\\\n02085936_6278.png', 1),\n ('./Images-resized\\\\Maltese_dog\\\\n02085936_6348.png', 1),\n ('./Images-resized\\\\Maltese_dog\\\\n02085936_6405.png', 1),\n ('./Images-resized\\\\Maltese_dog\\\\n02085936_6424.png', 1),\n ('./Images-resized\\\\Maltese_dog\\\\n02085936_6464.png', 1),\n ('./Images-resized\\\\Maltese_dog\\\\n02085936_6514.png', 1),\n ('./Images-resized\\\\Maltese_dog\\\\n02085936_6569.png', 1),\n ('./Images-resized\\\\Maltese_dog\\\\n02085936_66.png', 1),\n ('./Images-resized\\\\Maltese_dog\\\\n02085936_6650.png', 1),\n ('./Images-resized\\\\Maltese_dog\\\\n02085936_6656.png', 1),\n ('./Images-resized\\\\Maltese_dog\\\\n02085936_6671.png', 1),\n ('./Images-resized\\\\Maltese_dog\\\\n02085936_6746.png', 1),\n ('./Images-resized\\\\Maltese_dog\\\\n02085936_6892.png', 1),\n ('./Images-resized\\\\Maltese_dog\\\\n02085936_6921.png', 1),\n ('./Images-resized\\\\Maltese_dog\\\\n02085936_6927.png', 1),\n ('./Images-resized\\\\Maltese_dog\\\\n02085936_6942.png', 1),\n ('./Images-resized\\\\Maltese_dog\\\\n02085936_7004.png', 1),\n ('./Images-resized\\\\Maltese_dog\\\\n02085936_7142.png', 1),\n ('./Images-resized\\\\Maltese_dog\\\\n02085936_7172.png', 1),\n ('./Images-resized\\\\Maltese_dog\\\\n02085936_719.png', 1),\n ('./Images-resized\\\\Maltese_dog\\\\n02085936_7198.png', 1),\n ('./Images-resized\\\\Maltese_dog\\\\n02085936_7253.png', 1),\n ('./Images-resized\\\\Maltese_dog\\\\n02085936_7272.png', 1),\n ('./Images-resized\\\\Maltese_dog\\\\n02085936_7311.png', 1),\n ('./Images-resized\\\\Maltese_dog\\\\n02085936_7345.png', 1),\n ('./Images-resized\\\\Maltese_dog\\\\n02085936_7364.png', 1),\n ('./Images-resized\\\\Maltese_dog\\\\n02085936_7394.png', 1),\n ('./Images-resized\\\\Maltese_dog\\\\n02085936_7442.png', 1),\n ('./Images-resized\\\\Maltese_dog\\\\n02085936_7465.png', 1),\n ('./Images-resized\\\\Maltese_dog\\\\n02085936_7515.png', 1),\n ('./Images-resized\\\\Maltese_dog\\\\n02085936_7537.png', 1),\n ('./Images-resized\\\\Maltese_dog\\\\n02085936_7574.png', 1),\n ('./Images-resized\\\\Maltese_dog\\\\n02085936_771.png', 1),\n ('./Images-resized\\\\Maltese_dog\\\\n02085936_7755.png', 1),\n ('./Images-resized\\\\Maltese_dog\\\\n02085936_7793.png', 1),\n ('./Images-resized\\\\Maltese_dog\\\\n02085936_7865.png', 1),\n ('./Images-resized\\\\Maltese_dog\\\\n02085936_7941.png', 1),\n ('./Images-resized\\\\Maltese_dog\\\\n02085936_797.png', 1),\n ('./Images-resized\\\\Maltese_dog\\\\n02085936_804.png', 1),\n ('./Images-resized\\\\Maltese_dog\\\\n02085936_807.png', 1),\n ('./Images-resized\\\\Maltese_dog\\\\n02085936_8089.png', 1),\n ('./Images-resized\\\\Maltese_dog\\\\n02085936_8224.png', 1),\n ('./Images-resized\\\\Maltese_dog\\\\n02085936_8248.png', 1),\n ('./Images-resized\\\\Maltese_dog\\\\n02085936_8350.png', 1),\n ('./Images-resized\\\\Maltese_dog\\\\n02085936_8365.png', 1),\n ('./Images-resized\\\\Maltese_dog\\\\n02085936_8417.png', 1),\n ('./Images-resized\\\\Maltese_dog\\\\n02085936_8447.png', 1),\n ('./Images-resized\\\\Maltese_dog\\\\n02085936_8449.png', 1),\n ('./Images-resized\\\\Maltese_dog\\\\n02085936_850.png', 1),\n ('./Images-resized\\\\Maltese_dog\\\\n02085936_8507.png', 1),\n ('./Images-resized\\\\Maltese_dog\\\\n02085936_851.png', 1),\n ('./Images-resized\\\\Maltese_dog\\\\n02085936_8616.png', 1),\n ('./Images-resized\\\\Maltese_dog\\\\n02085936_8658.png', 1),\n ('./Images-resized\\\\Maltese_dog\\\\n02085936_8735.png', 1),\n ('./Images-resized\\\\Maltese_dog\\\\n02085936_8745.png', 1),\n ('./Images-resized\\\\Maltese_dog\\\\n02085936_8756.png', 1),\n ('./Images-resized\\\\Maltese_dog\\\\n02085936_8767.png', 1),\n ('./Images-resized\\\\Maltese_dog\\\\n02085936_8867.png', 1),\n ('./Images-resized\\\\Maltese_dog\\\\n02085936_8900.png', 1),\n ('./Images-resized\\\\Maltese_dog\\\\n02085936_8981.png', 1),\n ('./Images-resized\\\\Maltese_dog\\\\n02085936_899.png', 1),\n ('./Images-resized\\\\Maltese_dog\\\\n02085936_9037.png', 1),\n ('./Images-resized\\\\Maltese_dog\\\\n02085936_9086.png', 1),\n ('./Images-resized\\\\Maltese_dog\\\\n02085936_9088.png', 1),\n ('./Images-resized\\\\Maltese_dog\\\\n02085936_9136.png', 1),\n ('./Images-resized\\\\Maltese_dog\\\\n02085936_9141.png', 1),\n ('./Images-resized\\\\Maltese_dog\\\\n02085936_9270.png', 1),\n ('./Images-resized\\\\Maltese_dog\\\\n02085936_9310.png', 1),\n ('./Images-resized\\\\Maltese_dog\\\\n02085936_9367.png', 1),\n ('./Images-resized\\\\Maltese_dog\\\\n02085936_9481.png', 1),\n ('./Images-resized\\\\Maltese_dog\\\\n02085936_9590.png', 1),\n ('./Images-resized\\\\Maltese_dog\\\\n02085936_9632.png', 1),\n ('./Images-resized\\\\Maltese_dog\\\\n02085936_9742.png', 1),\n ('./Images-resized\\\\Maltese_dog\\\\n02085936_9812.png', 1),\n ('./Images-resized\\\\Maltese_dog\\\\n02085936_9927.png', 1),\n ('./Images-resized\\\\Pekinese\\\\n02086079_10059.png', 2),\n ('./Images-resized\\\\Pekinese\\\\n02086079_10159.png', 2),\n ('./Images-resized\\\\Pekinese\\\\n02086079_1020.png', 2),\n ('./Images-resized\\\\Pekinese\\\\n02086079_10294.png', 2),\n ('./Images-resized\\\\Pekinese\\\\n02086079_10373.png', 2),\n ('./Images-resized\\\\Pekinese\\\\n02086079_10600.png', 2),\n ('./Images-resized\\\\Pekinese\\\\n02086079_10603.png', 2),\n ('./Images-resized\\\\Pekinese\\\\n02086079_10613.png', 2),\n ('./Images-resized\\\\Pekinese\\\\n02086079_10615.png', 2),\n ('./Images-resized\\\\Pekinese\\\\n02086079_10627.png', 2),\n ('./Images-resized\\\\Pekinese\\\\n02086079_10689.png', 2),\n ('./Images-resized\\\\Pekinese\\\\n02086079_10721.png', 2),\n ('./Images-resized\\\\Pekinese\\\\n02086079_10932.png', 2),\n ('./Images-resized\\\\Pekinese\\\\n02086079_10951.png', 2),\n ('./Images-resized\\\\Pekinese\\\\n02086079_10958.png', 2),\n ('./Images-resized\\\\Pekinese\\\\n02086079_11089.png', 2),\n ('./Images-resized\\\\Pekinese\\\\n02086079_11322.png', 2),\n ('./Images-resized\\\\Pekinese\\\\n02086079_11420.png', 2),\n ('./Images-resized\\\\Pekinese\\\\n02086079_11511.png', 2),\n ('./Images-resized\\\\Pekinese\\\\n02086079_11664.png', 2),\n ('./Images-resized\\\\Pekinese\\\\n02086079_11679.png', 2),\n ('./Images-resized\\\\Pekinese\\\\n02086079_11684.png', 2),\n ('./Images-resized\\\\Pekinese\\\\n02086079_11984.png', 2),\n ('./Images-resized\\\\Pekinese\\\\n02086079_12125.png', 2),\n ('./Images-resized\\\\Pekinese\\\\n02086079_12321.png', 2),\n ('./Images-resized\\\\Pekinese\\\\n02086079_13024.png', 2),\n ('./Images-resized\\\\Pekinese\\\\n02086079_13647.png', 2),\n ('./Images-resized\\\\Pekinese\\\\n02086079_13897.png', 2),\n ('./Images-resized\\\\Pekinese\\\\n02086079_14208.png', 2),\n ('./Images-resized\\\\Pekinese\\\\n02086079_14307.png', 2),\n ('./Images-resized\\\\Pekinese\\\\n02086079_14359.png', 2),\n ('./Images-resized\\\\Pekinese\\\\n02086079_14360.png', 2),\n ('./Images-resized\\\\Pekinese\\\\n02086079_1451.png', 2),\n ('./Images-resized\\\\Pekinese\\\\n02086079_14532.png', 2),\n ('./Images-resized\\\\Pekinese\\\\n02086079_146.png', 2),\n ('./Images-resized\\\\Pekinese\\\\n02086079_14748.png', 2),\n ('./Images-resized\\\\Pekinese\\\\n02086079_14929.png', 2),\n ('./Images-resized\\\\Pekinese\\\\n02086079_14999.png', 2),\n ('./Images-resized\\\\Pekinese\\\\n02086079_15220.png', 2),\n ('./Images-resized\\\\Pekinese\\\\n02086079_15375.png', 2),\n ('./Images-resized\\\\Pekinese\\\\n02086079_155.png', 2),\n ('./Images-resized\\\\Pekinese\\\\n02086079_15842.png', 2),\n ('./Images-resized\\\\Pekinese\\\\n02086079_15871.png', 2),\n ('./Images-resized\\\\Pekinese\\\\n02086079_1591.png', 2),\n ('./Images-resized\\\\Pekinese\\\\n02086079_15979.png', 2),\n ('./Images-resized\\\\Pekinese\\\\n02086079_16268.png', 2),\n ('./Images-resized\\\\Pekinese\\\\n02086079_16313.png', 2),\n ('./Images-resized\\\\Pekinese\\\\n02086079_16367.png', 2),\n ('./Images-resized\\\\Pekinese\\\\n02086079_16693.png', 2),\n ('./Images-resized\\\\Pekinese\\\\n02086079_16979.png', 2),\n ('./Images-resized\\\\Pekinese\\\\n02086079_17015.png', 2),\n ('./Images-resized\\\\Pekinese\\\\n02086079_17103.png', 2),\n ('./Images-resized\\\\Pekinese\\\\n02086079_17205.png', 2),\n ('./Images-resized\\\\Pekinese\\\\n02086079_17291.png', 2),\n ('./Images-resized\\\\Pekinese\\\\n02086079_17564.png', 2),\n ('./Images-resized\\\\Pekinese\\\\n02086079_1759.png', 2),\n ('./Images-resized\\\\Pekinese\\\\n02086079_17686.png', 2),\n ('./Images-resized\\\\Pekinese\\\\n02086079_17886.png', 2),\n ('./Images-resized\\\\Pekinese\\\\n02086079_17983.png', 2),\n ('./Images-resized\\\\Pekinese\\\\n02086079_1820.png', 2),\n ('./Images-resized\\\\Pekinese\\\\n02086079_186.png', 2),\n ('./Images-resized\\\\Pekinese\\\\n02086079_18764.png', 2),\n ('./Images-resized\\\\Pekinese\\\\n02086079_1877.png', 2),\n ('./Images-resized\\\\Pekinese\\\\n02086079_18899.png', 2),\n ('./Images-resized\\\\Pekinese\\\\n02086079_19690.png', 2),\n ('./Images-resized\\\\Pekinese\\\\n02086079_19863.png', 2),\n ('./Images-resized\\\\Pekinese\\\\n02086079_20360.png', 2),\n ('./Images-resized\\\\Pekinese\\\\n02086079_207.png', 2),\n ('./Images-resized\\\\Pekinese\\\\n02086079_2073.png', 2),\n ('./Images-resized\\\\Pekinese\\\\n02086079_20762.png', 2),\n ('./Images-resized\\\\Pekinese\\\\n02086079_21103.png', 2),\n ('./Images-resized\\\\Pekinese\\\\n02086079_21117.png', 2),\n ('./Images-resized\\\\Pekinese\\\\n02086079_21987.png', 2),\n ('./Images-resized\\\\Pekinese\\\\n02086079_2209.png', 2),\n ('./Images-resized\\\\Pekinese\\\\n02086079_22136.png', 2),\n ('./Images-resized\\\\Pekinese\\\\n02086079_22412.png', 2),\n ('./Images-resized\\\\Pekinese\\\\n02086079_2287.png', 2),\n ('./Images-resized\\\\Pekinese\\\\n02086079_23100.png', 2),\n ('./Images-resized\\\\Pekinese\\\\n02086079_2358.png', 2),\n ('./Images-resized\\\\Pekinese\\\\n02086079_2368.png', 2),\n ('./Images-resized\\\\Pekinese\\\\n02086079_2766.png', 2),\n ('./Images-resized\\\\Pekinese\\\\n02086079_2793.png', 2),\n ('./Images-resized\\\\Pekinese\\\\n02086079_2893.png', 2),\n ('./Images-resized\\\\Pekinese\\\\n02086079_2933.png', 2),\n ('./Images-resized\\\\Pekinese\\\\n02086079_2935.png', 2),\n ('./Images-resized\\\\Pekinese\\\\n02086079_3149.png', 2),\n ('./Images-resized\\\\Pekinese\\\\n02086079_3174.png', 2),\n ('./Images-resized\\\\Pekinese\\\\n02086079_3402.png', 2),\n ('./Images-resized\\\\Pekinese\\\\n02086079_347.png', 2),\n ('./Images-resized\\\\Pekinese\\\\n02086079_3493.png', 2),\n ('./Images-resized\\\\Pekinese\\\\n02086079_356.png', 2),\n ('./Images-resized\\\\Pekinese\\\\n02086079_3774.png', 2),\n ('./Images-resized\\\\Pekinese\\\\n02086079_380.png', 2),\n ('./Images-resized\\\\Pekinese\\\\n02086079_3832.png', 2),\n ('./Images-resized\\\\Pekinese\\\\n02086079_3996.png', 2),\n ('./Images-resized\\\\Pekinese\\\\n02086079_4129.png', 2),\n ('./Images-resized\\\\Pekinese\\\\n02086079_422.png', 2),\n ('./Images-resized\\\\Pekinese\\\\n02086079_4350.png', 2),\n ('./Images-resized\\\\Pekinese\\\\n02086079_4355.png', 2),\n ('./Images-resized\\\\Pekinese\\\\n02086079_4412.png', 2),\n ('./Images-resized\\\\Pekinese\\\\n02086079_4456.png', 2),\n ('./Images-resized\\\\Pekinese\\\\n02086079_4843.png', 2),\n ('./Images-resized\\\\Pekinese\\\\n02086079_4984.png', 2),\n ('./Images-resized\\\\Pekinese\\\\n02086079_499.png', 2),\n ('./Images-resized\\\\Pekinese\\\\n02086079_5053.png', 2),\n ('./Images-resized\\\\Pekinese\\\\n02086079_5087.png', 2),\n ('./Images-resized\\\\Pekinese\\\\n02086079_5106.png', 2),\n ('./Images-resized\\\\Pekinese\\\\n02086079_5125.png', 2),\n ('./Images-resized\\\\Pekinese\\\\n02086079_5197.png', 2),\n ('./Images-resized\\\\Pekinese\\\\n02086079_5522.png', 2),\n ('./Images-resized\\\\Pekinese\\\\n02086079_5555.png', 2),\n ('./Images-resized\\\\Pekinese\\\\n02086079_5590.png', 2),\n ('./Images-resized\\\\Pekinese\\\\n02086079_5766.png', 2),\n ('./Images-resized\\\\Pekinese\\\\n02086079_606.png', 2),\n ('./Images-resized\\\\Pekinese\\\\n02086079_6096.png', 2),\n ('./Images-resized\\\\Pekinese\\\\n02086079_6180.png', 2),\n ('./Images-resized\\\\Pekinese\\\\n02086079_6243.png', 2),\n ('./Images-resized\\\\Pekinese\\\\n02086079_6333.png', 2),\n ('./Images-resized\\\\Pekinese\\\\n02086079_6467.png', 2),\n ('./Images-resized\\\\Pekinese\\\\n02086079_6620.png', 2),\n ('./Images-resized\\\\Pekinese\\\\n02086079_6712.png', 2),\n ('./Images-resized\\\\Pekinese\\\\n02086079_6926.png', 2),\n ('./Images-resized\\\\Pekinese\\\\n02086079_6956.png', 2),\n ('./Images-resized\\\\Pekinese\\\\n02086079_7027.png', 2),\n ('./Images-resized\\\\Pekinese\\\\n02086079_7068.png', 2),\n ('./Images-resized\\\\Pekinese\\\\n02086079_7235.png', 2),\n ('./Images-resized\\\\Pekinese\\\\n02086079_7302.png', 2),\n ('./Images-resized\\\\Pekinese\\\\n02086079_7769.png', 2),\n ('./Images-resized\\\\Pekinese\\\\n02086079_7817.png', 2),\n ('./Images-resized\\\\Pekinese\\\\n02086079_7944.png', 2),\n ('./Images-resized\\\\Pekinese\\\\n02086079_7959.png', 2),\n ('./Images-resized\\\\Pekinese\\\\n02086079_8074.png', 2),\n ('./Images-resized\\\\Pekinese\\\\n02086079_8127.png', 2),\n ('./Images-resized\\\\Pekinese\\\\n02086079_8204.png', 2),\n ('./Images-resized\\\\Pekinese\\\\n02086079_8229.png', 2),\n ('./Images-resized\\\\Pekinese\\\\n02086079_8595.png', 2),\n ('./Images-resized\\\\Pekinese\\\\n02086079_869.png', 2),\n ('./Images-resized\\\\Pekinese\\\\n02086079_8726.png', 2),\n ('./Images-resized\\\\Pekinese\\\\n02086079_8826.png', 2),\n ('./Images-resized\\\\Pekinese\\\\n02086079_884.png', 2),\n ('./Images-resized\\\\Pekinese\\\\n02086079_8902.png', 2),\n ('./Images-resized\\\\Pekinese\\\\n02086079_904.png', 2),\n ('./Images-resized\\\\Pekinese\\\\n02086079_9151.png', 2),\n ('./Images-resized\\\\Pekinese\\\\n02086079_9316.png', 2),\n ('./Images-resized\\\\Pekinese\\\\n02086079_937.png', 2),\n ('./Images-resized\\\\Pekinese\\\\n02086079_9408.png', 2),\n ('./Images-resized\\\\Pekinese\\\\n02086079_952.png', 2),\n ('./Images-resized\\\\Pekinese\\\\n02086079_9756.png', 2),\n ('./Images-resized\\\\Pekinese\\\\n02086079_9847.png', 2),\n ('./Images-resized\\\\Shih-Tzu\\\\n02086240_1011.png', 3),\n ('./Images-resized\\\\Shih-Tzu\\\\n02086240_1016.png', 3),\n ('./Images-resized\\\\Shih-Tzu\\\\n02086240_1059.png', 3),\n ('./Images-resized\\\\Shih-Tzu\\\\n02086240_1078.png', 3),\n ('./Images-resized\\\\Shih-Tzu\\\\n02086240_10785.png', 3),\n ('./Images-resized\\\\Shih-Tzu\\\\n02086240_1082.png', 3),\n ('./Images-resized\\\\Shih-Tzu\\\\n02086240_110.png', 3),\n ('./Images-resized\\\\Shih-Tzu\\\\n02086240_11085.png', 3),\n ('./Images-resized\\\\Shih-Tzu\\\\n02086240_11139.png', 3),\n ('./Images-resized\\\\Shih-Tzu\\\\n02086240_1142.png', 3),\n ('./Images-resized\\\\Shih-Tzu\\\\n02086240_11420.png', 3),\n ('./Images-resized\\\\Shih-Tzu\\\\n02086240_11539.png', 3),\n ('./Images-resized\\\\Shih-Tzu\\\\n02086240_11551.png', 3),\n ('./Images-resized\\\\Shih-Tzu\\\\n02086240_11622.png', 3),\n ('./Images-resized\\\\Shih-Tzu\\\\n02086240_11692.png', 3),\n ('./Images-resized\\\\Shih-Tzu\\\\n02086240_1170.png', 3),\n ('./Images-resized\\\\Shih-Tzu\\\\n02086240_11766.png', 3),\n ('./Images-resized\\\\Shih-Tzu\\\\n02086240_11959.png', 3),\n ('./Images-resized\\\\Shih-Tzu\\\\n02086240_12003.png', 3),\n ('./Images-resized\\\\Shih-Tzu\\\\n02086240_1205.png', 3),\n ('./Images-resized\\\\Shih-Tzu\\\\n02086240_12057.png', 3),\n ('./Images-resized\\\\Shih-Tzu\\\\n02086240_1215.png', 3),\n ('./Images-resized\\\\Shih-Tzu\\\\n02086240_12314.png', 3),\n ('./Images-resized\\\\Shih-Tzu\\\\n02086240_12315.png', 3),\n ('./Images-resized\\\\Shih-Tzu\\\\n02086240_12342.png', 3),\n ('./Images-resized\\\\Shih-Tzu\\\\n02086240_12348.png', 3),\n ('./Images-resized\\\\Shih-Tzu\\\\n02086240_12480.png', 3),\n ('./Images-resized\\\\Shih-Tzu\\\\n02086240_1249.png', 3),\n ('./Images-resized\\\\Shih-Tzu\\\\n02086240_1259.png', 3),\n ('./Images-resized\\\\Shih-Tzu\\\\n02086240_126.png', 3),\n ('./Images-resized\\\\Shih-Tzu\\\\n02086240_12650.png', 3),\n ('./Images-resized\\\\Shih-Tzu\\\\n02086240_1267.png', 3),\n ('./Images-resized\\\\Shih-Tzu\\\\n02086240_12796.png', 3),\n ('./Images-resized\\\\Shih-Tzu\\\\n02086240_1295.png', 3),\n ('./Images-resized\\\\Shih-Tzu\\\\n02086240_1333.png', 3),\n ('./Images-resized\\\\Shih-Tzu\\\\n02086240_134.png', 3),\n ('./Images-resized\\\\Shih-Tzu\\\\n02086240_135.png', 3),\n ('./Images-resized\\\\Shih-Tzu\\\\n02086240_1366.png', 3),\n ('./Images-resized\\\\Shih-Tzu\\\\n02086240_1370.png', 3),\n ('./Images-resized\\\\Shih-Tzu\\\\n02086240_1445.png', 3),\n ('./Images-resized\\\\Shih-Tzu\\\\n02086240_1602.png', 3),\n ('./Images-resized\\\\Shih-Tzu\\\\n02086240_1621.png', 3),\n ('./Images-resized\\\\Shih-Tzu\\\\n02086240_1665.png', 3),\n ('./Images-resized\\\\Shih-Tzu\\\\n02086240_1687.png', 3),\n ('./Images-resized\\\\Shih-Tzu\\\\n02086240_1690.png', 3),\n ('./Images-resized\\\\Shih-Tzu\\\\n02086240_1725.png', 3),\n ('./Images-resized\\\\Shih-Tzu\\\\n02086240_1770.png', 3),\n ('./Images-resized\\\\Shih-Tzu\\\\n02086240_1779.png', 3),\n ('./Images-resized\\\\Shih-Tzu\\\\n02086240_1843.png', 3),\n ('./Images-resized\\\\Shih-Tzu\\\\n02086240_1856.png', 3),\n ('./Images-resized\\\\Shih-Tzu\\\\n02086240_1859.png', 3),\n ('./Images-resized\\\\Shih-Tzu\\\\n02086240_1874.png', 3),\n ('./Images-resized\\\\Shih-Tzu\\\\n02086240_1927.png', 3),\n ('./Images-resized\\\\Shih-Tzu\\\\n02086240_1958.png', 3),\n ('./Images-resized\\\\Shih-Tzu\\\\n02086240_2003.png', 3),\n ('./Images-resized\\\\Shih-Tzu\\\\n02086240_2077.png', 3),\n ('./Images-resized\\\\Shih-Tzu\\\\n02086240_2113.png', 3),\n ('./Images-resized\\\\Shih-Tzu\\\\n02086240_2211.png', 3),\n ('./Images-resized\\\\Shih-Tzu\\\\n02086240_2254.png', 3),\n ('./Images-resized\\\\Shih-Tzu\\\\n02086240_2335.png', 3),\n ('./Images-resized\\\\Shih-Tzu\\\\n02086240_2417.png', 3),\n ('./Images-resized\\\\Shih-Tzu\\\\n02086240_2526.png', 3),\n ('./Images-resized\\\\Shih-Tzu\\\\n02086240_254.png', 3),\n ('./Images-resized\\\\Shih-Tzu\\\\n02086240_2705.png', 3),\n ('./Images-resized\\\\Shih-Tzu\\\\n02086240_271.png', 3),\n ('./Images-resized\\\\Shih-Tzu\\\\n02086240_2710.png', 3),\n ('./Images-resized\\\\Shih-Tzu\\\\n02086240_272.png', 3),\n ('./Images-resized\\\\Shih-Tzu\\\\n02086240_2961.png', 3),\n ('./Images-resized\\\\Shih-Tzu\\\\n02086240_30.png', 3),\n ('./Images-resized\\\\Shih-Tzu\\\\n02086240_3050.png', 3),\n ('./Images-resized\\\\Shih-Tzu\\\\n02086240_306.png', 3),\n ('./Images-resized\\\\Shih-Tzu\\\\n02086240_3094.png', 3),\n ('./Images-resized\\\\Shih-Tzu\\\\n02086240_3137.png', 3),\n ('./Images-resized\\\\Shih-Tzu\\\\n02086240_3175.png', 3),\n ('./Images-resized\\\\Shih-Tzu\\\\n02086240_3186.png', 3),\n ('./Images-resized\\\\Shih-Tzu\\\\n02086240_3217.png', 3),\n ('./Images-resized\\\\Shih-Tzu\\\\n02086240_3227.png', 3),\n ('./Images-resized\\\\Shih-Tzu\\\\n02086240_323.png', 3),\n ('./Images-resized\\\\Shih-Tzu\\\\n02086240_3254.png', 3),\n ('./Images-resized\\\\Shih-Tzu\\\\n02086240_34.png', 3),\n ('./Images-resized\\\\Shih-Tzu\\\\n02086240_3424.png', 3),\n ('./Images-resized\\\\Shih-Tzu\\\\n02086240_3489.png', 3),\n ('./Images-resized\\\\Shih-Tzu\\\\n02086240_3493.png', 3),\n ('./Images-resized\\\\Shih-Tzu\\\\n02086240_3558.png', 3),\n ('./Images-resized\\\\Shih-Tzu\\\\n02086240_3582.png', 3),\n ('./Images-resized\\\\Shih-Tzu\\\\n02086240_3719.png', 3),\n ('./Images-resized\\\\Shih-Tzu\\\\n02086240_3738.png', 3),\n ('./Images-resized\\\\Shih-Tzu\\\\n02086240_3802.png', 3),\n ('./Images-resized\\\\Shih-Tzu\\\\n02086240_3814.png', 3),\n ('./Images-resized\\\\Shih-Tzu\\\\n02086240_3827.png', 3),\n ('./Images-resized\\\\Shih-Tzu\\\\n02086240_3862.png', 3),\n ('./Images-resized\\\\Shih-Tzu\\\\n02086240_3921.png', 3),\n ('./Images-resized\\\\Shih-Tzu\\\\n02086240_3961.png', 3),\n ('./Images-resized\\\\Shih-Tzu\\\\n02086240_3979.png', 3),\n ('./Images-resized\\\\Shih-Tzu\\\\n02086240_3983.png', 3),\n ('./Images-resized\\\\Shih-Tzu\\\\n02086240_4013.png', 3),\n ('./Images-resized\\\\Shih-Tzu\\\\n02086240_4127.png', 3),\n ('./Images-resized\\\\Shih-Tzu\\\\n02086240_415.png', 3),\n ('./Images-resized\\\\Shih-Tzu\\\\n02086240_4190.png', 3),\n ('./Images-resized\\\\Shih-Tzu\\\\n02086240_4252.png', 3),\n ('./Images-resized\\\\Shih-Tzu\\\\n02086240_4255.png', 3),\n ('./Images-resized\\\\Shih-Tzu\\\\n02086240_4346.png', 3),\n ('./Images-resized\\\\Shih-Tzu\\\\n02086240_4430.png', 3),\n ('./Images-resized\\\\Shih-Tzu\\\\n02086240_4449.png', 3),\n ('./Images-resized\\\\Shih-Tzu\\\\n02086240_447.png', 3),\n ('./Images-resized\\\\Shih-Tzu\\\\n02086240_4544.png', 3),\n ('./Images-resized\\\\Shih-Tzu\\\\n02086240_457.png', 3),\n ('./Images-resized\\\\Shih-Tzu\\\\n02086240_4570.png', 3),\n ('./Images-resized\\\\Shih-Tzu\\\\n02086240_46.png', 3),\n ('./Images-resized\\\\Shih-Tzu\\\\n02086240_4608.png', 3),\n ('./Images-resized\\\\Shih-Tzu\\\\n02086240_4625.png', 3),\n ('./Images-resized\\\\Shih-Tzu\\\\n02086240_4629.png', 3),\n ('./Images-resized\\\\Shih-Tzu\\\\n02086240_4669.png', 3),\n ('./Images-resized\\\\Shih-Tzu\\\\n02086240_4751.png', 3),\n ('./Images-resized\\\\Shih-Tzu\\\\n02086240_4776.png', 3),\n ('./Images-resized\\\\Shih-Tzu\\\\n02086240_4808.png', 3),\n ('./Images-resized\\\\Shih-Tzu\\\\n02086240_4865.png', 3),\n ('./Images-resized\\\\Shih-Tzu\\\\n02086240_4999.png', 3),\n ('./Images-resized\\\\Shih-Tzu\\\\n02086240_5042.png', 3),\n ('./Images-resized\\\\Shih-Tzu\\\\n02086240_5096.png', 3),\n ('./Images-resized\\\\Shih-Tzu\\\\n02086240_5140.png', 3),\n ('./Images-resized\\\\Shih-Tzu\\\\n02086240_5212.png', 3),\n ('./Images-resized\\\\Shih-Tzu\\\\n02086240_5246.png', 3),\n ('./Images-resized\\\\Shih-Tzu\\\\n02086240_5316.png', 3),\n ('./Images-resized\\\\Shih-Tzu\\\\n02086240_533.png', 3),\n ('./Images-resized\\\\Shih-Tzu\\\\n02086240_5352.png', 3),\n ('./Images-resized\\\\Shih-Tzu\\\\n02086240_5443.png', 3),\n ('./Images-resized\\\\Shih-Tzu\\\\n02086240_5520.png', 3),\n ('./Images-resized\\\\Shih-Tzu\\\\n02086240_5536.png', 3),\n ('./Images-resized\\\\Shih-Tzu\\\\n02086240_5541.png', 3),\n ('./Images-resized\\\\Shih-Tzu\\\\n02086240_5546.png', 3),\n ('./Images-resized\\\\Shih-Tzu\\\\n02086240_5554.png', 3),\n ('./Images-resized\\\\Shih-Tzu\\\\n02086240_5627.png', 3),\n ('./Images-resized\\\\Shih-Tzu\\\\n02086240_5696.png', 3),\n ('./Images-resized\\\\Shih-Tzu\\\\n02086240_5703.png', 3),\n ('./Images-resized\\\\Shih-Tzu\\\\n02086240_574.png', 3),\n ('./Images-resized\\\\Shih-Tzu\\\\n02086240_5889.png', 3),\n ('./Images-resized\\\\Shih-Tzu\\\\n02086240_5957.png', 3),\n ('./Images-resized\\\\Shih-Tzu\\\\n02086240_5976.png', 3),\n ('./Images-resized\\\\Shih-Tzu\\\\n02086240_599.png', 3),\n ('./Images-resized\\\\Shih-Tzu\\\\n02086240_5994.png', 3),\n ('./Images-resized\\\\Shih-Tzu\\\\n02086240_6032.png', 3),\n ('./Images-resized\\\\Shih-Tzu\\\\n02086240_6082.png', 3),\n ('./Images-resized\\\\Shih-Tzu\\\\n02086240_61.png', 3),\n ('./Images-resized\\\\Shih-Tzu\\\\n02086240_6106.png', 3),\n ('./Images-resized\\\\Shih-Tzu\\\\n02086240_6116.png', 3),\n ('./Images-resized\\\\Shih-Tzu\\\\n02086240_6131.png', 3),\n ('./Images-resized\\\\Shih-Tzu\\\\n02086240_6222.png', 3),\n ('./Images-resized\\\\Shih-Tzu\\\\n02086240_6269.png', 3),\n ('./Images-resized\\\\Shih-Tzu\\\\n02086240_6322.png', 3),\n ('./Images-resized\\\\Shih-Tzu\\\\n02086240_6323.png', 3),\n ('./Images-resized\\\\Shih-Tzu\\\\n02086240_646.png', 3),\n ('./Images-resized\\\\Shih-Tzu\\\\n02086240_6463.png', 3),\n ('./Images-resized\\\\Shih-Tzu\\\\n02086240_6477.png', 3),\n ('./Images-resized\\\\Shih-Tzu\\\\n02086240_6585.png', 3),\n ('./Images-resized\\\\Shih-Tzu\\\\n02086240_6587.png', 3),\n ('./Images-resized\\\\Shih-Tzu\\\\n02086240_6606.png', 3),\n ('./Images-resized\\\\Shih-Tzu\\\\n02086240_6647.png', 3),\n ('./Images-resized\\\\Shih-Tzu\\\\n02086240_6795.png', 3),\n ('./Images-resized\\\\Shih-Tzu\\\\n02086240_6819.png', 3),\n ('./Images-resized\\\\Shih-Tzu\\\\n02086240_6833.png', 3),\n ('./Images-resized\\\\Shih-Tzu\\\\n02086240_6849.png', 3),\n ('./Images-resized\\\\Shih-Tzu\\\\n02086240_6871.png', 3),\n ('./Images-resized\\\\Shih-Tzu\\\\n02086240_6882.png', 3),\n ('./Images-resized\\\\Shih-Tzu\\\\n02086240_6898.png', 3),\n ('./Images-resized\\\\Shih-Tzu\\\\n02086240_6911.png', 3),\n ('./Images-resized\\\\Shih-Tzu\\\\n02086240_6924.png', 3),\n ('./Images-resized\\\\Shih-Tzu\\\\n02086240_6992.png', 3),\n ('./Images-resized\\\\Shih-Tzu\\\\n02086240_707.png', 3),\n ('./Images-resized\\\\Shih-Tzu\\\\n02086240_7079.png', 3),\n ('./Images-resized\\\\Shih-Tzu\\\\n02086240_7093.png', 3),\n ('./Images-resized\\\\Shih-Tzu\\\\n02086240_7100.png', 3),\n ('./Images-resized\\\\Shih-Tzu\\\\n02086240_7110.png', 3),\n ('./Images-resized\\\\Shih-Tzu\\\\n02086240_7123.png', 3),\n ('./Images-resized\\\\Shih-Tzu\\\\n02086240_7142.png', 3),\n ('./Images-resized\\\\Shih-Tzu\\\\n02086240_7170.png', 3),\n ('./Images-resized\\\\Shih-Tzu\\\\n02086240_7195.png', 3),\n ('./Images-resized\\\\Shih-Tzu\\\\n02086240_7205.png', 3),\n ('./Images-resized\\\\Shih-Tzu\\\\n02086240_7207.png', 3),\n ('./Images-resized\\\\Shih-Tzu\\\\n02086240_7209.png', 3),\n ('./Images-resized\\\\Shih-Tzu\\\\n02086240_7221.png', 3),\n ('./Images-resized\\\\Shih-Tzu\\\\n02086240_7248.png', 3),\n ('./Images-resized\\\\Shih-Tzu\\\\n02086240_7266.png', 3),\n ('./Images-resized\\\\Shih-Tzu\\\\n02086240_7299.png', 3),\n ('./Images-resized\\\\Shih-Tzu\\\\n02086240_7349.png', 3),\n ('./Images-resized\\\\Shih-Tzu\\\\n02086240_739.png', 3),\n ('./Images-resized\\\\Shih-Tzu\\\\n02086240_7404.png', 3),\n ('./Images-resized\\\\Shih-Tzu\\\\n02086240_745.png', 3),\n ('./Images-resized\\\\Shih-Tzu\\\\n02086240_7454.png', 3),\n ('./Images-resized\\\\Shih-Tzu\\\\n02086240_756.png', 3),\n ('./Images-resized\\\\Shih-Tzu\\\\n02086240_762.png', 3),\n ('./Images-resized\\\\Shih-Tzu\\\\n02086240_7728.png', 3),\n ('./Images-resized\\\\Shih-Tzu\\\\n02086240_788.png', 3),\n ('./Images-resized\\\\Shih-Tzu\\\\n02086240_789.png', 3),\n ('./Images-resized\\\\Shih-Tzu\\\\n02086240_7954.png', 3),\n ('./Images-resized\\\\Shih-Tzu\\\\n02086240_7978.png', 3),\n ('./Images-resized\\\\Shih-Tzu\\\\n02086240_8017.png', 3),\n ('./Images-resized\\\\Shih-Tzu\\\\n02086240_8049.png', 3),\n ('./Images-resized\\\\Shih-Tzu\\\\n02086240_8108.png', 3),\n ('./Images-resized\\\\Shih-Tzu\\\\n02086240_818.png', 3),\n ('./Images-resized\\\\Shih-Tzu\\\\n02086240_8205.png', 3),\n ('./Images-resized\\\\Shih-Tzu\\\\n02086240_8489.png', 3),\n ('./Images-resized\\\\Shih-Tzu\\\\n02086240_8812.png', 3),\n ('./Images-resized\\\\Shih-Tzu\\\\n02086240_8825.png', 3),\n ('./Images-resized\\\\Shih-Tzu\\\\n02086240_9.png', 3),\n ('./Images-resized\\\\Shih-Tzu\\\\n02086240_9098.png', 3),\n ('./Images-resized\\\\Shih-Tzu\\\\n02086240_9293.png', 3),\n ('./Images-resized\\\\Shih-Tzu\\\\n02086240_936.png', 3),\n ('./Images-resized\\\\Shih-Tzu\\\\n02086240_9429.png', 3),\n ('./Images-resized\\\\Shih-Tzu\\\\n02086240_9467.png', 3),\n ('./Images-resized\\\\Shih-Tzu\\\\n02086240_9551.png', 3),\n ('./Images-resized\\\\Shih-Tzu\\\\n02086240_963.png', 3),\n ('./Images-resized\\\\Shih-Tzu\\\\n02086240_968.png', 3),\n ('./Images-resized\\\\Shih-Tzu\\\\n02086240_9750.png', 3),\n ('./Images-resized\\\\beagle\\\\n02088364_10108.png', 4),\n ('./Images-resized\\\\beagle\\\\n02088364_10206.png', 4),\n ('./Images-resized\\\\beagle\\\\n02088364_10296.png', 4),\n ('./Images-resized\\\\beagle\\\\n02088364_10354.png', 4),\n ('./Images-resized\\\\beagle\\\\n02088364_10362.png', 4),\n ('./Images-resized\\\\beagle\\\\n02088364_10575.png', 4),\n ('./Images-resized\\\\beagle\\\\n02088364_10585.png', 4),\n ('./Images-resized\\\\beagle\\\\n02088364_10731.png', 4),\n ('./Images-resized\\\\beagle\\\\n02088364_10798.png', 4),\n ('./Images-resized\\\\beagle\\\\n02088364_10947.png', 4),\n ('./Images-resized\\\\beagle\\\\n02088364_11130.png', 4),\n ('./Images-resized\\\\beagle\\\\n02088364_11136.png', 4),\n ('./Images-resized\\\\beagle\\\\n02088364_11147.png', 4),\n ('./Images-resized\\\\beagle\\\\n02088364_11231.png', 4),\n ('./Images-resized\\\\beagle\\\\n02088364_1128.png', 4),\n ('./Images-resized\\\\beagle\\\\n02088364_11391.png', 4),\n ('./Images-resized\\\\beagle\\\\n02088364_11458.png', 4),\n ('./Images-resized\\\\beagle\\\\n02088364_11509.png', 4),\n ('./Images-resized\\\\beagle\\\\n02088364_11698.png', 4),\n ('./Images-resized\\\\beagle\\\\n02088364_11711.png', 4),\n ('./Images-resized\\\\beagle\\\\n02088364_11828.png', 4),\n ('./Images-resized\\\\beagle\\\\n02088364_11836.png', 4),\n ('./Images-resized\\\\beagle\\\\n02088364_11930.png', 4),\n ('./Images-resized\\\\beagle\\\\n02088364_12102.png', 4),\n ('./Images-resized\\\\beagle\\\\n02088364_12124.png', 4),\n ('./Images-resized\\\\beagle\\\\n02088364_12131.png', 4),\n ('./Images-resized\\\\beagle\\\\n02088364_12154.png', 4),\n ('./Images-resized\\\\beagle\\\\n02088364_12178.png', 4),\n ('./Images-resized\\\\beagle\\\\n02088364_12213.png', 4),\n ('./Images-resized\\\\beagle\\\\n02088364_12291.png', 4),\n ('./Images-resized\\\\beagle\\\\n02088364_12303.png', 4),\n ('./Images-resized\\\\beagle\\\\n02088364_12334.png', 4),\n ('./Images-resized\\\\beagle\\\\n02088364_12397.png', 4),\n ('./Images-resized\\\\beagle\\\\n02088364_12405.png', 4),\n ('./Images-resized\\\\beagle\\\\n02088364_12440.png', 4),\n ('./Images-resized\\\\beagle\\\\n02088364_12710.png', 4),\n ('./Images-resized\\\\beagle\\\\n02088364_12713.png', 4),\n ('./Images-resized\\\\beagle\\\\n02088364_12745.png', 4),\n ('./Images-resized\\\\beagle\\\\n02088364_12756.png', 4),\n ('./Images-resized\\\\beagle\\\\n02088364_12794.png', 4),\n ('./Images-resized\\\\beagle\\\\n02088364_12816.png', 4),\n ('./Images-resized\\\\beagle\\\\n02088364_12869.png', 4),\n ('./Images-resized\\\\beagle\\\\n02088364_129.png', 4),\n ('./Images-resized\\\\beagle\\\\n02088364_12920.png', 4),\n ('./Images-resized\\\\beagle\\\\n02088364_12972.png', 4),\n ('./Images-resized\\\\beagle\\\\n02088364_12973.png', 4),\n ('./Images-resized\\\\beagle\\\\n02088364_13028.png', 4),\n ('./Images-resized\\\\beagle\\\\n02088364_13050.png', 4),\n ('./Images-resized\\\\beagle\\\\n02088364_13128.png', 4),\n ('./Images-resized\\\\beagle\\\\n02088364_13214.png', 4),\n ('./Images-resized\\\\beagle\\\\n02088364_13236.png', 4),\n ('./Images-resized\\\\beagle\\\\n02088364_13428.png', 4),\n ('./Images-resized\\\\beagle\\\\n02088364_13464.png', 4),\n ('./Images-resized\\\\beagle\\\\n02088364_13477.png', 4),\n ('./Images-resized\\\\beagle\\\\n02088364_13478.png', 4),\n ('./Images-resized\\\\beagle\\\\n02088364_13484.png', 4),\n ('./Images-resized\\\\beagle\\\\n02088364_13572.png', 4),\n ('./Images-resized\\\\beagle\\\\n02088364_13627.png', 4),\n ('./Images-resized\\\\beagle\\\\n02088364_13630.png', 4),\n ('./Images-resized\\\\beagle\\\\n02088364_13682.png', 4),\n ('./Images-resized\\\\beagle\\\\n02088364_13809.png', 4),\n ('./Images-resized\\\\beagle\\\\n02088364_1384.png', 4),\n ('./Images-resized\\\\beagle\\\\n02088364_13944.png', 4),\n ('./Images-resized\\\\beagle\\\\n02088364_13981.png', 4),\n ('./Images-resized\\\\beagle\\\\n02088364_14055.png', 4),\n ('./Images-resized\\\\beagle\\\\n02088364_14079.png', 4),\n ('./Images-resized\\\\beagle\\\\n02088364_14095.png', 4),\n ('./Images-resized\\\\beagle\\\\n02088364_14220.png', 4),\n ('./Images-resized\\\\beagle\\\\n02088364_14369.png', 4),\n ('./Images-resized\\\\beagle\\\\n02088364_14394.png', 4),\n ('./Images-resized\\\\beagle\\\\n02088364_14431.png', 4),\n ('./Images-resized\\\\beagle\\\\n02088364_14548.png', 4),\n ('./Images-resized\\\\beagle\\\\n02088364_14613.png', 4),\n ('./Images-resized\\\\beagle\\\\n02088364_14663.png', 4),\n ('./Images-resized\\\\beagle\\\\n02088364_14690.png', 4),\n ('./Images-resized\\\\beagle\\\\n02088364_14702.png', 4),\n ('./Images-resized\\\\beagle\\\\n02088364_14779.png', 4),\n ('./Images-resized\\\\beagle\\\\n02088364_14863.png', 4),\n ('./Images-resized\\\\beagle\\\\n02088364_14892.png', 4),\n ('./Images-resized\\\\beagle\\\\n02088364_14911.png', 4),\n ('./Images-resized\\\\beagle\\\\n02088364_14968.png', 4),\n ('./Images-resized\\\\beagle\\\\n02088364_15036.png', 4),\n ('./Images-resized\\\\beagle\\\\n02088364_1507.png', 4),\n ('./Images-resized\\\\beagle\\\\n02088364_15082.png', 4),\n ('./Images-resized\\\\beagle\\\\n02088364_15093.png', 4),\n ('./Images-resized\\\\beagle\\\\n02088364_15111.png', 4),\n ('./Images-resized\\\\beagle\\\\n02088364_15305.png', 4),\n ('./Images-resized\\\\beagle\\\\n02088364_15315.png', 4),\n ('./Images-resized\\\\beagle\\\\n02088364_15370.png', 4),\n ('./Images-resized\\\\beagle\\\\n02088364_15690.png', 4),\n ('./Images-resized\\\\beagle\\\\n02088364_15787.png', 4),\n ('./Images-resized\\\\beagle\\\\n02088364_15877.png', 4),\n ('./Images-resized\\\\beagle\\\\n02088364_16060.png', 4),\n ('./Images-resized\\\\beagle\\\\n02088364_16065.png', 4),\n ('./Images-resized\\\\beagle\\\\n02088364_161.png', 4),\n ('./Images-resized\\\\beagle\\\\n02088364_16165.png', 4),\n ('./Images-resized\\\\beagle\\\\n02088364_16207.png', 4),\n ('./Images-resized\\\\beagle\\\\n02088364_16210.png', 4),\n ('./Images-resized\\\\beagle\\\\n02088364_16339.png', 4),\n ('./Images-resized\\\\beagle\\\\n02088364_16493.png', 4),\n ('./Images-resized\\\\beagle\\\\n02088364_16502.png', 4),\n ('./Images-resized\\\\beagle\\\\n02088364_16508.png', 4),\n ('./Images-resized\\\\beagle\\\\n02088364_16519.png', 4),\n ('./Images-resized\\\\beagle\\\\n02088364_16588.png', 4),\n ('./Images-resized\\\\beagle\\\\n02088364_16635.png', 4),\n ('./Images-resized\\\\beagle\\\\n02088364_16689.png', 4),\n ('./Images-resized\\\\beagle\\\\n02088364_16695.png', 4),\n ('./Images-resized\\\\beagle\\\\n02088364_16704.png', 4),\n ('./Images-resized\\\\beagle\\\\n02088364_16721.png', 4),\n ('./Images-resized\\\\beagle\\\\n02088364_16791.png', 4),\n ('./Images-resized\\\\beagle\\\\n02088364_16881.png', 4),\n ('./Images-resized\\\\beagle\\\\n02088364_16985.png', 4),\n ('./Images-resized\\\\beagle\\\\n02088364_17167.png', 4),\n ('./Images-resized\\\\beagle\\\\n02088364_17170.png', 4),\n ('./Images-resized\\\\beagle\\\\n02088364_17258.png', 4),\n ('./Images-resized\\\\beagle\\\\n02088364_17294.png', 4),\n ('./Images-resized\\\\beagle\\\\n02088364_17314.png', 4),\n ('./Images-resized\\\\beagle\\\\n02088364_17406.png', 4),\n ('./Images-resized\\\\beagle\\\\n02088364_17473.png', 4),\n ('./Images-resized\\\\beagle\\\\n02088364_17474.png', 4),\n ('./Images-resized\\\\beagle\\\\n02088364_17479.png', 4),\n ('./Images-resized\\\\beagle\\\\n02088364_17530.png', 4),\n ('./Images-resized\\\\beagle\\\\n02088364_17534.png', 4),\n ('./Images-resized\\\\beagle\\\\n02088364_17553.png', 4),\n ('./Images-resized\\\\beagle\\\\n02088364_17671.png', 4),\n ('./Images-resized\\\\beagle\\\\n02088364_17689.png', 4),\n ('./Images-resized\\\\beagle\\\\n02088364_17766.png', 4),\n ('./Images-resized\\\\beagle\\\\n02088364_17935.png', 4),\n ('./Images-resized\\\\beagle\\\\n02088364_18403.png', 4),\n ('./Images-resized\\\\beagle\\\\n02088364_2000.png', 4),\n ('./Images-resized\\\\beagle\\\\n02088364_2019.png', 4),\n ('./Images-resized\\\\beagle\\\\n02088364_2106.png', 4),\n ('./Images-resized\\\\beagle\\\\n02088364_2143.png', 4),\n ('./Images-resized\\\\beagle\\\\n02088364_2360.png', 4),\n ('./Images-resized\\\\beagle\\\\n02088364_2415.png', 4),\n ('./Images-resized\\\\beagle\\\\n02088364_2499.png', 4),\n ('./Images-resized\\\\beagle\\\\n02088364_2502.png', 4),\n ('./Images-resized\\\\beagle\\\\n02088364_2566.png', 4),\n ('./Images-resized\\\\beagle\\\\n02088364_2572.png', 4),\n ('./Images-resized\\\\beagle\\\\n02088364_2652.png', 4),\n ('./Images-resized\\\\beagle\\\\n02088364_2661.png', 4),\n ('./Images-resized\\\\beagle\\\\n02088364_2840.png', 4),\n ('./Images-resized\\\\beagle\\\\n02088364_3171.png', 4),\n ('./Images-resized\\\\beagle\\\\n02088364_3752.png', 4),\n ('./Images-resized\\\\beagle\\\\n02088364_3758.png', 4),\n ('./Images-resized\\\\beagle\\\\n02088364_4052.png', 4),\n ('./Images-resized\\\\beagle\\\\n02088364_4070.png', 4),\n ('./Images-resized\\\\beagle\\\\n02088364_4237.png', 4),\n ('./Images-resized\\\\beagle\\\\n02088364_427.png', 4),\n ('./Images-resized\\\\beagle\\\\n02088364_4281.png', 4),\n ('./Images-resized\\\\beagle\\\\n02088364_4473.png', 4),\n ('./Images-resized\\\\beagle\\\\n02088364_4493.png', 4),\n ('./Images-resized\\\\beagle\\\\n02088364_4527.png', 4),\n ('./Images-resized\\\\beagle\\\\n02088364_4706.png', 4),\n ('./Images-resized\\\\beagle\\\\n02088364_4823.png', 4),\n ('./Images-resized\\\\beagle\\\\n02088364_4879.png', 4),\n ('./Images-resized\\\\beagle\\\\n02088364_5090.png', 4),\n ('./Images-resized\\\\beagle\\\\n02088364_5123.png', 4),\n ('./Images-resized\\\\beagle\\\\n02088364_5147.png', 4),\n ('./Images-resized\\\\beagle\\\\n02088364_5282.png', 4),\n ('./Images-resized\\\\beagle\\\\n02088364_5427.png', 4),\n ('./Images-resized\\\\beagle\\\\n02088364_5572.png', 4),\n ('./Images-resized\\\\beagle\\\\n02088364_5716.png', 4),\n ('./Images-resized\\\\beagle\\\\n02088364_5784.png', 4),\n ('./Images-resized\\\\beagle\\\\n02088364_5826.png', 4),\n ('./Images-resized\\\\beagle\\\\n02088364_6089.png', 4),\n ('./Images-resized\\\\beagle\\\\n02088364_6109.png', 4),\n ('./Images-resized\\\\beagle\\\\n02088364_6211.png', 4),\n ('./Images-resized\\\\beagle\\\\n02088364_6358.png', 4),\n ('./Images-resized\\\\beagle\\\\n02088364_639.png', 4),\n ('./Images-resized\\\\beagle\\\\n02088364_6547.png', 4),\n ('./Images-resized\\\\beagle\\\\n02088364_6611.png', 4),\n ('./Images-resized\\\\beagle\\\\n02088364_6866.png', 4),\n ('./Images-resized\\\\beagle\\\\n02088364_7247.png', 4),\n ('./Images-resized\\\\beagle\\\\n02088364_7324.png', 4),\n ('./Images-resized\\\\beagle\\\\n02088364_769.png', 4),\n ('./Images-resized\\\\beagle\\\\n02088364_7784.png', 4),\n ('./Images-resized\\\\beagle\\\\n02088364_7927.png', 4),\n ('./Images-resized\\\\beagle\\\\n02088364_8443.png', 4),\n ('./Images-resized\\\\beagle\\\\n02088364_8477.png', 4),\n ('./Images-resized\\\\beagle\\\\n02088364_852.png', 4),\n ('./Images-resized\\\\beagle\\\\n02088364_8572.png', 4),\n ('./Images-resized\\\\beagle\\\\n02088364_8612.png', 4),\n ('./Images-resized\\\\beagle\\\\n02088364_8713.png', 4),\n ('./Images-resized\\\\beagle\\\\n02088364_876.png', 4),\n ('./Images-resized\\\\beagle\\\\n02088364_8820.png', 4),\n ('./Images-resized\\\\beagle\\\\n02088364_8871.png', 4),\n ('./Images-resized\\\\beagle\\\\n02088364_9318.png', 4),\n ('./Images-resized\\\\beagle\\\\n02088364_9520.png', 4),\n ('./Images-resized\\\\beagle\\\\n02088364_959.png', 4),\n ('./Images-resized\\\\beagle\\\\n02088364_9650.png', 4),\n ('./Images-resized\\\\beagle\\\\n02088364_9652.png', 4),\n ('./Images-resized\\\\beagle\\\\n02088364_9825.png', 4),\n ('./Images-resized\\\\beagle\\\\n02088364_9849.png', 4),\n ('./Images-resized\\\\beagle\\\\n02088364_9895.png', 4),\n ('./Images-resized\\\\bluetick\\\\n02088632_101.png', 5),\n ('./Images-resized\\\\bluetick\\\\n02088632_1047.png', 5),\n ('./Images-resized\\\\bluetick\\\\n02088632_1073.png', 5),\n ('./Images-resized\\\\bluetick\\\\n02088632_1077.png', 5),\n ('./Images-resized\\\\bluetick\\\\n02088632_108.png', 5),\n ('./Images-resized\\\\bluetick\\\\n02088632_109.png', 5),\n ('./Images-resized\\\\bluetick\\\\n02088632_1108.png', 5),\n ('./Images-resized\\\\bluetick\\\\n02088632_1118.png', 5),\n ('./Images-resized\\\\bluetick\\\\n02088632_1126.png', 5),\n ('./Images-resized\\\\bluetick\\\\n02088632_1145.png', 5),\n ('./Images-resized\\\\bluetick\\\\n02088632_1173.png', 5),\n ('./Images-resized\\\\bluetick\\\\n02088632_1176.png', 5),\n ('./Images-resized\\\\bluetick\\\\n02088632_1209.png', 5),\n ('./Images-resized\\\\bluetick\\\\n02088632_1219.png', 5),\n ('./Images-resized\\\\bluetick\\\\n02088632_1236.png', 5),\n ('./Images-resized\\\\bluetick\\\\n02088632_1274.png', 5),\n ('./Images-resized\\\\bluetick\\\\n02088632_1277.png', 5),\n ('./Images-resized\\\\bluetick\\\\n02088632_1312.png', 5),\n ('./Images-resized\\\\bluetick\\\\n02088632_1367.png', 5),\n ('./Images-resized\\\\bluetick\\\\n02088632_1376.png', 5),\n ('./Images-resized\\\\bluetick\\\\n02088632_1391.png', 5),\n ('./Images-resized\\\\bluetick\\\\n02088632_140.png', 5),\n ('./Images-resized\\\\bluetick\\\\n02088632_1463.png', 5),\n ('./Images-resized\\\\bluetick\\\\n02088632_1499.png', 5),\n ('./Images-resized\\\\bluetick\\\\n02088632_152.png', 5),\n ('./Images-resized\\\\bluetick\\\\n02088632_1541.png', 5),\n ('./Images-resized\\\\bluetick\\\\n02088632_1576.png', 5),\n ('./Images-resized\\\\bluetick\\\\n02088632_1592.png', 5),\n ('./Images-resized\\\\bluetick\\\\n02088632_1625.png', 5),\n ('./Images-resized\\\\bluetick\\\\n02088632_1636.png', 5),\n ('./Images-resized\\\\bluetick\\\\n02088632_1704.png', 5),\n ('./Images-resized\\\\bluetick\\\\n02088632_171.png', 5),\n ('./Images-resized\\\\bluetick\\\\n02088632_1745.png', 5),\n ('./Images-resized\\\\bluetick\\\\n02088632_175.png', 5),\n ('./Images-resized\\\\bluetick\\\\n02088632_1750.png', 5),\n ('./Images-resized\\\\bluetick\\\\n02088632_1765.png', 5),\n ('./Images-resized\\\\bluetick\\\\n02088632_1831.png', 5),\n ('./Images-resized\\\\bluetick\\\\n02088632_190.png', 5),\n ...]"
     },
     "execution_count": 9,
     "metadata": {},
     "output_type": "execute_result"
    }
   ],
   "source": [
    "imgDS.imgs"
   ],
   "metadata": {
    "collapsed": false,
    "ExecuteTime": {
     "end_time": "2024-03-25T16:03:04.943858300Z",
     "start_time": "2024-03-25T16:03:04.891173800Z"
    }
   },
   "id": "b3329aa1c948f85b",
   "execution_count": 9
  },
  {
   "cell_type": "code",
   "outputs": [
    {
     "data": {
      "text/plain": "<Figure size 1000x100 with 10 Axes>",
      "image/png": "[encoded data removed]"
     },
     "metadata": {},
     "output_type": "display_data"
    }
   ],
   "source": [
    "### 데이터 확인\n",
    "import matplotlib.pyplot as plt\n",
    "import numpy as np\n",
    "\n",
    "pltsize = 1\n",
    "plt.figure(figsize=(10 * pltsize, pltsize))\n",
    "\n",
    "for i in range(10):\n",
    "    plt.subplot(1, 10, i + 1)\n",
    "    plt.axis('off')\n",
    "    plt.imshow(np.transpose(imgDS[i*120][0], (1, 2, 0)))    # (C, H, W) -> (H, W, C)로 변환\n",
    "    plt.title('Class: ' + str(imgDS[i*120][1]))"
   ],
   "metadata": {
    "collapsed": false,
    "ExecuteTime": {
     "end_time": "2024-03-25T16:03:05.760263600Z",
     "start_time": "2024-03-25T16:03:04.941732600Z"
    }
   },
   "id": "aaa902b176895ca4",
   "execution_count": 10
  },
  {
   "cell_type": "code",
   "outputs": [
    {
     "name": "stdout",
     "output_type": "stream",
     "text": [
      "{'beagle': 195, 'bluetick': 139, 'Chihuahua': 152, 'Maltese_dog': 252, 'papillon': 196, 'Pekinese': 149, 'Shih-Tzu': 214}\n"
     ]
    }
   ],
   "source": [
    "# 클래스별 샘플 수 계산\n",
    "import os\n",
    "\n",
    "def file_count_in_dir(path):\n",
    "    \"\"\" path : 대장 폴더 주소 \"\"\"\n",
    "    if not path.endswith('/'):\n",
    "        path += '/'\n",
    "    \n",
    "    file_count = dict()\n",
    "    \n",
    "    datalist = os.listdir(path)\n",
    "    for data in datalist:\n",
    "        if os.path.isdir(path + data):\n",
    "            sub_datalist = os.listdir(path + data)\n",
    "            file_count[path + data] = len(sub_datalist)\n",
    "    return file_count\n",
    "\n",
    "file_count = file_count_in_dir(img_root)\n",
    "file_count2 = {key.split('/')[-1]: value for key, value in file_count.items()}\n",
    "print(file_count2)"
   ],
   "metadata": {
    "collapsed": false,
    "ExecuteTime": {
     "end_time": "2024-03-25T16:03:05.800313700Z",
     "start_time": "2024-03-25T16:03:05.764620800Z"
    }
   },
   "id": "4dfcf544343d9a14",
   "execution_count": 11
  },
  {
   "cell_type": "code",
   "outputs": [
    {
     "data": {
      "text/plain": "1297"
     },
     "execution_count": 12,
     "metadata": {},
     "output_type": "execute_result"
    }
   ],
   "source": [
    "sum(file_count2.values())"
   ],
   "metadata": {
    "collapsed": false,
    "ExecuteTime": {
     "end_time": "2024-03-25T16:03:05.816111700Z",
     "start_time": "2024-03-25T16:03:05.793699100Z"
    }
   },
   "id": "b4592cf908d2ac6b",
   "execution_count": 12
  },
  {
   "cell_type": "code",
   "outputs": [
    {
     "name": "stdout",
     "output_type": "stream",
     "text": [
      "[152, 252, 149, 214, 195, 139, 196]\n"
     ]
    }
   ],
   "source": [
    "class_names = imgDS.class_to_idx\n",
    "\n",
    "class_count = [file_count2[key] for key, value in class_names.items()]\n",
    "print(class_count)"
   ],
   "metadata": {
    "collapsed": false,
    "ExecuteTime": {
     "end_time": "2024-03-25T16:03:05.850326300Z",
     "start_time": "2024-03-25T16:03:05.808976100Z"
    }
   },
   "id": "b4eb4cff33ae038d",
   "execution_count": 13
  },
  {
   "cell_type": "code",
   "outputs": [
    {
     "name": "stdout",
     "output_type": "stream",
     "text": [
      "1297\n"
     ]
    }
   ],
   "source": [
    "### Sampler에서 사용할 가중치 생성\n",
    "total_image_count = len(class_count)\n",
    "# weights = [class_count / total_image_count for class_count in class_count]\n",
    "weights = []\n",
    "for i, v in enumerate(class_count):\n",
    "    weights.extend([1 / v] * v)\n",
    "print(len(weights))"
   ],
   "metadata": {
    "collapsed": false,
    "ExecuteTime": {
     "end_time": "2024-03-25T16:03:05.851395900Z",
     "start_time": "2024-03-25T16:03:05.824930600Z"
    }
   },
   "id": "e98dbe9933d257d4",
   "execution_count": 14
  },
  {
   "cell_type": "code",
   "outputs": [],
   "source": [
    "from torch.utils.data import DataLoader, Dataset, WeightedRandomSampler"
   ],
   "metadata": {
    "collapsed": false,
    "ExecuteTime": {
     "end_time": "2024-03-25T16:03:05.893142900Z",
     "start_time": "2024-03-25T16:03:05.842587900Z"
    }
   },
   "id": "a33598d2f96a4a96",
   "execution_count": 15
  },
  {
   "cell_type": "code",
   "outputs": [],
   "source": [
    "BATCH_SIZE = 64"
   ],
   "metadata": {
    "collapsed": false,
    "ExecuteTime": {
     "end_time": "2024-03-25T16:03:05.894363300Z",
     "start_time": "2024-03-25T16:03:05.857081400Z"
    }
   },
   "id": "9d25a01748b0e3b3",
   "execution_count": 16
  },
  {
   "cell_type": "code",
   "outputs": [],
   "source": [
    "SAMPLER = WeightedRandomSampler(weights=weights, num_samples=len(imgDS), replacement=True)"
   ],
   "metadata": {
    "collapsed": false,
    "ExecuteTime": {
     "end_time": "2024-03-25T16:03:05.920267700Z",
     "start_time": "2024-03-25T16:03:05.872050100Z"
    }
   },
   "id": "77d9beb435330ed7",
   "execution_count": 17
  },
  {
   "cell_type": "code",
   "outputs": [
    {
     "name": "stdout",
     "output_type": "stream",
     "text": [
      "torch.Size([64, 3, 30, 30]) torch.Size([64]) tensor([ 9, 10,  3, 11, 12,  9, 10])\n",
      "torch.Size([64, 3, 30, 30]) torch.Size([64]) tensor([13,  9, 10,  8,  6,  5, 13])\n",
      "torch.Size([64, 3, 30, 30]) torch.Size([64]) tensor([ 6,  5,  8, 13, 11,  9, 12])\n"
     ]
    }
   ],
   "source": [
    "imgDL = DataLoader(imgDS, batch_size=BATCH_SIZE, sampler=SAMPLER)\n",
    "\n",
    "for idx, (img, label) in enumerate(imgDL):\n",
    "    if idx > 2: break\n",
    "    print(img.shape, label.shape, label.bincount())"
   ],
   "metadata": {
    "collapsed": false,
    "ExecuteTime": {
     "end_time": "2024-03-25T16:03:06.049191500Z",
     "start_time": "2024-03-25T16:03:05.888653400Z"
    }
   },
   "id": "1e078bb3e05700f5",
   "execution_count": 18
  },
  {
   "cell_type": "code",
   "outputs": [
    {
     "name": "stdout",
     "output_type": "stream",
     "text": [
      "tensor([ 7, 12, 11,  7,  8, 12,  7])\n",
      "tensor([14, 10,  8,  6, 10,  6, 10])\n",
      "tensor([ 8, 14, 11,  6, 11,  8,  6])\n",
      "tensor([10,  7,  9,  9,  8, 13,  8])\n",
      "tensor([14,  5,  9, 12, 10,  8,  6])\n",
      "tensor([11, 10, 10, 11,  7,  5, 10])\n",
      "tensor([ 8,  9,  9, 10, 11, 11,  6])\n",
      "tensor([12,  6, 10, 11,  9, 10,  6])\n",
      "tensor([ 8, 11, 12,  9,  9,  6,  9])\n",
      "tensor([ 4,  8,  8, 11,  9, 11, 13])\n",
      "tensor([10, 11,  5,  9, 13,  9,  7])\n",
      "tensor([ 4,  9,  6, 12, 14,  9, 10])\n",
      "tensor([13,  6, 12, 12,  6,  8,  7])\n",
      "tensor([13, 12,  8, 13,  6,  7,  5])\n",
      "tensor([11,  8,  9,  8, 11, 12,  5])\n",
      "tensor([ 7, 10, 11,  7,  8, 13,  8])\n",
      "tensor([ 6, 10,  8, 14,  8,  9,  9])\n",
      "tensor([ 4, 12, 12,  7,  6,  9, 14])\n",
      "tensor([ 6, 20,  7, 11,  8,  4,  8])\n",
      "tensor([ 8, 11, 11,  8,  9,  6, 11])\n",
      "tensor([1, 2, 4, 0, 2, 5, 3])\n"
     ]
    }
   ],
   "source": [
    "for img, label in imgDL:\n",
    "    # print(img.shape, label.shape)\n",
    "    print(label.bincount())"
   ],
   "metadata": {
    "collapsed": false,
    "ExecuteTime": {
     "end_time": "2024-03-25T16:03:29.111732Z",
     "start_time": "2024-03-25T16:03:28.514973600Z"
    }
   },
   "id": "add0eb5c4f9976c4",
   "execution_count": 20
  },
  {
   "cell_type": "markdown",
   "source": [
    "(2) CNN 모델 만들기"
   ],
   "metadata": {
    "collapsed": false
   },
   "id": "3c4dc2dddb8be079"
  },
  {
   "cell_type": "code",
   "outputs": [],
   "source": [
    "import torch\n",
    "import torch.nn as nn\n",
    "import torch.nn.functional as F\n",
    "import torch.optim as optim\n",
    "import cv2\n",
    "from torchinfo import summary"
   ],
   "metadata": {
    "collapsed": false,
    "ExecuteTime": {
     "end_time": "2024-03-25T16:26:09.924116500Z",
     "start_time": "2024-03-25T16:26:09.885836900Z"
    }
   },
   "id": "1276689233189e66",
   "execution_count": 40
  },
  {
   "cell_type": "code",
   "outputs": [
    {
     "data": {
      "text/plain": "torch.Size([3, 30, 30])"
     },
     "execution_count": 27,
     "metadata": {},
     "output_type": "execute_result"
    }
   ],
   "source": [
    "imgDS[0][0].shape"
   ],
   "metadata": {
    "collapsed": false,
    "ExecuteTime": {
     "end_time": "2024-03-25T16:13:53.126318400Z",
     "start_time": "2024-03-25T16:13:53.085071800Z"
    }
   },
   "id": "547407c43ff54ef0",
   "execution_count": 27
  },
  {
   "cell_type": "code",
   "outputs": [
    {
     "data": {
      "text/plain": "Conv2d(3, 8, kernel_size=(3, 3), stride=(1, 1), padding=(1, 1))"
     },
     "execution_count": 57,
     "metadata": {},
     "output_type": "execute_result"
    }
   ],
   "source": [
    "conv1 = nn.Conv2d(in_channels = 3, out_channels = 8, kernel_size = 3, padding = 1)  # 피처 8개 뽑겠다.\n",
    "conv1"
   ],
   "metadata": {
    "collapsed": false,
    "ExecuteTime": {
     "end_time": "2024-03-25T16:36:44.404188400Z",
     "start_time": "2024-03-25T16:36:44.347180200Z"
    }
   },
   "id": "97dd0a2d34e76e63",
   "execution_count": 57
  },
  {
   "cell_type": "code",
   "outputs": [
    {
     "data": {
      "text/plain": "torch.Size([8, 30, 30])"
     },
     "execution_count": 58,
     "metadata": {},
     "output_type": "execute_result"
    }
   ],
   "source": [
    "output1 = conv1(imgDS[0][0])\n",
    "output1.shape"
   ],
   "metadata": {
    "collapsed": false,
    "ExecuteTime": {
     "end_time": "2024-03-25T16:36:46.567465100Z",
     "start_time": "2024-03-25T16:36:46.545135400Z"
    }
   },
   "id": "ffd9f21f68e0b32a",
   "execution_count": 58
  },
  {
   "cell_type": "code",
   "outputs": [],
   "source": [
    "pool = nn.MaxPool2d(kernel_size = 2, stride = 2)"
   ],
   "metadata": {
    "collapsed": false,
    "ExecuteTime": {
     "end_time": "2024-03-25T16:36:50.774763Z",
     "start_time": "2024-03-25T16:36:50.748094100Z"
    }
   },
   "id": "e631cc04c269ccab",
   "execution_count": 59
  },
  {
   "cell_type": "code",
   "outputs": [
    {
     "data": {
      "text/plain": "torch.Size([8, 15, 15])"
     },
     "execution_count": 60,
     "metadata": {},
     "output_type": "execute_result"
    }
   ],
   "source": [
    "output2 = pool(output1)\n",
    "output2.shape"
   ],
   "metadata": {
    "collapsed": false,
    "ExecuteTime": {
     "end_time": "2024-03-25T16:36:51.196036500Z",
     "start_time": "2024-03-25T16:36:51.161324Z"
    }
   },
   "id": "739f2efafdc15dc7",
   "execution_count": 60
  },
  {
   "cell_type": "code",
   "outputs": [
    {
     "data": {
      "text/plain": "Conv2d(8, 16, kernel_size=(3, 3), stride=(1, 1), padding=(1, 1))"
     },
     "execution_count": 61,
     "metadata": {},
     "output_type": "execute_result"
    }
   ],
   "source": [
    "conv2 = nn.Conv2d(in_channels = 8, out_channels = 16, kernel_size = 3, padding = 1)\n",
    "conv2"
   ],
   "metadata": {
    "collapsed": false,
    "ExecuteTime": {
     "end_time": "2024-03-25T16:36:55.321986700Z",
     "start_time": "2024-03-25T16:36:55.293272900Z"
    }
   },
   "id": "2cc8ea9ed16f4030",
   "execution_count": 61
  },
  {
   "cell_type": "code",
   "outputs": [
    {
     "data": {
      "text/plain": "torch.Size([16, 15, 15])"
     },
     "execution_count": 62,
     "metadata": {},
     "output_type": "execute_result"
    }
   ],
   "source": [
    "output3 = conv2(output2)\n",
    "output3.shape"
   ],
   "metadata": {
    "collapsed": false,
    "ExecuteTime": {
     "end_time": "2024-03-25T16:36:56.191821500Z",
     "start_time": "2024-03-25T16:36:56.162985Z"
    }
   },
   "id": "9294e02b1dc25cf4",
   "execution_count": 62
  },
  {
   "cell_type": "code",
   "outputs": [
    {
     "data": {
      "text/plain": "torch.Size([16, 7, 7])"
     },
     "execution_count": 63,
     "metadata": {},
     "output_type": "execute_result"
    }
   ],
   "source": [
    "output4 = pool(output3)\n",
    "output4.shape"
   ],
   "metadata": {
    "collapsed": false,
    "ExecuteTime": {
     "end_time": "2024-03-25T16:37:00.775679100Z",
     "start_time": "2024-03-25T16:37:00.733506600Z"
    }
   },
   "id": "ac7ed36a6aec6dc7",
   "execution_count": 63
  },
  {
   "cell_type": "code",
   "outputs": [
    {
     "data": {
      "text/plain": "torch.Size([1, 784])"
     },
     "execution_count": 66,
     "metadata": {},
     "output_type": "execute_result"
    }
   ],
   "source": [
    "output4.view(-1, 16 * 7 * 7).shape"
   ],
   "metadata": {
    "collapsed": false,
    "ExecuteTime": {
     "end_time": "2024-03-25T16:37:23.894684700Z",
     "start_time": "2024-03-25T16:37:23.858568900Z"
    }
   },
   "id": "3a467d032a0f7afa",
   "execution_count": 66
  },
  {
   "cell_type": "code",
   "outputs": [],
   "source": [
    "class CNN(nn.Module):\n",
    "    def __init__(self):\n",
    "        super(CNN, self).__init__()\n",
    "        self.conv1 = nn.Conv2d(in_channels = 3, out_channels = 8, kernel_size = 3, padding = 1)\n",
    "        self.conv2 = nn.Conv2d(in_channels = 8, out_channels = 16, kernel_size = 3, padding = 1)\n",
    "        self.pool = nn.MaxPool2d(kernel_size = 2, stride = 2)\n",
    "        self.fc1 = nn.Linear(16 * 7 * 7, 64)\n",
    "        self.fc2 = nn.Linear(64, 32)\n",
    "        self.fc3 = nn.Linear(32, 7)\n",
    "        \n",
    "    def forward(self, x):\n",
    "        x = self.conv1(x)\n",
    "        x = F.relu(x)\n",
    "        x = self.pool(x)\n",
    "        x = self.conv2(x)\n",
    "        x = F.relu(x)\n",
    "        x = self.pool(x)\n",
    "        \n",
    "        x = x.view(-1, 16 * 7 * 7)\n",
    "        x = self.fc1(x)\n",
    "        x = F.relu(x)\n",
    "        x = self.fc2(x)\n",
    "        x = F.relu(x)\n",
    "        x = self.fc3(x)\n",
    "        # x = F.log_softmax(x)  # CrossEntropy()에 중복\n",
    "        return x"
   ],
   "metadata": {
    "collapsed": false,
    "ExecuteTime": {
     "end_time": "2024-03-25T16:38:13.099529700Z",
     "start_time": "2024-03-25T16:38:13.085170900Z"
    }
   },
   "id": "af9f7291add67c51",
   "execution_count": 67
  },
  {
   "cell_type": "markdown",
   "source": [
    "(3) CNN 학습하기"
   ],
   "metadata": {
    "collapsed": false
   },
   "id": "f0857fc7c408a717"
  },
  {
   "cell_type": "code",
   "outputs": [
    {
     "name": "stdout",
     "output_type": "stream",
     "text": [
      "CNN(\n",
      "  (conv1): Conv2d(3, 8, kernel_size=(3, 3), stride=(1, 1), padding=(1, 1))\n",
      "  (conv2): Conv2d(8, 16, kernel_size=(3, 3), stride=(1, 1), padding=(1, 1))\n",
      "  (pool): MaxPool2d(kernel_size=2, stride=2, padding=0, dilation=1, ceil_mode=False)\n",
      "  (fc1): Linear(in_features=784, out_features=64, bias=True)\n",
      "  (fc2): Linear(in_features=64, out_features=32, bias=True)\n",
      "  (fc3): Linear(in_features=32, out_features=7, bias=True)\n",
      ")\n"
     ]
    }
   ],
   "source": [
    "DEVICE = 'cuda' if torch.cuda.is_available() else 'cpu'\n",
    "\n",
    "EPOCHS = 100\n",
    "\n",
    "model = CNN().to(DEVICE)\n",
    "\n",
    "optimizer = optim.Adam(model.parameters())\n",
    "\n",
    "criterion = nn.CrossEntropyLoss()\n",
    "\n",
    "print(model)"
   ],
   "metadata": {
    "collapsed": false,
    "ExecuteTime": {
     "end_time": "2024-03-26T00:32:47.513155800Z",
     "start_time": "2024-03-26T00:32:47.476336700Z"
    }
   },
   "id": "b679bf6e5e3c820a",
   "execution_count": 96
  },
  {
   "cell_type": "code",
   "outputs": [],
   "source": [
    "def train(epoch, model, train_loader, optimizer, log_interval):\n",
    "    model.train()\n",
    "    for batch_idx, (image, label) in enumerate(train_loader):\n",
    "        image = image.to(DEVICE)\n",
    "        label = label.to(DEVICE)\n",
    "        optimizer.zero_grad()\n",
    "        output = model(image)\n",
    "        loss = criterion(output, label)\n",
    "        loss.backward()\n",
    "        optimizer.step()\n",
    "\n",
    "        if batch_idx % log_interval == 0:\n",
    "            print(f\"Train Epoch: {epoch} [{batch_idx:2d}]\\tTrain Loss: {loss.item():.6f}\")"
   ],
   "metadata": {
    "collapsed": false,
    "ExecuteTime": {
     "end_time": "2024-03-26T00:32:47.997986Z",
     "start_time": "2024-03-26T00:32:47.976208500Z"
    }
   },
   "id": "6cb9f643e3e4b21",
   "execution_count": 97
  },
  {
   "cell_type": "code",
   "outputs": [],
   "source": [
    "def evaluate(model, test_loader):\n",
    "    model.eval()\n",
    "    test_loss = 0\n",
    "    correct = 0\n",
    "\n",
    "    with torch.no_grad():\n",
    "        for image, label in test_loader:\n",
    "            image = image.to(DEVICE)\n",
    "            label = label.to(DEVICE)\n",
    "            \n",
    "            output = model(image)\n",
    "            test_loss += criterion(output, label).item()\n",
    "            prediction = output.max(1, keepdim = True)[1]\n",
    "            correct += prediction.eq(label.view_as(prediction)).sum().item()\n",
    "    \n",
    "    test_loss /= len(test_loader.dataset)\n",
    "    test_accuracy = 100. * correct / len(test_loader.dataset)\n",
    "    return test_loss, test_accuracy"
   ],
   "metadata": {
    "collapsed": false,
    "ExecuteTime": {
     "end_time": "2024-03-26T00:32:48.434985300Z",
     "start_time": "2024-03-26T00:32:48.395737100Z"
    }
   },
   "id": "d9a885879d0f023d",
   "execution_count": 98
  },
  {
   "cell_type": "code",
   "outputs": [
    {
     "name": "stdout",
     "output_type": "stream",
     "text": [
      "Train Epoch: 1 [ 0]\tTrain Loss: 1.941800\n",
      "Train Epoch: 1 [10]\tTrain Loss: 1.954632\n",
      "Train Epoch: 1 [20]\tTrain Loss: 1.911920\n",
      "\n",
      "[EPOCH: 1], \tTest Loss: 0.0312, \tTest Accuracy: 17.12 % \n",
      "\n",
      "Train Epoch: 2 [ 0]\tTrain Loss: 1.955240\n",
      "Train Epoch: 2 [10]\tTrain Loss: 1.842695\n",
      "Train Epoch: 2 [20]\tTrain Loss: 1.874791\n",
      "\n",
      "[EPOCH: 2], \tTest Loss: 0.0304, \tTest Accuracy: 20.28 % \n",
      "\n",
      "Train Epoch: 3 [ 0]\tTrain Loss: 1.884421\n",
      "Train Epoch: 3 [10]\tTrain Loss: 1.830034\n",
      "Train Epoch: 3 [20]\tTrain Loss: 1.776815\n",
      "\n",
      "[EPOCH: 3], \tTest Loss: 0.0297, \tTest Accuracy: 26.75 % \n",
      "\n",
      "Train Epoch: 4 [ 0]\tTrain Loss: 1.825340\n",
      "Train Epoch: 4 [10]\tTrain Loss: 1.835484\n",
      "Train Epoch: 4 [20]\tTrain Loss: 1.780836\n",
      "\n",
      "[EPOCH: 4], \tTest Loss: 0.0291, \tTest Accuracy: 27.53 % \n",
      "\n",
      "Train Epoch: 5 [ 0]\tTrain Loss: 1.829992\n",
      "Train Epoch: 5 [10]\tTrain Loss: 1.797801\n",
      "Train Epoch: 5 [20]\tTrain Loss: 1.661386\n",
      "\n",
      "[EPOCH: 5], \tTest Loss: 0.0301, \tTest Accuracy: 25.98 % \n",
      "\n",
      "Train Epoch: 6 [ 0]\tTrain Loss: 1.816827\n",
      "Train Epoch: 6 [10]\tTrain Loss: 1.813403\n",
      "Train Epoch: 6 [20]\tTrain Loss: 1.715405\n",
      "\n",
      "[EPOCH: 6], \tTest Loss: 0.0288, \tTest Accuracy: 30.53 % \n",
      "\n",
      "Train Epoch: 7 [ 0]\tTrain Loss: 1.811828\n",
      "Train Epoch: 7 [10]\tTrain Loss: 1.726603\n",
      "Train Epoch: 7 [20]\tTrain Loss: 1.963324\n",
      "\n",
      "[EPOCH: 7], \tTest Loss: 0.0283, \tTest Accuracy: 31.84 % \n",
      "\n",
      "Train Epoch: 8 [ 0]\tTrain Loss: 1.653785\n",
      "Train Epoch: 8 [10]\tTrain Loss: 1.710073\n",
      "Train Epoch: 8 [20]\tTrain Loss: 1.677795\n",
      "\n",
      "[EPOCH: 8], \tTest Loss: 0.0279, \tTest Accuracy: 33.08 % \n",
      "\n",
      "Train Epoch: 9 [ 0]\tTrain Loss: 1.730795\n",
      "Train Epoch: 9 [10]\tTrain Loss: 1.561881\n",
      "Train Epoch: 9 [20]\tTrain Loss: 1.313862\n",
      "\n",
      "[EPOCH: 9], \tTest Loss: 0.0274, \tTest Accuracy: 34.00 % \n",
      "\n",
      "Train Epoch: 10 [ 0]\tTrain Loss: 1.696772\n",
      "Train Epoch: 10 [10]\tTrain Loss: 1.663750\n",
      "Train Epoch: 10 [20]\tTrain Loss: 1.779340\n",
      "\n",
      "[EPOCH: 10], \tTest Loss: 0.0271, \tTest Accuracy: 35.31 % \n",
      "\n",
      "Train Epoch: 11 [ 0]\tTrain Loss: 1.782825\n",
      "Train Epoch: 11 [10]\tTrain Loss: 1.732502\n",
      "Train Epoch: 11 [20]\tTrain Loss: 1.576782\n",
      "\n",
      "[EPOCH: 11], \tTest Loss: 0.0266, \tTest Accuracy: 34.23 % \n",
      "\n",
      "Train Epoch: 12 [ 0]\tTrain Loss: 1.701872\n",
      "Train Epoch: 12 [10]\tTrain Loss: 1.601260\n",
      "Train Epoch: 12 [20]\tTrain Loss: 1.495014\n",
      "\n",
      "[EPOCH: 12], \tTest Loss: 0.0273, \tTest Accuracy: 34.62 % \n",
      "\n",
      "Train Epoch: 13 [ 0]\tTrain Loss: 1.688161\n",
      "Train Epoch: 13 [10]\tTrain Loss: 1.498479\n",
      "Train Epoch: 13 [20]\tTrain Loss: 1.467302\n",
      "\n",
      "[EPOCH: 13], \tTest Loss: 0.0264, \tTest Accuracy: 36.08 % \n",
      "\n",
      "Train Epoch: 14 [ 0]\tTrain Loss: 1.548858\n",
      "Train Epoch: 14 [10]\tTrain Loss: 1.602540\n",
      "Train Epoch: 14 [20]\tTrain Loss: 2.236484\n",
      "\n",
      "[EPOCH: 14], \tTest Loss: 0.0256, \tTest Accuracy: 38.40 % \n",
      "\n",
      "Train Epoch: 15 [ 0]\tTrain Loss: 1.590840\n",
      "Train Epoch: 15 [10]\tTrain Loss: 1.598064\n",
      "Train Epoch: 15 [20]\tTrain Loss: 1.894348\n",
      "\n",
      "[EPOCH: 15], \tTest Loss: 0.0255, \tTest Accuracy: 41.40 % \n",
      "\n",
      "Train Epoch: 16 [ 0]\tTrain Loss: 1.491036\n",
      "Train Epoch: 16 [10]\tTrain Loss: 1.364770\n",
      "Train Epoch: 16 [20]\tTrain Loss: 1.343802\n",
      "\n",
      "[EPOCH: 16], \tTest Loss: 0.0251, \tTest Accuracy: 40.40 % \n",
      "\n",
      "Train Epoch: 17 [ 0]\tTrain Loss: 1.429639\n",
      "Train Epoch: 17 [10]\tTrain Loss: 1.456756\n",
      "Train Epoch: 17 [20]\tTrain Loss: 1.397825\n",
      "\n",
      "[EPOCH: 17], \tTest Loss: 0.0247, \tTest Accuracy: 41.17 % \n",
      "\n",
      "Train Epoch: 18 [ 0]\tTrain Loss: 1.425624\n",
      "Train Epoch: 18 [10]\tTrain Loss: 1.445047\n",
      "Train Epoch: 18 [20]\tTrain Loss: 1.629021\n",
      "\n",
      "[EPOCH: 18], \tTest Loss: 0.0243, \tTest Accuracy: 41.79 % \n",
      "\n",
      "Train Epoch: 19 [ 0]\tTrain Loss: 1.351128\n",
      "Train Epoch: 19 [10]\tTrain Loss: 1.541373\n",
      "Train Epoch: 19 [20]\tTrain Loss: 1.393011\n",
      "\n",
      "[EPOCH: 19], \tTest Loss: 0.0232, \tTest Accuracy: 47.65 % \n",
      "\n",
      "Train Epoch: 20 [ 0]\tTrain Loss: 1.328729\n",
      "Train Epoch: 20 [10]\tTrain Loss: 1.560920\n",
      "Train Epoch: 20 [20]\tTrain Loss: 1.551836\n",
      "\n",
      "[EPOCH: 20], \tTest Loss: 0.0231, \tTest Accuracy: 44.87 % \n",
      "\n",
      "Train Epoch: 21 [ 0]\tTrain Loss: 1.473442\n",
      "Train Epoch: 21 [10]\tTrain Loss: 1.503450\n",
      "Train Epoch: 21 [20]\tTrain Loss: 1.567318\n",
      "\n",
      "[EPOCH: 21], \tTest Loss: 0.0230, \tTest Accuracy: 46.18 % \n",
      "\n",
      "Train Epoch: 22 [ 0]\tTrain Loss: 1.302065\n",
      "Train Epoch: 22 [10]\tTrain Loss: 1.293693\n",
      "Train Epoch: 22 [20]\tTrain Loss: 1.186385\n",
      "\n",
      "[EPOCH: 22], \tTest Loss: 0.0227, \tTest Accuracy: 47.65 % \n",
      "\n",
      "Train Epoch: 23 [ 0]\tTrain Loss: 1.491436\n",
      "Train Epoch: 23 [10]\tTrain Loss: 1.435020\n",
      "Train Epoch: 23 [20]\tTrain Loss: 1.097864\n",
      "\n",
      "[EPOCH: 23], \tTest Loss: 0.0221, \tTest Accuracy: 50.73 % \n",
      "\n",
      "Train Epoch: 24 [ 0]\tTrain Loss: 1.336478\n",
      "Train Epoch: 24 [10]\tTrain Loss: 1.360871\n",
      "Train Epoch: 24 [20]\tTrain Loss: 1.288476\n",
      "\n",
      "[EPOCH: 24], \tTest Loss: 0.0221, \tTest Accuracy: 48.80 % \n",
      "\n",
      "Train Epoch: 25 [ 0]\tTrain Loss: 1.466053\n",
      "Train Epoch: 25 [10]\tTrain Loss: 1.494130\n",
      "Train Epoch: 25 [20]\tTrain Loss: 1.024270\n",
      "\n",
      "[EPOCH: 25], \tTest Loss: 0.0209, \tTest Accuracy: 51.20 % \n",
      "\n",
      "Train Epoch: 26 [ 0]\tTrain Loss: 1.345044\n",
      "Train Epoch: 26 [10]\tTrain Loss: 1.328982\n",
      "Train Epoch: 26 [20]\tTrain Loss: 1.185346\n",
      "\n",
      "[EPOCH: 26], \tTest Loss: 0.0218, \tTest Accuracy: 48.73 % \n",
      "\n",
      "Train Epoch: 27 [ 0]\tTrain Loss: 1.353632\n",
      "Train Epoch: 27 [10]\tTrain Loss: 1.348607\n",
      "Train Epoch: 27 [20]\tTrain Loss: 1.372567\n",
      "\n",
      "[EPOCH: 27], \tTest Loss: 0.0209, \tTest Accuracy: 53.12 % \n",
      "\n",
      "Train Epoch: 28 [ 0]\tTrain Loss: 1.292841\n",
      "Train Epoch: 28 [10]\tTrain Loss: 1.371469\n",
      "Train Epoch: 28 [20]\tTrain Loss: 1.537730\n",
      "\n",
      "[EPOCH: 28], \tTest Loss: 0.0203, \tTest Accuracy: 53.89 % \n",
      "\n",
      "Train Epoch: 29 [ 0]\tTrain Loss: 1.175287\n",
      "Train Epoch: 29 [10]\tTrain Loss: 1.307505\n",
      "Train Epoch: 29 [20]\tTrain Loss: 1.798686\n",
      "\n",
      "[EPOCH: 29], \tTest Loss: 0.0205, \tTest Accuracy: 51.04 % \n",
      "\n",
      "Train Epoch: 30 [ 0]\tTrain Loss: 1.099226\n",
      "Train Epoch: 30 [10]\tTrain Loss: 1.340269\n",
      "Train Epoch: 30 [20]\tTrain Loss: 1.935121\n",
      "\n",
      "[EPOCH: 30], \tTest Loss: 0.0202, \tTest Accuracy: 54.74 % \n",
      "\n",
      "Train Epoch: 31 [ 0]\tTrain Loss: 1.363400\n",
      "Train Epoch: 31 [10]\tTrain Loss: 1.231010\n",
      "Train Epoch: 31 [20]\tTrain Loss: 1.062521\n",
      "\n",
      "[EPOCH: 31], \tTest Loss: 0.0189, \tTest Accuracy: 58.98 % \n",
      "\n",
      "Train Epoch: 32 [ 0]\tTrain Loss: 1.145425\n",
      "Train Epoch: 32 [10]\tTrain Loss: 1.074636\n",
      "Train Epoch: 32 [20]\tTrain Loss: 0.843178\n",
      "\n",
      "[EPOCH: 32], \tTest Loss: 0.0190, \tTest Accuracy: 58.37 % \n",
      "\n",
      "Train Epoch: 33 [ 0]\tTrain Loss: 1.334890\n",
      "Train Epoch: 33 [10]\tTrain Loss: 1.059284\n",
      "Train Epoch: 33 [20]\tTrain Loss: 1.022172\n",
      "\n",
      "[EPOCH: 33], \tTest Loss: 0.0196, \tTest Accuracy: 54.43 % \n",
      "\n",
      "Train Epoch: 34 [ 0]\tTrain Loss: 1.247535\n",
      "Train Epoch: 34 [10]\tTrain Loss: 1.124647\n",
      "Train Epoch: 34 [20]\tTrain Loss: 1.125878\n",
      "\n",
      "[EPOCH: 34], \tTest Loss: 0.0178, \tTest Accuracy: 60.45 % \n",
      "\n",
      "Train Epoch: 35 [ 0]\tTrain Loss: 1.180715\n",
      "Train Epoch: 35 [10]\tTrain Loss: 1.084294\n",
      "Train Epoch: 35 [20]\tTrain Loss: 0.837678\n",
      "\n",
      "[EPOCH: 35], \tTest Loss: 0.0179, \tTest Accuracy: 59.44 % \n",
      "\n",
      "Train Epoch: 36 [ 0]\tTrain Loss: 1.161361\n",
      "Train Epoch: 36 [10]\tTrain Loss: 1.192263\n",
      "Train Epoch: 36 [20]\tTrain Loss: 1.067313\n",
      "\n",
      "[EPOCH: 36], \tTest Loss: 0.0184, \tTest Accuracy: 56.82 % \n",
      "\n",
      "Train Epoch: 37 [ 0]\tTrain Loss: 1.004539\n",
      "Train Epoch: 37 [10]\tTrain Loss: 1.192780\n",
      "Train Epoch: 37 [20]\tTrain Loss: 0.935591\n",
      "\n",
      "[EPOCH: 37], \tTest Loss: 0.0176, \tTest Accuracy: 63.38 % \n",
      "\n",
      "Train Epoch: 38 [ 0]\tTrain Loss: 1.034568\n",
      "Train Epoch: 38 [10]\tTrain Loss: 0.979727\n",
      "Train Epoch: 38 [20]\tTrain Loss: 1.013669\n",
      "\n",
      "[EPOCH: 38], \tTest Loss: 0.0162, \tTest Accuracy: 65.61 % \n",
      "\n",
      "Train Epoch: 39 [ 0]\tTrain Loss: 1.056124\n",
      "Train Epoch: 39 [10]\tTrain Loss: 0.971347\n",
      "Train Epoch: 39 [20]\tTrain Loss: 0.875922\n",
      "\n",
      "[EPOCH: 39], \tTest Loss: 0.0156, \tTest Accuracy: 66.62 % \n",
      "\n",
      "Train Epoch: 40 [ 0]\tTrain Loss: 1.093900\n",
      "Train Epoch: 40 [10]\tTrain Loss: 1.032555\n",
      "Train Epoch: 40 [20]\tTrain Loss: 1.278887\n",
      "\n",
      "[EPOCH: 40], \tTest Loss: 0.0171, \tTest Accuracy: 62.76 % \n",
      "\n",
      "Train Epoch: 41 [ 0]\tTrain Loss: 0.932191\n",
      "Train Epoch: 41 [10]\tTrain Loss: 1.104025\n",
      "Train Epoch: 41 [20]\tTrain Loss: 0.696351\n",
      "\n",
      "[EPOCH: 41], \tTest Loss: 0.0165, \tTest Accuracy: 63.22 % \n",
      "\n",
      "Train Epoch: 42 [ 0]\tTrain Loss: 1.135589\n",
      "Train Epoch: 42 [10]\tTrain Loss: 1.172159\n",
      "Train Epoch: 42 [20]\tTrain Loss: 0.715988\n",
      "\n",
      "[EPOCH: 42], \tTest Loss: 0.0165, \tTest Accuracy: 65.38 % \n",
      "\n",
      "Train Epoch: 43 [ 0]\tTrain Loss: 0.903525\n",
      "Train Epoch: 43 [10]\tTrain Loss: 1.067651\n",
      "Train Epoch: 43 [20]\tTrain Loss: 0.931344\n",
      "\n",
      "[EPOCH: 43], \tTest Loss: 0.0150, \tTest Accuracy: 68.39 % \n",
      "\n",
      "Train Epoch: 44 [ 0]\tTrain Loss: 1.014967\n",
      "Train Epoch: 44 [10]\tTrain Loss: 1.085261\n",
      "Train Epoch: 44 [20]\tTrain Loss: 0.792898\n",
      "\n",
      "[EPOCH: 44], \tTest Loss: 0.0157, \tTest Accuracy: 67.54 % \n",
      "\n",
      "Train Epoch: 45 [ 0]\tTrain Loss: 1.004725\n",
      "Train Epoch: 45 [10]\tTrain Loss: 0.980430\n",
      "Train Epoch: 45 [20]\tTrain Loss: 0.852665\n",
      "\n",
      "[EPOCH: 45], \tTest Loss: 0.0146, \tTest Accuracy: 68.93 % \n",
      "\n",
      "Train Epoch: 46 [ 0]\tTrain Loss: 0.962389\n",
      "Train Epoch: 46 [10]\tTrain Loss: 0.941394\n",
      "Train Epoch: 46 [20]\tTrain Loss: 0.821095\n",
      "\n",
      "[EPOCH: 46], \tTest Loss: 0.0149, \tTest Accuracy: 67.31 % \n",
      "\n",
      "Train Epoch: 47 [ 0]\tTrain Loss: 0.888341\n",
      "Train Epoch: 47 [10]\tTrain Loss: 1.006381\n",
      "Train Epoch: 47 [20]\tTrain Loss: 0.904288\n",
      "\n",
      "[EPOCH: 47], \tTest Loss: 0.0135, \tTest Accuracy: 70.01 % \n",
      "\n",
      "Train Epoch: 48 [ 0]\tTrain Loss: 0.749472\n",
      "Train Epoch: 48 [10]\tTrain Loss: 1.180120\n",
      "Train Epoch: 48 [20]\tTrain Loss: 1.174084\n",
      "\n",
      "[EPOCH: 48], \tTest Loss: 0.0139, \tTest Accuracy: 69.31 % \n",
      "\n",
      "Train Epoch: 49 [ 0]\tTrain Loss: 0.890389\n",
      "Train Epoch: 49 [10]\tTrain Loss: 0.900384\n",
      "Train Epoch: 49 [20]\tTrain Loss: 0.897867\n",
      "\n",
      "[EPOCH: 49], \tTest Loss: 0.0132, \tTest Accuracy: 71.78 % \n",
      "\n",
      "Train Epoch: 50 [ 0]\tTrain Loss: 0.832751\n",
      "Train Epoch: 50 [10]\tTrain Loss: 0.781683\n",
      "Train Epoch: 50 [20]\tTrain Loss: 0.916692\n",
      "\n",
      "[EPOCH: 50], \tTest Loss: 0.0125, \tTest Accuracy: 76.18 % \n",
      "\n",
      "Train Epoch: 51 [ 0]\tTrain Loss: 0.689866\n",
      "Train Epoch: 51 [10]\tTrain Loss: 0.694873\n",
      "Train Epoch: 51 [20]\tTrain Loss: 1.043660\n",
      "\n",
      "[EPOCH: 51], \tTest Loss: 0.0125, \tTest Accuracy: 73.94 % \n",
      "\n",
      "Train Epoch: 52 [ 0]\tTrain Loss: 0.805334\n",
      "Train Epoch: 52 [10]\tTrain Loss: 0.777888\n",
      "Train Epoch: 52 [20]\tTrain Loss: 0.814263\n",
      "\n",
      "[EPOCH: 52], \tTest Loss: 0.0119, \tTest Accuracy: 75.25 % \n",
      "\n",
      "Train Epoch: 53 [ 0]\tTrain Loss: 0.735466\n",
      "Train Epoch: 53 [10]\tTrain Loss: 0.781844\n",
      "Train Epoch: 53 [20]\tTrain Loss: 1.014210\n",
      "\n",
      "[EPOCH: 53], \tTest Loss: 0.0128, \tTest Accuracy: 73.79 % \n",
      "\n",
      "Train Epoch: 54 [ 0]\tTrain Loss: 0.655301\n",
      "Train Epoch: 54 [10]\tTrain Loss: 0.825430\n",
      "Train Epoch: 54 [20]\tTrain Loss: 0.721283\n",
      "\n",
      "[EPOCH: 54], \tTest Loss: 0.0119, \tTest Accuracy: 72.78 % \n",
      "\n",
      "Train Epoch: 55 [ 0]\tTrain Loss: 0.537222\n",
      "Train Epoch: 55 [10]\tTrain Loss: 0.869217\n",
      "Train Epoch: 55 [20]\tTrain Loss: 0.826497\n",
      "\n",
      "[EPOCH: 55], \tTest Loss: 0.0115, \tTest Accuracy: 77.33 % \n",
      "\n",
      "Train Epoch: 56 [ 0]\tTrain Loss: 0.871176\n",
      "Train Epoch: 56 [10]\tTrain Loss: 0.708719\n",
      "Train Epoch: 56 [20]\tTrain Loss: 0.371724\n",
      "\n",
      "[EPOCH: 56], \tTest Loss: 0.0106, \tTest Accuracy: 78.33 % \n",
      "\n",
      "Train Epoch: 57 [ 0]\tTrain Loss: 0.748282\n",
      "Train Epoch: 57 [10]\tTrain Loss: 0.673588\n",
      "Train Epoch: 57 [20]\tTrain Loss: 0.730995\n",
      "\n",
      "[EPOCH: 57], \tTest Loss: 0.0106, \tTest Accuracy: 78.33 % \n",
      "\n",
      "Train Epoch: 58 [ 0]\tTrain Loss: 0.684392\n",
      "Train Epoch: 58 [10]\tTrain Loss: 0.688838\n",
      "Train Epoch: 58 [20]\tTrain Loss: 0.852460\n",
      "\n",
      "[EPOCH: 58], \tTest Loss: 0.0102, \tTest Accuracy: 79.41 % \n",
      "\n",
      "Train Epoch: 59 [ 0]\tTrain Loss: 0.747780\n",
      "Train Epoch: 59 [10]\tTrain Loss: 0.435877\n",
      "Train Epoch: 59 [20]\tTrain Loss: 0.705801\n",
      "\n",
      "[EPOCH: 59], \tTest Loss: 0.0089, \tTest Accuracy: 82.96 % \n",
      "\n",
      "Train Epoch: 60 [ 0]\tTrain Loss: 0.667772\n",
      "Train Epoch: 60 [10]\tTrain Loss: 0.602050\n",
      "Train Epoch: 60 [20]\tTrain Loss: 0.742144\n",
      "\n",
      "[EPOCH: 60], \tTest Loss: 0.0089, \tTest Accuracy: 83.65 % \n",
      "\n",
      "Train Epoch: 61 [ 0]\tTrain Loss: 0.646802\n",
      "Train Epoch: 61 [10]\tTrain Loss: 0.508899\n",
      "Train Epoch: 61 [20]\tTrain Loss: 0.499032\n",
      "\n",
      "[EPOCH: 61], \tTest Loss: 0.0089, \tTest Accuracy: 80.42 % \n",
      "\n",
      "Train Epoch: 62 [ 0]\tTrain Loss: 0.609917\n",
      "Train Epoch: 62 [10]\tTrain Loss: 0.667567\n",
      "Train Epoch: 62 [20]\tTrain Loss: 0.720824\n",
      "\n",
      "[EPOCH: 62], \tTest Loss: 0.0099, \tTest Accuracy: 78.95 % \n",
      "\n",
      "Train Epoch: 63 [ 0]\tTrain Loss: 0.537690\n",
      "Train Epoch: 63 [10]\tTrain Loss: 0.580786\n",
      "Train Epoch: 63 [20]\tTrain Loss: 0.330666\n",
      "\n",
      "[EPOCH: 63], \tTest Loss: 0.0096, \tTest Accuracy: 79.72 % \n",
      "\n",
      "Train Epoch: 64 [ 0]\tTrain Loss: 0.752973\n",
      "Train Epoch: 64 [10]\tTrain Loss: 0.476428\n",
      "Train Epoch: 64 [20]\tTrain Loss: 0.467477\n",
      "\n",
      "[EPOCH: 64], \tTest Loss: 0.0085, \tTest Accuracy: 82.50 % \n",
      "\n",
      "Train Epoch: 65 [ 0]\tTrain Loss: 0.527026\n",
      "Train Epoch: 65 [10]\tTrain Loss: 0.460089\n",
      "Train Epoch: 65 [20]\tTrain Loss: 0.357960\n",
      "\n",
      "[EPOCH: 65], \tTest Loss: 0.0099, \tTest Accuracy: 78.80 % \n",
      "\n",
      "Train Epoch: 66 [ 0]\tTrain Loss: 0.669261\n",
      "Train Epoch: 66 [10]\tTrain Loss: 0.656678\n",
      "Train Epoch: 66 [20]\tTrain Loss: 0.270385\n",
      "\n",
      "[EPOCH: 66], \tTest Loss: 0.0101, \tTest Accuracy: 78.95 % \n",
      "\n",
      "Train Epoch: 67 [ 0]\tTrain Loss: 0.654913\n",
      "Train Epoch: 67 [10]\tTrain Loss: 0.535864\n",
      "Train Epoch: 67 [20]\tTrain Loss: 0.672521\n",
      "\n",
      "[EPOCH: 67], \tTest Loss: 0.0085, \tTest Accuracy: 81.19 % \n",
      "\n",
      "Train Epoch: 68 [ 0]\tTrain Loss: 0.613915\n",
      "Train Epoch: 68 [10]\tTrain Loss: 0.634410\n",
      "Train Epoch: 68 [20]\tTrain Loss: 0.488277\n",
      "\n",
      "[EPOCH: 68], \tTest Loss: 0.0087, \tTest Accuracy: 81.19 % \n",
      "\n",
      "Train Epoch: 69 [ 0]\tTrain Loss: 0.500226\n",
      "Train Epoch: 69 [10]\tTrain Loss: 0.457071\n",
      "Train Epoch: 69 [20]\tTrain Loss: 0.326134\n",
      "\n",
      "[EPOCH: 69], \tTest Loss: 0.0072, \tTest Accuracy: 86.51 % \n",
      "\n",
      "Train Epoch: 70 [ 0]\tTrain Loss: 0.390934\n",
      "Train Epoch: 70 [10]\tTrain Loss: 0.460619\n",
      "Train Epoch: 70 [20]\tTrain Loss: 0.554257\n",
      "\n",
      "[EPOCH: 70], \tTest Loss: 0.0064, \tTest Accuracy: 87.05 % \n",
      "\n",
      "Train Epoch: 71 [ 0]\tTrain Loss: 0.466938\n",
      "Train Epoch: 71 [10]\tTrain Loss: 0.399963\n",
      "Train Epoch: 71 [20]\tTrain Loss: 0.474805\n",
      "\n",
      "[EPOCH: 71], \tTest Loss: 0.0077, \tTest Accuracy: 84.73 % \n",
      "\n",
      "Train Epoch: 72 [ 0]\tTrain Loss: 0.468162\n",
      "Train Epoch: 72 [10]\tTrain Loss: 0.425357\n",
      "Train Epoch: 72 [20]\tTrain Loss: 0.227815\n",
      "\n",
      "[EPOCH: 72], \tTest Loss: 0.0062, \tTest Accuracy: 87.28 % \n",
      "\n",
      "Train Epoch: 73 [ 0]\tTrain Loss: 0.432765\n",
      "Train Epoch: 73 [10]\tTrain Loss: 0.363739\n",
      "Train Epoch: 73 [20]\tTrain Loss: 0.436956\n",
      "\n",
      "[EPOCH: 73], \tTest Loss: 0.0060, \tTest Accuracy: 88.82 % \n",
      "\n",
      "Train Epoch: 74 [ 0]\tTrain Loss: 0.325954\n",
      "Train Epoch: 74 [10]\tTrain Loss: 0.368750\n",
      "Train Epoch: 74 [20]\tTrain Loss: 0.266705\n",
      "\n",
      "[EPOCH: 74], \tTest Loss: 0.0057, \tTest Accuracy: 89.51 % \n",
      "\n",
      "Train Epoch: 75 [ 0]\tTrain Loss: 0.319171\n",
      "Train Epoch: 75 [10]\tTrain Loss: 0.369421\n",
      "Train Epoch: 75 [20]\tTrain Loss: 0.253535\n",
      "\n",
      "[EPOCH: 75], \tTest Loss: 0.0054, \tTest Accuracy: 90.98 % \n",
      "\n",
      "Train Epoch: 76 [ 0]\tTrain Loss: 0.338550\n",
      "Train Epoch: 76 [10]\tTrain Loss: 0.373646\n",
      "Train Epoch: 76 [20]\tTrain Loss: 0.378549\n",
      "\n",
      "[EPOCH: 76], \tTest Loss: 0.0052, \tTest Accuracy: 91.67 % \n",
      "\n",
      "Train Epoch: 77 [ 0]\tTrain Loss: 0.264475\n",
      "Train Epoch: 77 [10]\tTrain Loss: 0.301741\n",
      "Train Epoch: 77 [20]\tTrain Loss: 0.648540\n",
      "\n",
      "[EPOCH: 77], \tTest Loss: 0.0049, \tTest Accuracy: 91.98 % \n",
      "\n",
      "Train Epoch: 78 [ 0]\tTrain Loss: 0.236121\n",
      "Train Epoch: 78 [10]\tTrain Loss: 0.222113\n",
      "Train Epoch: 78 [20]\tTrain Loss: 0.192148\n",
      "\n",
      "[EPOCH: 78], \tTest Loss: 0.0046, \tTest Accuracy: 92.44 % \n",
      "\n",
      "Train Epoch: 79 [ 0]\tTrain Loss: 0.207784\n",
      "Train Epoch: 79 [10]\tTrain Loss: 0.336460\n",
      "Train Epoch: 79 [20]\tTrain Loss: 0.479320\n",
      "\n",
      "[EPOCH: 79], \tTest Loss: 0.0042, \tTest Accuracy: 92.75 % \n",
      "\n",
      "Train Epoch: 80 [ 0]\tTrain Loss: 0.317663\n",
      "Train Epoch: 80 [10]\tTrain Loss: 0.224674\n",
      "Train Epoch: 80 [20]\tTrain Loss: 0.270435\n",
      "\n",
      "[EPOCH: 80], \tTest Loss: 0.0044, \tTest Accuracy: 91.67 % \n",
      "\n",
      "Train Epoch: 81 [ 0]\tTrain Loss: 0.164104\n",
      "Train Epoch: 81 [10]\tTrain Loss: 0.314665\n",
      "Train Epoch: 81 [20]\tTrain Loss: 0.258517\n",
      "\n",
      "[EPOCH: 81], \tTest Loss: 0.0042, \tTest Accuracy: 93.22 % \n",
      "\n",
      "Train Epoch: 82 [ 0]\tTrain Loss: 0.208804\n",
      "Train Epoch: 82 [10]\tTrain Loss: 0.215904\n",
      "Train Epoch: 82 [20]\tTrain Loss: 0.231068\n",
      "\n",
      "[EPOCH: 82], \tTest Loss: 0.0062, \tTest Accuracy: 87.59 % \n",
      "\n",
      "Train Epoch: 83 [ 0]\tTrain Loss: 0.480661\n",
      "Train Epoch: 83 [10]\tTrain Loss: 0.165956\n",
      "Train Epoch: 83 [20]\tTrain Loss: 0.106241\n",
      "\n",
      "[EPOCH: 83], \tTest Loss: 0.0040, \tTest Accuracy: 92.60 % \n",
      "\n",
      "Train Epoch: 84 [ 0]\tTrain Loss: 0.282736\n",
      "Train Epoch: 84 [10]\tTrain Loss: 0.138704\n",
      "Train Epoch: 84 [20]\tTrain Loss: 0.329117\n",
      "\n",
      "[EPOCH: 84], \tTest Loss: 0.0039, \tTest Accuracy: 93.37 % \n",
      "\n",
      "Train Epoch: 85 [ 0]\tTrain Loss: 0.162411\n",
      "Train Epoch: 85 [10]\tTrain Loss: 0.163205\n",
      "Train Epoch: 85 [20]\tTrain Loss: 0.129032\n",
      "\n",
      "[EPOCH: 85], \tTest Loss: 0.0037, \tTest Accuracy: 94.53 % \n",
      "\n",
      "Train Epoch: 86 [ 0]\tTrain Loss: 0.217752\n",
      "Train Epoch: 86 [10]\tTrain Loss: 0.161999\n",
      "Train Epoch: 86 [20]\tTrain Loss: 0.097263\n",
      "\n",
      "[EPOCH: 86], \tTest Loss: 0.0040, \tTest Accuracy: 92.06 % \n",
      "\n",
      "Train Epoch: 87 [ 0]\tTrain Loss: 0.278870\n",
      "Train Epoch: 87 [10]\tTrain Loss: 0.121358\n",
      "Train Epoch: 87 [20]\tTrain Loss: 0.151382\n",
      "\n",
      "[EPOCH: 87], \tTest Loss: 0.0033, \tTest Accuracy: 94.91 % \n",
      "\n",
      "Train Epoch: 88 [ 0]\tTrain Loss: 0.196181\n",
      "Train Epoch: 88 [10]\tTrain Loss: 0.275202\n",
      "Train Epoch: 88 [20]\tTrain Loss: 0.180322\n",
      "\n",
      "[EPOCH: 88], \tTest Loss: 0.0033, \tTest Accuracy: 94.68 % \n",
      "\n",
      "Train Epoch: 89 [ 0]\tTrain Loss: 0.107495\n",
      "Train Epoch: 89 [10]\tTrain Loss: 0.119550\n",
      "Train Epoch: 89 [20]\tTrain Loss: 0.140898\n",
      "\n",
      "[EPOCH: 89], \tTest Loss: 0.0034, \tTest Accuracy: 94.60 % \n",
      "\n",
      "Train Epoch: 90 [ 0]\tTrain Loss: 0.222869\n",
      "Train Epoch: 90 [10]\tTrain Loss: 0.222706\n",
      "Train Epoch: 90 [20]\tTrain Loss: 0.169618\n",
      "\n",
      "[EPOCH: 90], \tTest Loss: 0.0025, \tTest Accuracy: 96.30 % \n",
      "\n",
      "Train Epoch: 91 [ 0]\tTrain Loss: 0.137143\n",
      "Train Epoch: 91 [10]\tTrain Loss: 0.240234\n",
      "Train Epoch: 91 [20]\tTrain Loss: 0.118099\n",
      "\n",
      "[EPOCH: 91], \tTest Loss: 0.0028, \tTest Accuracy: 96.22 % \n",
      "\n",
      "Train Epoch: 92 [ 0]\tTrain Loss: 0.254760\n",
      "Train Epoch: 92 [10]\tTrain Loss: 0.183823\n",
      "Train Epoch: 92 [20]\tTrain Loss: 0.225348\n",
      "\n",
      "[EPOCH: 92], \tTest Loss: 0.0029, \tTest Accuracy: 95.53 % \n",
      "\n",
      "Train Epoch: 93 [ 0]\tTrain Loss: 0.178113\n",
      "Train Epoch: 93 [10]\tTrain Loss: 0.136627\n",
      "Train Epoch: 93 [20]\tTrain Loss: 0.349603\n",
      "\n",
      "[EPOCH: 93], \tTest Loss: 0.0025, \tTest Accuracy: 96.61 % \n",
      "\n",
      "Train Epoch: 94 [ 0]\tTrain Loss: 0.130171\n",
      "Train Epoch: 94 [10]\tTrain Loss: 0.114719\n",
      "Train Epoch: 94 [20]\tTrain Loss: 0.092493\n",
      "\n",
      "[EPOCH: 94], \tTest Loss: 0.0022, \tTest Accuracy: 96.92 % \n",
      "\n",
      "Train Epoch: 95 [ 0]\tTrain Loss: 0.155324\n",
      "Train Epoch: 95 [10]\tTrain Loss: 0.116863\n",
      "Train Epoch: 95 [20]\tTrain Loss: 0.061811\n",
      "\n",
      "[EPOCH: 95], \tTest Loss: 0.0022, \tTest Accuracy: 97.07 % \n",
      "\n",
      "Train Epoch: 96 [ 0]\tTrain Loss: 0.114610\n",
      "Train Epoch: 96 [10]\tTrain Loss: 0.232645\n",
      "Train Epoch: 96 [20]\tTrain Loss: 0.096492\n",
      "\n",
      "[EPOCH: 96], \tTest Loss: 0.0021, \tTest Accuracy: 96.92 % \n",
      "\n",
      "Train Epoch: 97 [ 0]\tTrain Loss: 0.155411\n",
      "Train Epoch: 97 [10]\tTrain Loss: 0.132748\n",
      "Train Epoch: 97 [20]\tTrain Loss: 0.136901\n",
      "\n",
      "[EPOCH: 97], \tTest Loss: 0.0021, \tTest Accuracy: 96.99 % \n",
      "\n",
      "Train Epoch: 98 [ 0]\tTrain Loss: 0.085535\n",
      "Train Epoch: 98 [10]\tTrain Loss: 0.080991\n",
      "Train Epoch: 98 [20]\tTrain Loss: 0.204142\n",
      "\n",
      "[EPOCH: 98], \tTest Loss: 0.0018, \tTest Accuracy: 98.30 % \n",
      "\n",
      "Train Epoch: 99 [ 0]\tTrain Loss: 0.070296\n",
      "Train Epoch: 99 [10]\tTrain Loss: 0.129445\n",
      "Train Epoch: 99 [20]\tTrain Loss: 0.369720\n",
      "\n",
      "[EPOCH: 99], \tTest Loss: 0.0020, \tTest Accuracy: 97.30 % \n",
      "\n",
      "Train Epoch: 100 [ 0]\tTrain Loss: 0.050392\n",
      "Train Epoch: 100 [10]\tTrain Loss: 0.073697\n",
      "Train Epoch: 100 [20]\tTrain Loss: 0.037689\n",
      "\n",
      "[EPOCH: 100], \tTest Loss: 0.0017, \tTest Accuracy: 97.30 % \n"
     ]
    }
   ],
   "source": [
    "## train에 쓰는 데이터와 test에 쓰는 데이터를 다르게 둬야 하는데, 지금은 그렇게 하지 못 함.\n",
    "test_loss_list, test_accuracy_list = [], []\n",
    "\n",
    "for epoch in range(1, EPOCHS + 1):\n",
    "    \n",
    "    train(epoch, model, imgDL, optimizer, log_interval = 10)\n",
    "    test_loss, test_accuracy = evaluate(model, imgDL)\n",
    "    test_loss_list.append(test_loss)\n",
    "    test_accuracy_list.append(test_accuracy)\n",
    "    \n",
    "    print(f\"\\n[EPOCH: {epoch}], \\tTest Loss: {test_loss:.4f}, \\tTest Accuracy: {test_accuracy:.2f} % \\n\")"
   ],
   "metadata": {
    "collapsed": false,
    "ExecuteTime": {
     "end_time": "2024-03-26T00:35:28.464909800Z",
     "start_time": "2024-03-26T00:32:48.849513800Z"
    }
   },
   "id": "2def78a23481ccaf",
   "execution_count": 99
  },
  {
   "cell_type": "code",
   "outputs": [
    {
     "data": {
      "text/plain": "<Figure size 640x480 with 2 Axes>",
      "image/png": "[encoded data removed]"
     },
     "metadata": {},
     "output_type": "display_data"
    }
   ],
   "source": [
    "### 테스트 Loss와 Acc 시각화\n",
    "fig, ax1 = plt.subplots()\n",
    "ax1.plot(test_loss_list, label='loss', color='red')\n",
    "\n",
    "ax2 = ax1.twinx()\n",
    "ax2.plot(test_accuracy_list, label='acc', color='blue')\n",
    "\n",
    "ax1.legend(loc='upper left')\n",
    "ax2.legend(loc='upper right')\n",
    "plt.title('[TEST] loss & acc')\n",
    "plt.show()"
   ],
   "metadata": {
    "collapsed": false,
    "ExecuteTime": {
     "end_time": "2024-03-26T00:35:36.106169300Z",
     "start_time": "2024-03-26T00:35:35.902082300Z"
    }
   },
   "id": "c7157bc51128c653",
   "execution_count": 101
  },
  {
   "cell_type": "code",
   "outputs": [],
   "source": [],
   "metadata": {
    "collapsed": false
   },
   "id": "47db09b8fdffbf14"
  }
 ],
 "metadata": {
  "kernelspec": {
   "display_name": "Python 3",
   "language": "python",
   "name": "python3"
  },
  "language_info": {
   "codemirror_mode": {
    "name": "ipython",
    "version": 2
   },
   "file_extension": ".py",
   "mimetype": "text/x-python",
   "name": "python",
   "nbconvert_exporter": "python",
   "pygments_lexer": "ipython2",
   "version": "2.7.6"
  }
 },
 "nbformat": 4,
 "nbformat_minor": 5
}
