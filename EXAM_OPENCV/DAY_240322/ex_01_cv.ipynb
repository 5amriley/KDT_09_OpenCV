{
 "cells": [
  {
   "cell_type": "markdown",
   "source": [
    "### 기본적인 이미지 다루기"
   ],
   "metadata": {
    "collapsed": false
   },
   "id": "2f483bbe6a5ebb80"
  },
  {
   "cell_type": "code",
   "outputs": [],
   "source": [
    "### 모듈 로딩\n",
    "import cv2\n",
    "import numpy as np"
   ],
   "metadata": {
    "collapsed": false,
    "ExecuteTime": {
     "end_time": "2024-03-22T02:05:06.657055600Z",
     "start_time": "2024-03-22T02:05:06.530277500Z"
    }
   },
   "id": "9c917ac0b6120cbd",
   "execution_count": 2
  },
  {
   "cell_type": "markdown",
   "source": [
    "[1] 이미지 데이터 로딩  \n",
    "    - 컬러 / 회색 이미지 변환 로딩 가능함"
   ],
   "metadata": {
    "collapsed": false
   },
   "id": "c417b15ad95a5b31"
  },
  {
   "cell_type": "code",
   "outputs": [],
   "source": [
    "file = r'..\\data\\img\\Italian_greyhound\\n02091032_55.jpg'"
   ],
   "metadata": {
    "collapsed": false,
    "ExecuteTime": {
     "end_time": "2024-03-22T02:05:06.670784400Z",
     "start_time": "2024-03-22T02:05:06.658165600Z"
    }
   },
   "id": "7a11bc998d8ad212",
   "execution_count": 3
  },
  {
   "cell_type": "code",
   "outputs": [],
   "source": [
    "### 컬러 이미지 로딩 [기본값]\n",
    "img_rgb = cv2.imread(file, cv2.IMREAD_COLOR)\n",
    "\n",
    "### 회색 이미지 로딩\n",
    "img_gray = cv2.imread(file, cv2.IMREAD_GRAYSCALE)"
   ],
   "metadata": {
    "collapsed": false,
    "ExecuteTime": {
     "end_time": "2024-03-22T02:05:06.696667300Z",
     "start_time": "2024-03-22T02:05:06.672921200Z"
    }
   },
   "id": "b8617836d460c81c",
   "execution_count": 4
  },
  {
   "cell_type": "code",
   "outputs": [
    {
     "name": "stdout",
     "output_type": "stream",
     "text": [
      "[Color IMAGE]\n",
      "SHAPE : (392, 500, 3)     DIM : 3차원\n",
      "DTYPE : uint8     SIZE : 588000바이트\n",
      "\n",
      "[Color IMAGE]\n",
      "SHAPE : (392, 500)     DIM : 2차원\n",
      "DTYPE : uint8     SIZE : 196000바이트\n"
     ]
    }
   ],
   "source": [
    "### 이미지 데이터 정보확인\n",
    "print(f'[Color IMAGE]')\n",
    "print(f'SHAPE : {img_rgb.shape}     DIM : {img_rgb.ndim}차원')\n",
    "print(f'DTYPE : {img_rgb.dtype}     SIZE : {img_rgb.size}바이트\\n')\n",
    "\n",
    "print(f'[Color IMAGE]')\n",
    "print(f'SHAPE : {img_gray.shape}     DIM : {img_gray.ndim}차원')\n",
    "print(f'DTYPE : {img_gray.dtype}     SIZE : {img_gray.size}바이트')"
   ],
   "metadata": {
    "collapsed": false,
    "ExecuteTime": {
     "end_time": "2024-03-22T02:05:06.707963700Z",
     "start_time": "2024-03-22T02:05:06.690235600Z"
    }
   },
   "id": "d6056b125ae95cd9",
   "execution_count": 5
  },
  {
   "cell_type": "code",
   "outputs": [],
   "source": [
    "### 이미지 창 띄우기\n",
    "cv2.imshow('[ COLOR ]', img_rgb)\n",
    "\n",
    "### 이미지 창 제어\n",
    "# 키보드 입력 대기하는 함수 \n",
    "# - delay 인자를 주면 지정한 시간 동안 프로그램을 멈추고 대기.\n",
    "# - 지정한 시간까지 키보드 입력이 없으면 -1 반환\n",
    "cv2.waitKey()\n",
    "\n",
    "### 이미지 창 닫기\n",
    "cv2.destroyAllWindows()"
   ],
   "metadata": {
    "collapsed": false,
    "ExecuteTime": {
     "end_time": "2024-03-22T02:05:09.996865500Z",
     "start_time": "2024-03-22T02:05:06.706872900Z"
    }
   },
   "id": "d92a4fb1c66b018f",
   "execution_count": 6
  },
  {
   "cell_type": "code",
   "outputs": [
    {
     "name": "stdout",
     "output_type": "stream",
     "text": [
      "key >> 27 - 0x1b\n"
     ]
    }
   ],
   "source": [
    "if img_rgb is not None:\n",
    "    cv2.imshow('IMG', img_rgb)\n",
    "    while True:\n",
    "        key = cv2.waitKey()                     # 키 입력 대기\n",
    "        print(f'key >> {key} - {hex(key)}')     # 입력 키 출력\n",
    "        \n",
    "        if key == 27:                   # ESC키일 때 화면 종료\n",
    "            cv2.destroyAllWindows()\n",
    "            break\n",
    "else:\n",
    "    print('No image file !!!')"
   ],
   "metadata": {
    "collapsed": false,
    "ExecuteTime": {
     "end_time": "2024-03-22T02:05:11.884796500Z",
     "start_time": "2024-03-22T02:05:09.998970100Z"
    }
   },
   "id": "88cb970b474c4a3d",
   "execution_count": 7
  },
  {
   "cell_type": "code",
   "outputs": [],
   "source": [
    "### 회색 이미지 저장\n",
    "save_filename = '../data/img/greyhound_gray.jpg'\n",
    "gray_file = cv2.imwrite(save_filename, img_gray)"
   ],
   "metadata": {
    "collapsed": false,
    "ExecuteTime": {
     "end_time": "2024-03-22T02:05:11.914513300Z",
     "start_time": "2024-03-22T02:05:11.886962800Z"
    }
   },
   "id": "de64f1aef5066dc8",
   "execution_count": 8
  },
  {
   "cell_type": "code",
   "outputs": [
    {
     "name": "stdout",
     "output_type": "stream",
     "text": [
      "True\n"
     ]
    }
   ],
   "source": [
    "print(gray_file)    # 저장 성공"
   ],
   "metadata": {
    "collapsed": false,
    "ExecuteTime": {
     "end_time": "2024-03-22T02:05:11.931332400Z",
     "start_time": "2024-03-22T02:05:11.901504600Z"
    }
   },
   "id": "65bdf052f050dfc6",
   "execution_count": 9
  },
  {
   "cell_type": "code",
   "outputs": [],
   "source": [
    "### 이미지 채널 분리\n",
    "img_b, img_g, img_r = cv2.split(img_rgb)    # 이미지 채널 분리 B G R\n",
    "\n",
    "cv2.imshow('[Blue Channel]', img_b)\n",
    "cv2.waitKey(delay=3000)     # 3초 뒤에 꺼지게 하기\n",
    "cv2.destroyWindow('[Blue Channel]')\n",
    "\n",
    "cv2.imshow('[Green Channel]', img_g)\n",
    "cv2.waitKey(delay=3000)     # 3초 뒤에 꺼지게 하기\n",
    "cv2.destroyWindow('[Green Channel]')\n",
    "\n",
    "cv2.imshow('[Red Channel]', img_r)\n",
    "cv2.waitKey(delay=3000)     # 3초 뒤에 꺼지게 하기\n",
    "cv2.destroyWindow('[Red Channel]')"
   ],
   "metadata": {
    "collapsed": false,
    "ExecuteTime": {
     "end_time": "2024-03-22T02:07:19.989122500Z",
     "start_time": "2024-03-22T02:07:10.872592900Z"
    }
   },
   "id": "70c91ef45b5160fb",
   "execution_count": 15
  },
  {
   "cell_type": "code",
   "outputs": [],
   "source": [
    "### 이미지 채널 분리 (인덱싱 활용)\n",
    "# ndarray 분리\n",
    "b, g, r = img_rgb[:, :, 0], img_rgb[:, :, 1], img_rgb[:, :, 2]\n",
    "\n",
    "cv2.imshow('[IMG-R]', r)\n",
    "cv2.imshow('[IMG-G]', g)\n",
    "cv2.imshow('[IMG-B]', b)\n",
    "cv2.waitKey()\n",
    "cv2.destroyAllWindows()"
   ],
   "metadata": {
    "collapsed": false,
    "ExecuteTime": {
     "end_time": "2024-03-22T02:11:13.058166700Z",
     "start_time": "2024-03-22T02:10:51.975090100Z"
    }
   },
   "id": "bc0ec62c2668b2a6",
   "execution_count": 17
  },
  {
   "cell_type": "code",
   "outputs": [],
   "source": [
    "### 이미지 채널 병합\n",
    "# (b, g, r) 순으로 병합하면 정상적으로 나온다.\n",
    "img_rgb2 = cv2.merge((r, b, g))     # 채널 순서 변경\n",
    "\n",
    "cv2.imshow('[RGB IMAGE]', img_rgb2)\n",
    "\n",
    "cv2.waitKey()\n",
    "cv2.destroyAllWindows()"
   ],
   "metadata": {
    "collapsed": false,
    "ExecuteTime": {
     "end_time": "2024-03-22T02:17:57.467427400Z",
     "start_time": "2024-03-22T02:17:46.765275400Z"
    }
   },
   "id": "5b5050e40e31a64a",
   "execution_count": 21
  },
  {
   "cell_type": "code",
   "outputs": [],
   "source": [
    "### 이미지 색공간 변환\n",
    "# 이미지 채널 BGR -> HSV\n",
    "src_hsv = cv2.cvtColor(img_rgb, cv2.COLOR_BGR2HSV)\n",
    "\n",
    "cv2.imshow('[HSV IMG]', src_hsv)\n",
    "\n",
    "cv2.waitKey()\n",
    "cv2.destroyAllWindows()"
   ],
   "metadata": {
    "collapsed": false,
    "ExecuteTime": {
     "end_time": "2024-03-22T02:21:49.056395600Z",
     "start_time": "2024-03-22T02:21:37.444959900Z"
    }
   },
   "id": "b176387f8221dc8d",
   "execution_count": 22
  },
  {
   "cell_type": "code",
   "outputs": [],
   "source": [
    "planes = cv2.split(src_hsv)\n",
    "\n",
    "cv2.imshow('[H Channel]', planes[0])\n",
    "cv2.waitKey(delay=3000)     # 3초 뒤에 꺼지게 하기\n",
    "cv2.destroyWindow('[H Channel]')\n",
    "\n",
    "cv2.imshow('[S Channel]', planes[1])\n",
    "cv2.waitKey(delay=3000)     # 3초 뒤에 꺼지게 하기\n",
    "cv2.destroyWindow('[S Channel]')\n",
    "\n",
    "cv2.imshow('[V Channel]', planes[2])\n",
    "cv2.waitKey(delay=3000)     # 3초 뒤에 꺼지게 하기\n",
    "cv2.destroyWindow('[V Channel]')"
   ],
   "metadata": {
    "collapsed": false,
    "ExecuteTime": {
     "end_time": "2024-03-22T02:28:56.213724200Z",
     "start_time": "2024-03-22T02:28:47.116072100Z"
    }
   },
   "id": "17766a586b8a6ef",
   "execution_count": 27
  },
  {
   "cell_type": "code",
   "outputs": [],
   "source": [
    "### 이미지 크기 변경\n",
    "down_img = cv2.resize(img_rgb, dsize=(30, 30), interpolation=cv2.INTER_AREA)\n",
    "up_img = cv2.resize(img_rgb, dsize=(0, 0), fx=1.5, fy=1.5, interpolation=cv2.INTER_CUBIC)\n",
    "\n",
    "cv2.imshow('down_img', down_img)\n",
    "cv2.imshow('up_img', up_img)\n",
    "cv2.imshow('ORG', img_rgb)\n",
    "\n",
    "cv2.waitKey()\n",
    "cv2.destroyAllWindows()"
   ],
   "metadata": {
    "collapsed": false,
    "ExecuteTime": {
     "end_time": "2024-03-22T04:10:53.562559100Z",
     "start_time": "2024-03-22T04:10:35.065666900Z"
    }
   },
   "id": "3158042e1603a41a",
   "execution_count": 28
  },
  {
   "cell_type": "code",
   "outputs": [],
   "source": [
    "cv2.imshow('COLOR', img_rgb)\n",
    "\n",
    "### Windows 속성 중 창이 존재하는지 체크하는 속성 cv2.WMD_PROP_VISIBLE\n",
    "if cv2.waitKey() or cv2.getWindowProperty('[COLOR]', cv2.WND_PROP_VISIBLE) <1:\n",
    "    # 이미지 창 닫기\n",
    "    cv2.destroyAllWindows()"
   ],
   "metadata": {
    "collapsed": false,
    "ExecuteTime": {
     "end_time": "2024-03-22T04:12:43.887975300Z",
     "start_time": "2024-03-22T04:12:38.043748Z"
    }
   },
   "id": "f3b5aa7ea4c6229f",
   "execution_count": 30
  },
  {
   "cell_type": "code",
   "outputs": [
    {
     "data": {
      "text/plain": "(500, 500)"
     },
     "execution_count": 55,
     "metadata": {},
     "output_type": "execute_result"
    }
   ],
   "source": [
    "### 도화지 만들기\n",
    "img_b = np.zeros((500, 500), dtype=np.uint8)\n",
    "img_b.shape"
   ],
   "metadata": {
    "collapsed": false,
    "ExecuteTime": {
     "end_time": "2024-03-22T04:29:40.914134900Z",
     "start_time": "2024-03-22T04:29:40.890135300Z"
    }
   },
   "id": "58932b554195af0a",
   "execution_count": 55
  },
  {
   "cell_type": "code",
   "outputs": [
    {
     "data": {
      "text/plain": "(500, 500, 3)"
     },
     "execution_count": 71,
     "metadata": {},
     "output_type": "execute_result"
    }
   ],
   "source": [
    "### 도화지 만들기\n",
    "img_w = np.full((500, 500, 3), 255, dtype=np.uint8)     # 크기를 (500, 500)으로 주면 흑백으로만 그려진다.\n",
    "img_w.shape"
   ],
   "metadata": {
    "collapsed": false,
    "ExecuteTime": {
     "end_time": "2024-03-22T04:42:00.426451700Z",
     "start_time": "2024-03-22T04:42:00.406123600Z"
    }
   },
   "id": "58fa4f66fae83d7f",
   "execution_count": 71
  },
  {
   "cell_type": "code",
   "outputs": [
    {
     "name": "stdout",
     "output_type": "stream",
     "text": [
      "[[0 0 0 ... 0 0 0]\n",
      " [0 0 0 ... 0 0 0]\n",
      " [0 0 0 ... 0 0 0]\n",
      " ...\n",
      " [0 0 0 ... 0 0 0]\n",
      " [0 0 0 ... 0 0 0]\n",
      " [0 0 0 ... 0 0 0]]\n"
     ]
    }
   ],
   "source": [
    "print(img_b)"
   ],
   "metadata": {
    "collapsed": false,
    "ExecuteTime": {
     "end_time": "2024-03-22T04:42:03.381857Z",
     "start_time": "2024-03-22T04:42:03.362421300Z"
    }
   },
   "id": "ae2567558f71a6cc",
   "execution_count": 72
  },
  {
   "cell_type": "code",
   "outputs": [],
   "source": [
    "cv2.imshow('BLACK', img_b)\n",
    "cv2.imshow('WHITE', img_w)\n",
    "cv2.waitKey(5000)\n",
    "cv2.destroyAllWindows()"
   ],
   "metadata": {
    "collapsed": false,
    "ExecuteTime": {
     "end_time": "2024-03-22T04:24:54.152830Z",
     "start_time": "2024-03-22T04:24:49.076987100Z"
    }
   },
   "id": "e2bf4677af5ebd69",
   "execution_count": 52
  },
  {
   "cell_type": "code",
   "outputs": [],
   "source": [
    "### 이미지 데이터에 그림 그리기\n",
    "### (0, 0)은 왼쪽 위. \n",
    "img = img_w\n",
    "cv2.line(img, (50, 50), (150, 50), (255, 0, 0))\n",
    "cv2.line(img, (200, 50), (300, 50), (0, 255, 0))\n",
    "cv2.line(img, (350, 50), (450, 50), (0, 0, 255))\n",
    "\n",
    "cv2.line(img, (100, 100), (400, 100), (255, 255, 0), 10)\n",
    "cv2.line(img, (100, 150), (400, 150), (255, 0, 255), 10)\n",
    "cv2.line(img, (100, 200), (400, 200), (0, 255, 255), 10)\n",
    "cv2.line(img, (100, 250), (400, 250), (255, 255, 0), 10)\n",
    "cv2.line(img, (100, 300), (400, 300), (0, 0, 0), 10)\n",
    "\n",
    "cv2.line(img, (100, 350), (400, 400), (0, 0, 255), 20, cv2.LINE_4)\n",
    "cv2.line(img, (100, 400), (400, 450), (0, 0, 255), 20, cv2.LINE_8)\n",
    "cv2.line(img, (100, 450), (400, 500), (0, 0, 255), 20, cv2.LINE_AA)\n",
    "cv2.line(img, (0, 0), (500, 500), (0, 0, 255))\n",
    "\n",
    "cv2.imshow('lines', img)\n",
    "cv2.waitKey(0)\n",
    "cv2.destroyAllWindows()"
   ],
   "metadata": {
    "collapsed": false,
    "ExecuteTime": {
     "end_time": "2024-03-22T04:44:20.602989600Z",
     "start_time": "2024-03-22T04:44:18.966334800Z"
    }
   },
   "id": "daacab08d6d74758",
   "execution_count": 76
  },
  {
   "cell_type": "code",
   "outputs": [],
   "source": [
    "def get_drawing_paper(H, W, mode='w', color=True):\n",
    "    \"\"\" 빈 도화지 생성, 반환하는 함수 \"\"\"\n",
    "    # H : Height, W : Width\n",
    "    if color:\n",
    "        img = np.full((H, W, 3), 255 if mode=='w' else 0, dtype=np.uint8)\n",
    "    else:\n",
    "        img = np.full((H, W), 255, dtype=np.uint8)\n",
    "    return img"
   ],
   "metadata": {
    "collapsed": false,
    "ExecuteTime": {
     "end_time": "2024-03-22T04:55:42.503729100Z",
     "start_time": "2024-03-22T04:55:42.478663200Z"
    }
   },
   "id": "b0ed6f1858a357c0",
   "execution_count": 83
  },
  {
   "cell_type": "code",
   "outputs": [],
   "source": [
    "def show_img_window(img, wait=0, title='default'):\n",
    "    \"\"\" 지정한 시간(ms)만큼 보였다가 자동으로 꺼지는 창 생성하기 \"\"\"\n",
    "    cv2.imshow(title, img)\n",
    "    print(cv2.getWindowImageRect(title))\n",
    "    \n",
    "    cv2.moveWindow(title, 100, 500)     # (제목, 가로, 세로)\n",
    "    \n",
    "    cv2.waitKey(wait)\n",
    "    cv2.destroyAllWindows()"
   ],
   "metadata": {
    "collapsed": false,
    "ExecuteTime": {
     "end_time": "2024-03-22T05:12:07.009024200Z",
     "start_time": "2024-03-22T05:12:06.969398600Z"
    }
   },
   "id": "a623bc8921398274",
   "execution_count": 145
  },
  {
   "cell_type": "code",
   "outputs": [],
   "source": [
    "img = get_drawing_paper(700, 700, 'w')"
   ],
   "metadata": {
    "collapsed": false,
    "ExecuteTime": {
     "end_time": "2024-03-22T05:12:07.221998300Z",
     "start_time": "2024-03-22T05:12:07.186993200Z"
    }
   },
   "id": "c30b2bcfa4e9cb1a",
   "execution_count": 146
  },
  {
   "cell_type": "code",
   "outputs": [
    {
     "name": "stdout",
     "output_type": "stream",
     "text": [
      "(999, 531, 700, 700)\n"
     ]
    }
   ],
   "source": [
    "show_img_window(img, 2000, 'art')"
   ],
   "metadata": {
    "collapsed": false,
    "ExecuteTime": {
     "end_time": "2024-03-22T05:12:09.712691500Z",
     "start_time": "2024-03-22T05:12:07.661534900Z"
    }
   },
   "id": "ca0a01d6242c378c",
   "execution_count": 147
  },
  {
   "cell_type": "markdown",
   "source": [
    "얼굴인식"
   ],
   "metadata": {
    "collapsed": false
   },
   "id": "5c79aec12e022300"
  },
  {
   "cell_type": "code",
   "outputs": [],
   "source": [
    "# 이미지 파일 및 정면얼굴 인식 모델 경로\n",
    "frontalface_model = r'../data/haarcascades/haarcascade_frontalface_alt.xml'\n",
    "img_file = r'../data/img/news_image.jpg'"
   ],
   "metadata": {
    "collapsed": false,
    "ExecuteTime": {
     "end_time": "2024-03-22T05:56:21.162736700Z",
     "start_time": "2024-03-22T05:56:21.123378200Z"
    }
   },
   "id": "81bd07be020d8031",
   "execution_count": 196
  },
  {
   "cell_type": "code",
   "outputs": [],
   "source": [
    "# 정면얼굴 인식 모델 로딩\n",
    "face_detector = cv2.CascadeClassifier(frontalface_model)"
   ],
   "metadata": {
    "collapsed": false,
    "ExecuteTime": {
     "end_time": "2024-03-22T05:56:21.348084400Z",
     "start_time": "2024-03-22T05:56:21.315714300Z"
    }
   },
   "id": "bae5245bc4fbc3c9",
   "execution_count": 197
  },
  {
   "cell_type": "code",
   "outputs": [
    {
     "name": "stdout",
     "output_type": "stream",
     "text": [
      "** face_dections result\n",
      "[[962 190 114 114]\n",
      " [212 175 132 132]]\n"
     ]
    }
   ],
   "source": [
    "# 이미지 데이터 로딩\n",
    "imgNP = cv2.imread(img_file)\n",
    "imgNP.shape\n",
    "\n",
    "# 이미지에서 정면 얼굴 인식 \n",
    "face_detections = face_detector.detectMultiScale(imgNP)\n",
    "print(f'** face_dections result\\n{face_detections}')"
   ],
   "metadata": {
    "collapsed": false,
    "ExecuteTime": {
     "end_time": "2024-03-22T05:56:21.726270Z",
     "start_time": "2024-03-22T05:56:21.532501500Z"
    }
   },
   "id": "50ff4d8eff6d01b",
   "execution_count": 198
  },
  {
   "cell_type": "code",
   "outputs": [],
   "source": [
    "# 인식된 정면 얼굴 ROI 표시\n",
    "for (x, y, w, h) in face_detections:\n",
    "    cv2.rectangle(imgNP, (x, y), (x + w, y + h), (0, 255, 0), 2)\n",
    "\n",
    "# 화면 출력\n",
    "cv2.imshow('[M]', imgNP)\n",
    "\n",
    "# 키 입력 및 X버튼에 따른 창 닫기\n",
    "if cv2.waitKey() or cv2.getWindowProperty('image', cv2.WND_PROP_VISIBLE) <1:\n",
    "    cv2.destroyAllWindows()"
   ],
   "metadata": {
    "collapsed": false,
    "ExecuteTime": {
     "end_time": "2024-03-22T05:56:49.002506700Z",
     "start_time": "2024-03-22T05:56:21.839642200Z"
    }
   },
   "id": "ffcf5f60983f8910",
   "execution_count": 199
  },
  {
   "cell_type": "markdown",
   "source": [
    "동영상 프레임 읽기 : 책 25p 코드 참고"
   ],
   "metadata": {
    "collapsed": false
   },
   "id": "a8da69eb21a5060b"
  },
  {
   "cell_type": "code",
   "outputs": [],
   "source": [],
   "metadata": {
    "collapsed": false
   },
   "id": "c396c192329ec336"
  }
 ],
 "metadata": {
  "kernelspec": {
   "display_name": "Python 3",
   "language": "python",
   "name": "python3"
  },
  "language_info": {
   "codemirror_mode": {
    "name": "ipython",
    "version": 2
   },
   "file_extension": ".py",
   "mimetype": "text/x-python",
   "name": "python",
   "nbconvert_exporter": "python",
   "pygments_lexer": "ipython2",
   "version": "2.7.6"
  }
 },
 "nbformat": 4,
 "nbformat_minor": 5
}
