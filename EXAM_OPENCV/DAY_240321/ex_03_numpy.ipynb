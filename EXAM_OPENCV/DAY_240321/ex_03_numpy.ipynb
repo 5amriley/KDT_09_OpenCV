{
 "cells": [
  {
   "cell_type": "code",
   "execution_count": 1,
   "id": "initial_id",
   "metadata": {
    "collapsed": true,
    "ExecuteTime": {
     "end_time": "2024-03-21T07:18:37.519103400Z",
     "start_time": "2024-03-21T07:18:37.370690Z"
    }
   },
   "outputs": [],
   "source": [
    "# 모듈 로딩\n",
    "import numpy as np"
   ]
  },
  {
   "cell_type": "code",
   "outputs": [
    {
     "data": {
      "text/plain": "array([[0, 0, 0],\n       [0, 0, 0]], dtype=int8)"
     },
     "execution_count": 4,
     "metadata": {},
     "output_type": "execute_result"
    }
   ],
   "source": [
    "## ndarray 타입 데이터 생성\n",
    "\n",
    "# 0으로 채워진 ndarray 객체 생성 => zeros()\n",
    "np.zeros((2, 3), dtype=np.int8)"
   ],
   "metadata": {
    "collapsed": false,
    "ExecuteTime": {
     "end_time": "2024-03-21T07:19:56.058763700Z",
     "start_time": "2024-03-21T07:19:56.025762100Z"
    }
   },
   "id": "70e989fed1c436e1",
   "execution_count": 4
  },
  {
   "cell_type": "code",
   "outputs": [
    {
     "data": {
      "text/plain": "(array([1., 1., 1., 1., 1., 1., 1., 1., 1., 1.]),\n array([1, 1, 1, 1, 1, 1, 1, 1, 1, 1]),\n array([[1., 1., 1., 1., 1.],\n        [1., 1., 1., 1., 1.]], dtype=float16))"
     },
     "execution_count": 5,
     "metadata": {},
     "output_type": "execute_result"
    }
   ],
   "source": [
    "# 1으로 채워진 ndarray 객체 생성 => ones()\n",
    "np.ones(10), np.ones(10, dtype=np.int32), np.ones((2, 5), np.float16)"
   ],
   "metadata": {
    "collapsed": false,
    "ExecuteTime": {
     "end_time": "2024-03-21T07:21:48.034851Z",
     "start_time": "2024-03-21T07:21:47.993114200Z"
    }
   },
   "id": "770702d6ef3c8232",
   "execution_count": 5
  },
  {
   "cell_type": "code",
   "outputs": [
    {
     "data": {
      "text/plain": "array([[1, 3, 1, 1, 1, 1, 2, 1, 2, 3],\n       [1, 3, 2, 2, 4, 3, 2, 4, 2, 1],\n       [4, 4, 2, 2, 4, 3, 3, 3, 1, 4]])"
     },
     "execution_count": 12,
     "metadata": {},
     "output_type": "execute_result"
    }
   ],
   "source": [
    "# 랜덤 데이터로 ndarray 객체 생성 => random\n",
    "np.random.randint(1, 5, (3, 10))    # 이상, 미만, (shape)"
   ],
   "metadata": {
    "collapsed": false,
    "ExecuteTime": {
     "end_time": "2024-03-21T07:25:17.566429600Z",
     "start_time": "2024-03-21T07:25:17.543429500Z"
    }
   },
   "id": "26957566b89e1cae",
   "execution_count": 12
  },
  {
   "cell_type": "code",
   "outputs": [
    {
     "data": {
      "text/plain": "array([[0.16412965, 0.87722002],\n       [0.50330728, 0.63007966],\n       [0.39355754, 0.53447107],\n       [0.34548303, 0.67460682],\n       [0.31539329, 0.21451359]])"
     },
     "execution_count": 13,
     "metadata": {},
     "output_type": "execute_result"
    }
   ],
   "source": [
    "# 0 <= 범위 < 1\n",
    "np.random.rand(5, 2)    # shape (괄호없이)"
   ],
   "metadata": {
    "collapsed": false,
    "ExecuteTime": {
     "end_time": "2024-03-21T07:25:21.071293400Z",
     "start_time": "2024-03-21T07:25:21.045351700Z"
    }
   },
   "id": "748609457cc5d23e",
   "execution_count": 13
  },
  {
   "cell_type": "code",
   "outputs": [
    {
     "data": {
      "text/plain": "(array([0.13020815, 0.9818252 , 0.55125773, 1.60471954, 0.48016505]),\n array([[[ 0.15971274,  1.41983922, -0.67540378],\n         [ 0.66749029,  0.03838515, -2.2140701 ]]]))"
     },
     "execution_count": 14,
     "metadata": {},
     "output_type": "execute_result"
    }
   ],
   "source": [
    "# 표준정규분포\n",
    "np.random.randn(5), np.random.randn(1, 2, 3)    # shape (괄호없이)"
   ],
   "metadata": {
    "collapsed": false,
    "ExecuteTime": {
     "end_time": "2024-03-21T07:25:48.712697200Z",
     "start_time": "2024-03-21T07:25:48.670691400Z"
    }
   },
   "id": "a72797c7c9de45f8",
   "execution_count": 14
  },
  {
   "cell_type": "code",
   "outputs": [
    {
     "data": {
      "text/plain": "array([ 0.05056171,  0.49995133, -0.99590893,  0.69359851, -0.41830152])"
     },
     "execution_count": 16,
     "metadata": {},
     "output_type": "execute_result"
    }
   ],
   "source": [
    "# 랜덤 고정\n",
    "np.random.seed(4)\n",
    "\n",
    "np.random.randn(5)"
   ],
   "metadata": {
    "collapsed": false,
    "ExecuteTime": {
     "end_time": "2024-03-21T07:26:55.201121200Z",
     "start_time": "2024-03-21T07:26:55.187321500Z"
    }
   },
   "id": "22e8d761c21ecbe7",
   "execution_count": 16
  },
  {
   "cell_type": "code",
   "outputs": [
    {
     "name": "stdout",
     "output_type": "stream",
     "text": [
      "[ 0.80843557  0.03006708 -0.33617984  0.08126377 -0.24052418  2.03217933\n",
      "  0.42584671 -1.68296489 -0.43388638 -1.41622753]\n",
      "[-0.24052418  0.80843557  0.08126377  0.03006708 -0.33617984 -0.43388638\n",
      " -1.68296489  0.42584671  2.03217933 -1.41622753]\n"
     ]
    }
   ],
   "source": [
    "data = np.random.randn(10)\n",
    "print(data)\n",
    "np.random.shuffle(data)     # 랜덤하게 섞기 (파괴적)\n",
    "print(data)"
   ],
   "metadata": {
    "collapsed": false,
    "ExecuteTime": {
     "end_time": "2024-03-21T07:29:25.926868700Z",
     "start_time": "2024-03-21T07:29:25.894786900Z"
    }
   },
   "id": "78f84396280764fb",
   "execution_count": 23
  },
  {
   "cell_type": "code",
   "outputs": [
    {
     "data": {
      "text/plain": "(-0.7319903512193269, 2.0321793255564504, -1.6829648888583426)"
     },
     "execution_count": 24,
     "metadata": {},
     "output_type": "execute_result"
    }
   ],
   "source": [
    "data.sum(), data.max(), data.min()"
   ],
   "metadata": {
    "collapsed": false,
    "ExecuteTime": {
     "end_time": "2024-03-21T07:30:59.916672100Z",
     "start_time": "2024-03-21T07:30:59.878559100Z"
    }
   },
   "id": "f226c4621caa6c2b",
   "execution_count": 24
  },
  {
   "cell_type": "code",
   "outputs": [
    {
     "data": {
      "text/plain": "(8, 6)"
     },
     "execution_count": 26,
     "metadata": {},
     "output_type": "execute_result"
    }
   ],
   "source": [
    "data.argmax(), data.argmin()"
   ],
   "metadata": {
    "collapsed": false,
    "ExecuteTime": {
     "end_time": "2024-03-21T07:31:31.153123900Z",
     "start_time": "2024-03-21T07:31:31.137110500Z"
    }
   },
   "id": "79efb124b509680d",
   "execution_count": 26
  },
  {
   "cell_type": "code",
   "outputs": [
    {
     "data": {
      "text/plain": "array([-0.24052418,  0.80843557,  0.08126377,  0.03006708, -0.33617984,\n       -0.43388638, -1.68296489,  0.42584671,  2.03217933, -1.41622753])"
     },
     "execution_count": 29,
     "metadata": {},
     "output_type": "execute_result"
    }
   ],
   "source": [
    "data.flatten()  # 1차원으로 변경 (파괴적)"
   ],
   "metadata": {
    "collapsed": false,
    "ExecuteTime": {
     "end_time": "2024-03-21T07:32:39.344184900Z",
     "start_time": "2024-03-21T07:32:39.322542700Z"
    }
   },
   "id": "57b3e2a6c60f2696",
   "execution_count": 29
  },
  {
   "cell_type": "code",
   "outputs": [
    {
     "data": {
      "text/plain": "1"
     },
     "execution_count": 30,
     "metadata": {},
     "output_type": "execute_result"
    }
   ],
   "source": [
    "data.ndim"
   ],
   "metadata": {
    "collapsed": false,
    "ExecuteTime": {
     "end_time": "2024-03-21T07:32:44.165044500Z",
     "start_time": "2024-03-21T07:32:44.150992800Z"
    }
   },
   "id": "7309a89febdb2458",
   "execution_count": 30
  },
  {
   "cell_type": "code",
   "outputs": [],
   "source": [],
   "metadata": {
    "collapsed": false
   },
   "id": "c91a7c10bddb6ad0"
  }
 ],
 "metadata": {
  "kernelspec": {
   "display_name": "Python 3",
   "language": "python",
   "name": "python3"
  },
  "language_info": {
   "codemirror_mode": {
    "name": "ipython",
    "version": 2
   },
   "file_extension": ".py",
   "mimetype": "text/x-python",
   "name": "python",
   "nbconvert_exporter": "python",
   "pygments_lexer": "ipython2",
   "version": "2.7.6"
  }
 },
 "nbformat": 4,
 "nbformat_minor": 5
}
