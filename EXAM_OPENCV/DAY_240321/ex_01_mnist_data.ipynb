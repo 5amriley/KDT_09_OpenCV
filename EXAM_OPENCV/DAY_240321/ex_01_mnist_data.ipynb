{
 "cells": [
  {
   "cell_type": "markdown",
   "source": [
    "### 이미지 raw data 파일에서 데이터 추출"
   ],
   "metadata": {
    "collapsed": false
   },
   "id": "c3c03cb4e8e5afba"
  },
  {
   "cell_type": "code",
   "outputs": [],
   "source": [
    "## [1] 파일 입출력 방식\n",
    "## with open() as ~\n",
    "\n",
    "file_path = '../data/MNIST/t10k-images.idx3-ubyte'  # .gz 파일 읽으면 내용이 다르게 읽힌다."
   ],
   "metadata": {
    "collapsed": false,
    "ExecuteTime": {
     "end_time": "2024-03-21T01:52:43.946108200Z",
     "start_time": "2024-03-21T01:52:43.927109600Z"
    }
   },
   "id": "1f8e30c2df8250c2",
   "execution_count": 39
  },
  {
   "cell_type": "code",
   "outputs": [],
   "source": [
    "# 파일 읽을 때 고려사항 => mode = br : 바이트 읽기 모드\n",
    "with open(file_path, mode='br') as f:\n",
    "    all_data = f.read()"
   ],
   "metadata": {
    "collapsed": false,
    "ExecuteTime": {
     "end_time": "2024-03-21T01:52:43.969109300Z",
     "start_time": "2024-03-21T01:52:43.952108Z"
    }
   },
   "id": "6a159600fbaa8e48",
   "execution_count": 40
  },
  {
   "cell_type": "code",
   "outputs": [
    {
     "name": "stdout",
     "output_type": "stream",
     "text": [
      "<class 'bytes'>\n"
     ]
    }
   ],
   "source": [
    "print(type(all_data))       # <class 'bytes'>"
   ],
   "metadata": {
    "collapsed": false,
    "ExecuteTime": {
     "end_time": "2024-03-21T01:52:43.986108300Z",
     "start_time": "2024-03-21T01:52:43.970108400Z"
    }
   },
   "id": "821058da176fa2fe",
   "execution_count": 41
  },
  {
   "cell_type": "code",
   "outputs": [
    {
     "data": {
      "text/plain": "7840016"
     },
     "execution_count": 42,
     "metadata": {},
     "output_type": "execute_result"
    }
   ],
   "source": [
    "len(all_data)"
   ],
   "metadata": {
    "collapsed": false,
    "ExecuteTime": {
     "end_time": "2024-03-21T01:52:44.023875300Z",
     "start_time": "2024-03-21T01:52:43.987202200Z"
    }
   },
   "id": "70d76c205ada3faa",
   "execution_count": 42
  },
  {
   "cell_type": "code",
   "outputs": [
    {
     "name": "stdout",
     "output_type": "stream",
     "text": [
      "b\"\\x00\\x00\\x08\\x03\\x00\\x00'\\x10\\x00\\x00\\x00\\x1c\\x00\\x00\\x00\\x1c\\x00\\x00\\x00\\x00\\x00\\x00\\x00\\x00\\x00\\x00\\x00\\x00\\x00\\x00\\x00\\x00\\x00\\x00\\x00\\x00\\x00\\x00\\x00\\x00\\x00\\x00\\x00\\x00\\x00\\x00\\x00\\x00\\x00\\x00\\x00\\x00\\x00\\x00\\x00\\x00\\x00\\x00\\x00\\x00\\x00\\x00\\x00\\x00\\x00\\x00\\x00\\x00\\x00\\x00\\x00\\x00\\x00\\x00\\x00\\x00\\x00\\x00\\x00\\x00\\x00\\x00\\x00\\x00\\x00\\x00\\x00\\x00\\x00\\x00\\x00\\x00\\x00\\x00\\x00\\x00\\x00\\x00\\x00\\x00\"\n"
     ]
    }
   ],
   "source": [
    "print(all_data[:100])"
   ],
   "metadata": {
    "collapsed": false,
    "ExecuteTime": {
     "end_time": "2024-03-21T01:52:44.025796300Z",
     "start_time": "2024-03-21T01:52:44.001148900Z"
    }
   },
   "id": "df8baf6e3e68bbff",
   "execution_count": 43
  },
  {
   "cell_type": "code",
   "outputs": [
    {
     "name": "stdout",
     "output_type": "stream",
     "text": [
      "b'\\x00\\x00\\x08\\x03'\n",
      "b\"\\x00\\x00'\\x10\"\n",
      "b'\\x00\\x00\\x00\\x1c'\n",
      "b'\\x00\\x00\\x00\\x1c'\n"
     ]
    }
   ],
   "source": [
    "with open(file_path, mode='br') as f:\n",
    "    magic_code = f.read(4)  # 4바이트 읽기\n",
    "    print(magic_code)\n",
    "    \n",
    "    data_length = f.read(4)\n",
    "    print(data_length)      # bytes\n",
    "    \n",
    "    row = f.read(4)\n",
    "    print(row)              # bytes\n",
    "    \n",
    "    col = f.read(4)\n",
    "    print(col)              # bytes"
   ],
   "metadata": {
    "collapsed": false,
    "ExecuteTime": {
     "end_time": "2024-03-21T01:52:44.055784200Z",
     "start_time": "2024-03-21T01:52:44.017783900Z"
    }
   },
   "id": "a568d2bfc98c0dd0",
   "execution_count": 44
  },
  {
   "cell_type": "code",
   "outputs": [
    {
     "data": {
      "text/plain": "'0000001c'"
     },
     "execution_count": 45,
     "metadata": {},
     "output_type": "execute_result"
    }
   ],
   "source": [
    "# 바이트 => 알아볼 수 있는 문자로\n",
    "row.hex()"
   ],
   "metadata": {
    "collapsed": false,
    "ExecuteTime": {
     "end_time": "2024-03-21T01:57:43.616402800Z",
     "start_time": "2024-03-21T01:57:43.585403300Z"
    }
   },
   "id": "eeb08fbb152c3788",
   "execution_count": 45
  },
  {
   "cell_type": "code",
   "outputs": [
    {
     "data": {
      "text/plain": "'0xa'"
     },
     "execution_count": 48,
     "metadata": {},
     "output_type": "execute_result"
    }
   ],
   "source": [
    "hex(10)     # '0x'가 붙여서 주므로, 문자열 형태"
   ],
   "metadata": {
    "collapsed": false,
    "ExecuteTime": {
     "end_time": "2024-03-21T01:58:38.428335Z",
     "start_time": "2024-03-21T01:58:38.376621700Z"
    }
   },
   "id": "19bea93d0cbc2965",
   "execution_count": 48
  },
  {
   "cell_type": "markdown",
   "source": [
    "[2] 파이썬의 byte 데이터 변환 모듈 struct 활용"
   ],
   "metadata": {
    "collapsed": false
   },
   "id": "51570acb89ab8d55"
  },
  {
   "cell_type": "code",
   "outputs": [],
   "source": [
    "### 데이터 추출 및 저장 관련 변수\n",
    "# 학습용 : train.csv\n",
    "# 테스트용 : test.csv\n",
    "# 위치 : ../data/text/\n",
    "\n",
    "data_dir = '../data/text/'\n",
    "train_file = data_dir + 'mnist_train.csv'\n",
    "test_file = data_dir + 'mnist_test.csv'"
   ],
   "metadata": {
    "collapsed": false,
    "ExecuteTime": {
     "end_time": "2024-03-21T05:07:09.667818700Z",
     "start_time": "2024-03-21T05:07:09.638561900Z"
    }
   },
   "id": "763ccb1dd25e4645",
   "execution_count": 107
  },
  {
   "cell_type": "code",
   "outputs": [],
   "source": [
    "### 사용자 정의 함수\n",
    "### 기능     : raw data 파일을 읽어서 csv 파일로 저장\n",
    "### 함수명   : to_csv\n",
    "### 매개변수 : 파일이름, 데이터수\n",
    "### 반환값   : 파일 생성 여부 True/False"
   ],
   "metadata": {
    "collapsed": false,
    "ExecuteTime": {
     "end_time": "2024-03-21T04:07:35.583196100Z",
     "start_time": "2024-03-21T04:07:35.574194700Z"
    }
   },
   "id": "25d8684dcafca0de",
   "execution_count": 57
  },
  {
   "cell_type": "code",
   "outputs": [],
   "source": [
    "import os, struct \n",
    "\n",
    "# CSV 변환 기능 함수\n",
    "def to_csv(filenames: list, maxdata):\n",
    "    DEBUG = False    # 디버깅 출력 제어 플래그 변수\n",
    "    \n",
    "    # (1) CSV 저장할 데이터 준비\n",
    "    # 레이블 파일과 이미지 파일 열기\n",
    "    lbl_f = open(filenames[0], 'rb')\n",
    "    img_f = open(filenames[1], 'rb')\n",
    "    \n",
    "    # CSV 파일 생성\n",
    "    csv_f = open(filenames[2], 'w', encoding='utf-8')\n",
    "    \n",
    "    # 헤더 정보 읽기\n",
    "    mag, lbl_count = struct.unpack('>II', lbl_f.read(8))    # 매직 코드 + 레이블 개수\n",
    "    mag, img_count = struct.unpack('>II', img_f.read(8))    # 매직 코드 + 이미지 개수\n",
    "    rows, cols = struct.unpack('>II', img_f.read(8))        # 행, 열 개수\n",
    "    pixels = rows * cols\n",
    "    \n",
    "    if DEBUG:\n",
    "        print('lbl_count {}, img_count {}'.format(lbl_count, img_count))\n",
    "        print('rows {}, cols {}'.format(rows, cols))\n",
    "        \n",
    "    # (2) 이미지 데이터를 읽고 csv로 저장\n",
    "    for idx in range(lbl_count):\n",
    "        if idx > maxdata: break\n",
    "        \n",
    "        # 숫자이이미 데이터가 의미하는 숫자값 읽기\n",
    "        # 튜플타입 리던 -> 1개 데이터 (value,)\n",
    "        label = struct.unpack('B', lbl_f.read(1))[0]\n",
    "        if DEBUG: print('label => {}'.format(label))\n",
    "    \n",
    "        # 이미지 데이터 읽기\n",
    "        bdata = img_f.read(pixels)\n",
    "        sdata = list(map(lambda n: str(n), bdata))  # 문자열로 변환\n",
    "        if DEBUG: print('sdata => {}'.format(sdata))\n",
    "        \n",
    "        # csv 파일에 쓰기 => 라벨, 데이터, 데이터, ....., 데784\n",
    "        csv_f.write(str(label) + ',')           # 숫자 라벨 쓰기\n",
    "        csv_f.write(','.join(sdata) + '\\n')     # 리스트 이미지 데이터 -> 문자열 변환 쓰기\n",
    "        \n",
    "    csv_f.close()\n",
    "    lbl_f.close()\n",
    "    img_f.close()\n",
    "    \n",
    "    # 생성된 파일 존재 여부 확인 후 반환\n",
    "    return os.path.exists(filenames[2])"
   ],
   "metadata": {
    "collapsed": false,
    "ExecuteTime": {
     "end_time": "2024-03-21T04:54:08.216004800Z",
     "start_time": "2024-03-21T04:54:08.185461800Z"
    }
   },
   "id": "d554394ac46b5676",
   "execution_count": 96
  },
  {
   "cell_type": "code",
   "outputs": [
    {
     "data": {
      "text/plain": "True"
     },
     "execution_count": 166,
     "metadata": {},
     "output_type": "execute_result"
    }
   ],
   "source": [
    "path1 = '../data/MNIST/train-labels.idx1-ubyte'\n",
    "path2 = '../data/MNIST/train-images.idx3-ubyte'\n",
    "# 학습용 데이터 저장\n",
    "path3 = '../data/text/mnist_train.csv'\n",
    "to_csv([path1, path2, path3], 10000)\n",
    "# 테스트 데이터 저장\n",
    "path4 = '../data/text/mnist_test.csv'\n",
    "to_csv([path1, path2, path4], 1000)"
   ],
   "metadata": {
    "collapsed": false,
    "ExecuteTime": {
     "end_time": "2024-03-21T05:36:57.894669600Z",
     "start_time": "2024-03-21T05:36:55.748280400Z"
    }
   },
   "id": "6a87a90d6a8688b4",
   "execution_count": 166
  },
  {
   "cell_type": "markdown",
   "source": [
    "이미지 데이터 로딩 => csv > DataFrame 또는 NumPy"
   ],
   "metadata": {
    "collapsed": false
   },
   "id": "94eb6d1de6ae0fa0"
  },
  {
   "cell_type": "code",
   "outputs": [],
   "source": [
    "import pandas as pd\n",
    "import numpy as np"
   ],
   "metadata": {
    "collapsed": false,
    "ExecuteTime": {
     "end_time": "2024-03-21T05:36:58.895143700Z",
     "start_time": "2024-03-21T05:36:58.877140500Z"
    }
   },
   "id": "a48d5a9da7cb1cbe",
   "execution_count": 167
  },
  {
   "cell_type": "code",
   "outputs": [
    {
     "name": "stdout",
     "output_type": "stream",
     "text": [
      "<class 'pandas.core.frame.DataFrame'>\n",
      "RangeIndex: 10001 entries, 0 to 10000\n",
      "Columns: 785 entries, 0 to 784\n",
      "dtypes: int64(785)\n",
      "memory usage: 59.9 MB\n"
     ]
    }
   ],
   "source": [
    "trainDF = pd.read_csv(train_file, header=None)\n",
    "trainDF.info()"
   ],
   "metadata": {
    "collapsed": false,
    "ExecuteTime": {
     "end_time": "2024-03-21T05:37:00.123509800Z",
     "start_time": "2024-03-21T05:36:59.328962100Z"
    }
   },
   "id": "72f50f6273fdd080",
   "execution_count": 168
  },
  {
   "cell_type": "code",
   "outputs": [
    {
     "name": "stdout",
     "output_type": "stream",
     "text": [
      "<class 'pandas.core.frame.DataFrame'>\n",
      "RangeIndex: 1001 entries, 0 to 1000\n",
      "Columns: 785 entries, 0 to 784\n",
      "dtypes: int64(785)\n",
      "memory usage: 6.0 MB\n"
     ]
    }
   ],
   "source": [
    "testDF = pd.read_csv(test_file, header=None)\n",
    "testDF.info()"
   ],
   "metadata": {
    "collapsed": false,
    "ExecuteTime": {
     "end_time": "2024-03-21T05:37:00.828027100Z",
     "start_time": "2024-03-21T05:37:00.651389800Z"
    }
   },
   "id": "bc61bb030ad869bc",
   "execution_count": 169
  },
  {
   "cell_type": "code",
   "outputs": [
    {
     "data": {
      "text/plain": "   0    1    2    3    4    5    6    7    8    9    ...  775  776  777  778  \\\n0    5    0    0    0    0    0    0    0    0    0  ...    0    0    0    0   \n1    0    0    0    0    0    0    0    0    0    0  ...    0    0    0    0   \n\n   779  780  781  782  783  784  \n0    0    0    0    0    0    0  \n1    0    0    0    0    0    0  \n\n[2 rows x 785 columns]",
      "text/html": "<div>\n<style scoped>\n    .dataframe tbody tr th:only-of-type {\n        vertical-align: middle;\n    }\n\n    .dataframe tbody tr th {\n        vertical-align: top;\n    }\n\n    .dataframe thead th {\n        text-align: right;\n    }\n</style>\n<table border=\"1\" class=\"dataframe\">\n  <thead>\n    <tr style=\"text-align: right;\">\n      <th></th>\n      <th>0</th>\n      <th>1</th>\n      <th>2</th>\n      <th>3</th>\n      <th>4</th>\n      <th>5</th>\n      <th>6</th>\n      <th>7</th>\n      <th>8</th>\n      <th>9</th>\n      <th>...</th>\n      <th>775</th>\n      <th>776</th>\n      <th>777</th>\n      <th>778</th>\n      <th>779</th>\n      <th>780</th>\n      <th>781</th>\n      <th>782</th>\n      <th>783</th>\n      <th>784</th>\n    </tr>\n  </thead>\n  <tbody>\n    <tr>\n      <th>0</th>\n      <td>5</td>\n      <td>0</td>\n      <td>0</td>\n      <td>0</td>\n      <td>0</td>\n      <td>0</td>\n      <td>0</td>\n      <td>0</td>\n      <td>0</td>\n      <td>0</td>\n      <td>...</td>\n      <td>0</td>\n      <td>0</td>\n      <td>0</td>\n      <td>0</td>\n      <td>0</td>\n      <td>0</td>\n      <td>0</td>\n      <td>0</td>\n      <td>0</td>\n      <td>0</td>\n    </tr>\n    <tr>\n      <th>1</th>\n      <td>0</td>\n      <td>0</td>\n      <td>0</td>\n      <td>0</td>\n      <td>0</td>\n      <td>0</td>\n      <td>0</td>\n      <td>0</td>\n      <td>0</td>\n      <td>0</td>\n      <td>...</td>\n      <td>0</td>\n      <td>0</td>\n      <td>0</td>\n      <td>0</td>\n      <td>0</td>\n      <td>0</td>\n      <td>0</td>\n      <td>0</td>\n      <td>0</td>\n      <td>0</td>\n    </tr>\n  </tbody>\n</table>\n<p>2 rows × 785 columns</p>\n</div>"
     },
     "execution_count": 170,
     "metadata": {},
     "output_type": "execute_result"
    }
   ],
   "source": [
    "trainDF.head(2)"
   ],
   "metadata": {
    "collapsed": false,
    "ExecuteTime": {
     "end_time": "2024-03-21T05:37:01.323181600Z",
     "start_time": "2024-03-21T05:37:01.300015200Z"
    }
   },
   "id": "7e32ed3b4eeaf98d",
   "execution_count": 170
  },
  {
   "cell_type": "code",
   "outputs": [
    {
     "data": {
      "text/plain": "((10001,),\n (10001, 784),\n 0    5\n 1    0\n 2    4\n Name: 0, dtype: int64)"
     },
     "execution_count": 171,
     "metadata": {},
     "output_type": "execute_result"
    }
   ],
   "source": [
    "# 이미지 데이터와 라벨 분리\n",
    "labels = trainDF[0]                         # 답 저장\n",
    "img_data = trainDF.iloc[:, 1:]              # 이미지 저장\n",
    "labels.shape, img_data.shape, labels[:3]"
   ],
   "metadata": {
    "collapsed": false,
    "ExecuteTime": {
     "end_time": "2024-03-21T05:37:03.089044100Z",
     "start_time": "2024-03-21T05:37:03.073678100Z"
    }
   },
   "id": "175c44f6ca255ebc",
   "execution_count": 171
  },
  {
   "cell_type": "markdown",
   "source": [
    "데이터 시각화"
   ],
   "metadata": {
    "collapsed": false
   },
   "id": "f63fcb8d58d1ef1"
  },
  {
   "cell_type": "code",
   "outputs": [],
   "source": [
    "import matplotlib.pyplot as plt"
   ],
   "metadata": {
    "collapsed": false,
    "ExecuteTime": {
     "end_time": "2024-03-21T05:37:03.594035600Z",
     "start_time": "2024-03-21T05:37:03.391678100Z"
    }
   },
   "id": "1328018da120d2d1",
   "execution_count": 172
  },
  {
   "cell_type": "code",
   "outputs": [
    {
     "data": {
      "text/plain": "(numpy.ndarray, (784,), 1)"
     },
     "execution_count": 173,
     "metadata": {},
     "output_type": "execute_result"
    }
   ],
   "source": [
    "# 1D 이미지 데이터 => 2D 이미지 데이터로 변환\n",
    "raw_img = img_data.iloc[0].values   # ndarray (1D)\n",
    "\n",
    "type(raw_img), raw_img.shape, raw_img.ndim"
   ],
   "metadata": {
    "collapsed": false,
    "ExecuteTime": {
     "end_time": "2024-03-21T05:37:04.364679100Z",
     "start_time": "2024-03-21T05:37:04.354680Z"
    }
   },
   "id": "c324d851bf3b79bb",
   "execution_count": 173
  },
  {
   "cell_type": "code",
   "outputs": [
    {
     "data": {
      "text/plain": "(numpy.ndarray, (28, 28), 2)"
     },
     "execution_count": 174,
     "metadata": {},
     "output_type": "execute_result"
    }
   ],
   "source": [
    "raw_img = raw_img.reshape(28, 28)   # ndarray (2D)   \n",
    "\n",
    "type(raw_img), raw_img.shape, raw_img.ndim"
   ],
   "metadata": {
    "collapsed": false,
    "ExecuteTime": {
     "end_time": "2024-03-21T05:37:04.653119200Z",
     "start_time": "2024-03-21T05:37:04.634596700Z"
    }
   },
   "id": "37af53feb4c71348",
   "execution_count": 174
  },
  {
   "cell_type": "code",
   "outputs": [
    {
     "data": {
      "text/plain": "<Figure size 640x480 with 1 Axes>",
      "image/png": "[encoded data removed]"
     },
     "metadata": {},
     "output_type": "display_data"
    }
   ],
   "source": [
    "# 시각화\n",
    "plt.imshow(raw_img, cmap='gray')\n",
    "plt.show()"
   ],
   "metadata": {
    "collapsed": false,
    "ExecuteTime": {
     "end_time": "2024-03-21T05:37:05.166429500Z",
     "start_time": "2024-03-21T05:37:05.041079700Z"
    }
   },
   "id": "d357487f4ecb2787",
   "execution_count": 175
  },
  {
   "cell_type": "code",
   "outputs": [
    {
     "data": {
      "text/plain": "5"
     },
     "execution_count": 176,
     "metadata": {},
     "output_type": "execute_result"
    }
   ],
   "source": [
    "labels[0]   # 답 출력"
   ],
   "metadata": {
    "collapsed": false,
    "ExecuteTime": {
     "end_time": "2024-03-21T05:37:05.444909800Z",
     "start_time": "2024-03-21T05:37:05.417907800Z"
    }
   },
   "id": "c75e70408a7092d2",
   "execution_count": 176
  },
  {
   "cell_type": "code",
   "outputs": [],
   "source": [],
   "metadata": {
    "collapsed": false
   },
   "id": "2f1af6fa9b23f2af"
  }
 ],
 "metadata": {
  "kernelspec": {
   "display_name": "Python 3",
   "language": "python",
   "name": "python3"
  },
  "language_info": {
   "codemirror_mode": {
    "name": "ipython",
    "version": 2
   },
   "file_extension": ".py",
   "mimetype": "text/x-python",
   "name": "python",
   "nbconvert_exporter": "python",
   "pygments_lexer": "ipython2",
   "version": "2.7.6"
  }
 },
 "nbformat": 4,
 "nbformat_minor": 5
}
