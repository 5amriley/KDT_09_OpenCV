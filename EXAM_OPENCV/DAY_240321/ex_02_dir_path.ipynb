{
 "cells": [
  {
   "cell_type": "markdown",
   "source": [
    "폴더 및 파일 다루기"
   ],
   "metadata": {
    "collapsed": false
   },
   "id": "63fc20e5c2f72179"
  },
  {
   "cell_type": "code",
   "outputs": [],
   "source": [
    "### 모듈 로딩\n",
    "import os"
   ],
   "metadata": {
    "collapsed": false,
    "ExecuteTime": {
     "end_time": "2024-03-21T05:51:04.144485400Z",
     "start_time": "2024-03-21T05:51:04.136485100Z"
    }
   },
   "id": "a2f9db2cbce5dda9",
   "execution_count": 1
  },
  {
   "cell_type": "code",
   "outputs": [
    {
     "data": {
      "text/plain": "True"
     },
     "execution_count": 2,
     "metadata": {},
     "output_type": "execute_result"
    }
   ],
   "source": [
    "### 특정 폴더 내의 모든 데이터 리스트 가져오기\n",
    "my_folder = '../data/'\n",
    "\n",
    "# 해당 폴더 또는 파일이 존재하는지 검사 => 결과 : True, False\n",
    "os.path.exists(my_folder)"
   ],
   "metadata": {
    "collapsed": false,
    "ExecuteTime": {
     "end_time": "2024-03-21T05:52:12.972228500Z",
     "start_time": "2024-03-21T05:52:12.946180100Z"
    }
   },
   "id": "9890d3868f3fe03f",
   "execution_count": 2
  },
  {
   "cell_type": "code",
   "outputs": [
    {
     "data": {
      "text/plain": "['img', 'MNIST', 'model', 'text']"
     },
     "execution_count": 3,
     "metadata": {},
     "output_type": "execute_result"
    }
   ],
   "source": [
    "# 해당 폴더 내의 구성요소 반환\n",
    "os.listdir(my_folder)"
   ],
   "metadata": {
    "collapsed": false,
    "ExecuteTime": {
     "end_time": "2024-03-21T05:53:37.960873200Z",
     "start_time": "2024-03-21T05:53:37.952857500Z"
    }
   },
   "id": "911d06e0150266ed",
   "execution_count": 3
  },
  {
   "cell_type": "code",
   "outputs": [
    {
     "name": "stdout",
     "output_type": "stream",
     "text": [
      "img --- True\n",
      "MNIST --- True\n",
      "model --- True\n",
      "text --- True\n",
      "words.txt --- False\n"
     ]
    }
   ],
   "source": [
    "# 폴더 내 모든 파일, 폴더 리스트 반환\n",
    "datalist = os.listdir(my_folder)\n",
    "\n",
    "for data_name in datalist:\n",
    "    # 폴더 여부 체크 -> os.isidir(경로)\n",
    "    print(data_name, os.path.isdir(my_folder + data_name), sep=' --- ')"
   ],
   "metadata": {
    "collapsed": false,
    "ExecuteTime": {
     "end_time": "2024-03-21T06:01:16.242198700Z",
     "start_time": "2024-03-21T06:01:16.220115500Z"
    }
   },
   "id": "3576598c5c9a8eea",
   "execution_count": 14
  },
  {
   "cell_type": "code",
   "outputs": [
    {
     "name": "stdout",
     "output_type": "stream",
     "text": [
      "[ img ]\n",
      " ---  orange.png\n",
      "[ MNIST ]\n",
      " ---  t10k-images-idx3-ubyte.gz\n",
      " ---  t10k-images.idx3-ubyte\n",
      " ---  t10k-labels-idx1-ubyte.gz\n",
      " ---  t10k-labels.idx1-ubyte\n",
      " ---  train-images-idx3-ubyte.gz\n",
      " ---  train-images.idx3-ubyte\n",
      " ---  train-labels-idx1-ubyte.gz\n",
      " ---  train-labels.idx1-ubyte\n",
      "[ model ]\n",
      " ---  exmodel.pt\n",
      "[ text ]\n",
      " ---  mnist_save.csv\n",
      " ---  mnist_test.csv\n",
      " ---  mnist_train.csv\n",
      "[ words.txt ]\n"
     ]
    }
   ],
   "source": [
    "# data 폴더 아래의 파일은 파일명만 출력, 폴더라면 폴더 아래 데이터 리스트 출력\n",
    "for data_name in datalist:\n",
    "    print(f'[ {data_name} ]')\n",
    "    if os.path.isdir(my_folder + data_name):\n",
    "        # 폴더인 경우\n",
    "        sub_data = os.listdir(my_folder + data_name)\n",
    "        for sub in sub_data:\n",
    "            print(' --- ', sub)"
   ],
   "metadata": {
    "collapsed": false,
    "ExecuteTime": {
     "end_time": "2024-03-21T06:09:08.783279400Z",
     "start_time": "2024-03-21T06:09:08.775224700Z"
    }
   },
   "id": "c5cfa921f2490e8a",
   "execution_count": 20
  },
  {
   "cell_type": "code",
   "outputs": [],
   "source": [
    "def certain_type_in_dir(my_folder, extension):\n",
    "    # 원하는 확장자의 파일만 가져오는 함수\n",
    "    # data_type 예시 : csv, jpg, png, txt, ...\n",
    "    if not my_folder.endswith('/'):\n",
    "        my_folder += '/'\n",
    "    if not extension.startswith('.'):\n",
    "        extension = '.' + extension\n",
    "    \n",
    "    datalist = os.listdir(my_folder)\n",
    "    for data_name in datalist:\n",
    "        if os.path.isdir(my_folder + data_name):\n",
    "            certain_type_in_dir(my_folder + data_name + '/', extension)\n",
    "        else:\n",
    "            # if os.path.splitext(data_name)[-1] == (data_type):\n",
    "            #     print(data_name)\n",
    "            if data_name.endswith(extension):\n",
    "                print(data_name)"
   ],
   "metadata": {
    "collapsed": false,
    "ExecuteTime": {
     "end_time": "2024-03-21T06:47:06.534058500Z",
     "start_time": "2024-03-21T06:47:06.524058800Z"
    }
   },
   "id": "dfb97f9905ec4e3c",
   "execution_count": 78
  },
  {
   "cell_type": "code",
   "outputs": [
    {
     "name": "stdout",
     "output_type": "stream",
     "text": [
      "orange.png\n"
     ]
    }
   ],
   "source": [
    "certain_type_in_dir('../data/', 'png')"
   ],
   "metadata": {
    "collapsed": false,
    "ExecuteTime": {
     "end_time": "2024-03-21T06:47:06.805848300Z",
     "start_time": "2024-03-21T06:47:06.789235500Z"
    }
   },
   "id": "c7ed0f182eea59be",
   "execution_count": 79
  },
  {
   "cell_type": "code",
   "outputs": [],
   "source": [
    "import cv2"
   ],
   "metadata": {
    "collapsed": false,
    "ExecuteTime": {
     "end_time": "2024-03-21T06:52:16.365941100Z",
     "start_time": "2024-03-21T06:52:16.103577Z"
    }
   },
   "id": "36c91271cae716f8",
   "execution_count": 80
  },
  {
   "cell_type": "code",
   "outputs": [
    {
     "name": "stdout",
     "output_type": "stream",
     "text": [
      "4.9.0\n"
     ]
    }
   ],
   "source": [
    "print(cv2.__version__)"
   ],
   "metadata": {
    "collapsed": false,
    "ExecuteTime": {
     "end_time": "2024-03-21T06:52:22.917005600Z",
     "start_time": "2024-03-21T06:52:22.878363300Z"
    }
   },
   "id": "5c70e416454e85ed",
   "execution_count": 81
  },
  {
   "cell_type": "code",
   "outputs": [],
   "source": [],
   "metadata": {
    "collapsed": false
   },
   "id": "c2e2db11dae7f380"
  }
 ],
 "metadata": {
  "kernelspec": {
   "display_name": "Python 3",
   "language": "python",
   "name": "python3"
  },
  "language_info": {
   "codemirror_mode": {
    "name": "ipython",
    "version": 2
   },
   "file_extension": ".py",
   "mimetype": "text/x-python",
   "name": "python",
   "nbconvert_exporter": "python",
   "pygments_lexer": "ipython2",
   "version": "2.7.6"
  }
 },
 "nbformat": 4,
 "nbformat_minor": 5
}
