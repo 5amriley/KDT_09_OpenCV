{
 "cells": [
  {
   "cell_type": "code",
   "execution_count": 1,
   "id": "initial_id",
   "metadata": {
    "collapsed": true,
    "ExecuteTime": {
     "end_time": "2024-03-25T06:41:33.481188700Z",
     "start_time": "2024-03-25T06:41:31.505388700Z"
    }
   },
   "outputs": [
    {
     "name": "stderr",
     "output_type": "stream",
     "text": [
      "C:\\Users\\kdp\\.conda\\envs\\Torch_38\\lib\\site-packages\\torchvision\\io\\image.py:13: UserWarning: Failed to load image Python extension: '[WinError 127] 지정된 프로시저를 찾을 수 없습니다'If you don't plan on using image functionality from `torchvision.io`, you can ignore this warning. Otherwise, there might be something wrong with your environment. Did you have `libjpeg` or `libpng` installed before building `torchvision` from source?\n",
      "  warn(\n"
     ]
    }
   ],
   "source": [
    "### 모듈 로딩\n",
    "from PIL import Image\n",
    "import torchvision.transforms as transforms"
   ]
  },
  {
   "cell_type": "code",
   "outputs": [],
   "source": [
    "file = '../data/img/orange.png'"
   ],
   "metadata": {
    "collapsed": false,
    "ExecuteTime": {
     "end_time": "2024-03-25T06:50:00.073834500Z",
     "start_time": "2024-03-25T06:50:00.049636100Z"
    }
   },
   "id": "21e69349196a9040",
   "execution_count": 2
  },
  {
   "cell_type": "code",
   "outputs": [],
   "source": [
    "orgImg = Image.open(fp=file)"
   ],
   "metadata": {
    "collapsed": false,
    "ExecuteTime": {
     "end_time": "2024-03-25T06:52:35.841226400Z",
     "start_time": "2024-03-25T06:52:35.814097400Z"
    }
   },
   "id": "cb9a24a7839a7adf",
   "execution_count": 5
  },
  {
   "cell_type": "code",
   "outputs": [
    {
     "data": {
      "text/plain": "('PNG', 600, 600, 'RGBA', PIL.PngImagePlugin.PngImageFile)"
     },
     "execution_count": 6,
     "metadata": {},
     "output_type": "execute_result"
    }
   ],
   "source": [
    "orgImg.format, orgImg.height, orgImg.width, orgImg.mode, type(orgImg)"
   ],
   "metadata": {
    "collapsed": false,
    "ExecuteTime": {
     "end_time": "2024-03-25T06:52:36.068617200Z",
     "start_time": "2024-03-25T06:52:36.050176900Z"
    }
   },
   "id": "32ea46d23772319f",
   "execution_count": 6
  },
  {
   "cell_type": "code",
   "outputs": [
    {
     "name": "stdout",
     "output_type": "stream",
     "text": [
      "torch.Size([4, 600, 600]) 3\n",
      "tensor([[0., 0., 0.,  ..., 0., 0., 0.],\n",
      "        [0., 0., 0.,  ..., 0., 0., 0.],\n",
      "        [0., 0., 0.,  ..., 0., 0., 0.],\n",
      "        ...,\n",
      "        [0., 0., 0.,  ..., 0., 0., 0.],\n",
      "        [0., 0., 0.,  ..., 0., 0., 0.],\n",
      "        [0., 0., 0.,  ..., 0., 0., 0.]])\n"
     ]
    }
   ],
   "source": [
    "### 사용법 => (1) 인스턴스 생성\n",
    "to_tensor = transforms.ToTensor()\n",
    "\n",
    "### (2) 인스턴스 변수 사용\n",
    "orgTS = to_tensor(orgImg)\n",
    "\n",
    "### (3) 변환된 이미지 텐서 확인\n",
    "print(orgTS.shape, orgTS.ndim)\n",
    "print(orgTS[0])"
   ],
   "metadata": {
    "collapsed": false,
    "ExecuteTime": {
     "end_time": "2024-03-25T06:54:39.026815100Z",
     "start_time": "2024-03-25T06:54:39.017230900Z"
    }
   },
   "id": "7fd8ac3227aabf79",
   "execution_count": 14
  },
  {
   "cell_type": "code",
   "outputs": [
    {
     "name": "stdout",
     "output_type": "stream",
     "text": [
      "<class 'numpy.ndarray'> (600, 600, 3) 3\n",
      "<class 'numpy.ndarray'> (600, 600, 3) 3\n"
     ]
    }
   ],
   "source": [
    "### OpenCV\n",
    "import cv2\n",
    "\n",
    "img = cv2.imread(filename=file)                 # BGR\n",
    "img2 = cv2.cvtColor(img, cv2.COLOR_BGR2RGB)     # RGB\n",
    "\n",
    "print(type(img), img.shape, img.ndim)\n",
    "print(type(img2), img2.shape, img2.ndim)"
   ],
   "metadata": {
    "collapsed": false,
    "ExecuteTime": {
     "end_time": "2024-03-25T07:01:05.997195100Z",
     "start_time": "2024-03-25T07:01:05.979285900Z"
    }
   },
   "id": "82393eef6ca0eddb",
   "execution_count": 25
  },
  {
   "cell_type": "code",
   "outputs": [
    {
     "name": "stdout",
     "output_type": "stream",
     "text": [
      "torch.Size([3, 600, 600]) 3\n",
      "torch.Size([3, 600, 600]) 3\n"
     ]
    }
   ],
   "source": [
    "### 텐서화\n",
    "org2 = to_tensor(img)\n",
    "org3 = to_tensor(img2)\n",
    "\n",
    "print(org2.shape, org2.ndim)\n",
    "print(org3.shape, org3.ndim)"
   ],
   "metadata": {
    "collapsed": false,
    "ExecuteTime": {
     "end_time": "2024-03-25T07:01:06.302131700Z",
     "start_time": "2024-03-25T07:01:06.274544400Z"
    }
   },
   "id": "8d2bcc9df14a38bc",
   "execution_count": 26
  },
  {
   "cell_type": "code",
   "outputs": [],
   "source": [
    "### Resizing\n",
    "preprocessing = transforms.Compose(transforms=[\n",
    "    transforms.Resize((50, 50)),\n",
    "    transforms.RandomHorizontalFlip(p=0.5),\n",
    "    transforms.ToTensor()\n",
    "])"
   ],
   "metadata": {
    "collapsed": false,
    "ExecuteTime": {
     "end_time": "2024-03-25T07:35:39.522066900Z",
     "start_time": "2024-03-25T07:35:39.468677100Z"
    }
   },
   "id": "ce954c14c5a5106e",
   "execution_count": 51
  },
  {
   "cell_type": "code",
   "outputs": [
    {
     "data": {
      "text/plain": "tensor([[[0., 0., 0.,  ..., 0., 0., 0.],\n         [0., 0., 0.,  ..., 0., 0., 0.],\n         [0., 0., 0.,  ..., 0., 0., 0.],\n         ...,\n         [0., 0., 0.,  ..., 0., 0., 0.],\n         [0., 0., 0.,  ..., 0., 0., 0.],\n         [0., 0., 0.,  ..., 0., 0., 0.]],\n\n        [[0., 0., 0.,  ..., 0., 0., 0.],\n         [0., 0., 0.,  ..., 0., 0., 0.],\n         [0., 0., 0.,  ..., 0., 0., 0.],\n         ...,\n         [0., 0., 0.,  ..., 0., 0., 0.],\n         [0., 0., 0.,  ..., 0., 0., 0.],\n         [0., 0., 0.,  ..., 0., 0., 0.]],\n\n        [[0., 0., 0.,  ..., 0., 0., 0.],\n         [0., 0., 0.,  ..., 0., 0., 0.],\n         [0., 0., 0.,  ..., 0., 0., 0.],\n         ...,\n         [0., 0., 0.,  ..., 0., 0., 0.],\n         [0., 0., 0.,  ..., 0., 0., 0.],\n         [0., 0., 0.,  ..., 0., 0., 0.]],\n\n        [[0., 0., 0.,  ..., 0., 0., 0.],\n         [0., 0., 0.,  ..., 0., 0., 0.],\n         [0., 0., 0.,  ..., 0., 0., 0.],\n         ...,\n         [0., 0., 0.,  ..., 0., 0., 0.],\n         [0., 0., 0.,  ..., 0., 0., 0.],\n         [0., 0., 0.,  ..., 0., 0., 0.]]])"
     },
     "execution_count": 52,
     "metadata": {},
     "output_type": "execute_result"
    }
   ],
   "source": [
    "preprocessing(orgImg)"
   ],
   "metadata": {
    "collapsed": false,
    "ExecuteTime": {
     "end_time": "2024-03-25T07:35:39.927839900Z",
     "start_time": "2024-03-25T07:35:39.891572400Z"
    }
   },
   "id": "2d9657404606973a",
   "execution_count": 52
  },
  {
   "cell_type": "markdown",
   "source": [
    "### 이미지 데이터셋\n",
    "    - torchvision.datasets.ImageFolder 클래스 사용\n",
    "        - 이미지 데이터 라벨링\n",
    "        - 이미지 데이터 전처리"
   ],
   "metadata": {
    "collapsed": false
   },
   "id": "7c154e2782ed93c6"
  },
  {
   "cell_type": "code",
   "outputs": [],
   "source": [
    "from torchvision.datasets import ImageFolder"
   ],
   "metadata": {
    "collapsed": false,
    "ExecuteTime": {
     "end_time": "2024-03-25T07:35:40.786407400Z",
     "start_time": "2024-03-25T07:35:40.770977300Z"
    }
   },
   "id": "623f58be073da88e",
   "execution_count": 53
  },
  {
   "cell_type": "code",
   "outputs": [],
   "source": [
    "img_root = '../data/img'\n",
    "\n",
    "imgDS = ImageFolder(root=img_root, transform=preprocessing)"
   ],
   "metadata": {
    "collapsed": false,
    "ExecuteTime": {
     "end_time": "2024-03-25T07:35:41.044631600Z",
     "start_time": "2024-03-25T07:35:41.035187300Z"
    }
   },
   "id": "85827dbd419ec84",
   "execution_count": 54
  },
  {
   "cell_type": "code",
   "outputs": [
    {
     "data": {
      "text/plain": "(['Italian_greyhound'],\n {'Italian_greyhound': 0},\n [('../data/img\\\\Italian_greyhound\\\\n02091032_55.jpg', 0),\n  ('../data/img\\\\Italian_greyhound\\\\n02091032_870.jpg', 0),\n  ('../data/img\\\\Italian_greyhound\\\\n02091032_907.jpg', 0)])"
     },
     "execution_count": 55,
     "metadata": {},
     "output_type": "execute_result"
    }
   ],
   "source": [
    "# 폴더명이 분류 클래스\n",
    "imgDS.classes, imgDS.class_to_idx, imgDS.imgs"
   ],
   "metadata": {
    "collapsed": false,
    "ExecuteTime": {
     "end_time": "2024-03-25T07:35:41.353701900Z",
     "start_time": "2024-03-25T07:35:41.331055800Z"
    }
   },
   "id": "6c5caeacbeb38821",
   "execution_count": 55
  },
  {
   "cell_type": "code",
   "outputs": [
    {
     "name": "stdout",
     "output_type": "stream",
     "text": [
      "torch.Size([1, 3, 50, 50]) torch.Size([1]) tensor([0])\n"
     ]
    }
   ],
   "source": [
    "from torch.utils.data import DataLoader\n",
    "imgDL = DataLoader(imgDS)\n",
    "\n",
    "for (img, label) in imgDL:\n",
    "    print(img.shape, label.shape, label)\n",
    "    break"
   ],
   "metadata": {
    "collapsed": false,
    "ExecuteTime": {
     "end_time": "2024-03-25T07:35:42.009409Z",
     "start_time": "2024-03-25T07:35:41.995099700Z"
    }
   },
   "id": "cf0ec2e5b0e96def",
   "execution_count": 56
  },
  {
   "cell_type": "code",
   "outputs": [],
   "source": [],
   "metadata": {
    "collapsed": false
   },
   "id": "ec49b9b3bc91556a"
  }
 ],
 "metadata": {
  "kernelspec": {
   "display_name": "Python 3",
   "language": "python",
   "name": "python3"
  },
  "language_info": {
   "codemirror_mode": {
    "name": "ipython",
    "version": 2
   },
   "file_extension": ".py",
   "mimetype": "text/x-python",
   "name": "python",
   "nbconvert_exporter": "python",
   "pygments_lexer": "ipython2",
   "version": "2.7.6"
  }
 },
 "nbformat": 4,
 "nbformat_minor": 5
}
