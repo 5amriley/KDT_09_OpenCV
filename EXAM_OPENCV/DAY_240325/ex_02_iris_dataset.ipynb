{
 "cells": [
  {
   "cell_type": "code",
   "execution_count": 10,
   "id": "initial_id",
   "metadata": {
    "collapsed": true,
    "ExecuteTime": {
     "end_time": "2024-03-25T05:11:29.108405200Z",
     "start_time": "2024-03-25T05:11:29.095140600Z"
    }
   },
   "outputs": [],
   "source": [
    "import numpy as np\n",
    "import pandas as pd\n",
    "\n",
    "import torch\n",
    "import torch.nn as nn\n",
    "from torch.utils.data import Dataset, DataLoader, TensorDataset"
   ]
  },
  {
   "cell_type": "code",
   "outputs": [],
   "source": [
    "filename = '../data/iris.csv'"
   ],
   "metadata": {
    "collapsed": false,
    "ExecuteTime": {
     "end_time": "2024-03-25T05:10:19.437186100Z",
     "start_time": "2024-03-25T05:10:19.418207700Z"
    }
   },
   "id": "c86b7d3980da4770",
   "execution_count": 7
  },
  {
   "cell_type": "code",
   "outputs": [
    {
     "data": {
      "text/plain": "   sepal_length  sepal_width  petal_length  petal_width species\n0           5.1          3.5           1.4          0.2  setosa\n1           4.9          3.0           1.4          0.2  setosa\n2           4.7          3.2           1.3          0.2  setosa\n3           4.6          3.1           1.5          0.2  setosa\n4           5.0          3.6           1.4          0.2  setosa",
      "text/html": "<div>\n<style scoped>\n    .dataframe tbody tr th:only-of-type {\n        vertical-align: middle;\n    }\n\n    .dataframe tbody tr th {\n        vertical-align: top;\n    }\n\n    .dataframe thead th {\n        text-align: right;\n    }\n</style>\n<table border=\"1\" class=\"dataframe\">\n  <thead>\n    <tr style=\"text-align: right;\">\n      <th></th>\n      <th>sepal_length</th>\n      <th>sepal_width</th>\n      <th>petal_length</th>\n      <th>petal_width</th>\n      <th>species</th>\n    </tr>\n  </thead>\n  <tbody>\n    <tr>\n      <th>0</th>\n      <td>5.1</td>\n      <td>3.5</td>\n      <td>1.4</td>\n      <td>0.2</td>\n      <td>setosa</td>\n    </tr>\n    <tr>\n      <th>1</th>\n      <td>4.9</td>\n      <td>3.0</td>\n      <td>1.4</td>\n      <td>0.2</td>\n      <td>setosa</td>\n    </tr>\n    <tr>\n      <th>2</th>\n      <td>4.7</td>\n      <td>3.2</td>\n      <td>1.3</td>\n      <td>0.2</td>\n      <td>setosa</td>\n    </tr>\n    <tr>\n      <th>3</th>\n      <td>4.6</td>\n      <td>3.1</td>\n      <td>1.5</td>\n      <td>0.2</td>\n      <td>setosa</td>\n    </tr>\n    <tr>\n      <th>4</th>\n      <td>5.0</td>\n      <td>3.6</td>\n      <td>1.4</td>\n      <td>0.2</td>\n      <td>setosa</td>\n    </tr>\n  </tbody>\n</table>\n</div>"
     },
     "execution_count": 8,
     "metadata": {},
     "output_type": "execute_result"
    }
   ],
   "source": [
    "irisDF = pd.read_csv(filename, encoding='utf8')\n",
    "irisDF.head()"
   ],
   "metadata": {
    "collapsed": false,
    "ExecuteTime": {
     "end_time": "2024-03-25T05:10:45.198343300Z",
     "start_time": "2024-03-25T05:10:45.159553400Z"
    }
   },
   "id": "c64be2ab31536679",
   "execution_count": 8
  },
  {
   "cell_type": "code",
   "outputs": [],
   "source": [
    "featureNP = irisDF[irisDF.columns[:-1]].values\n",
    "targetNP = irisDF[irisDF.columns[-1]].values"
   ],
   "metadata": {
    "collapsed": false,
    "ExecuteTime": {
     "end_time": "2024-03-25T05:12:15.620179300Z",
     "start_time": "2024-03-25T05:12:15.605656200Z"
    }
   },
   "id": "5de2df99e5e4a20f",
   "execution_count": 12
  },
  {
   "cell_type": "code",
   "outputs": [
    {
     "name": "stdout",
     "output_type": "stream",
     "text": [
      "(150,)\n"
     ]
    }
   ],
   "source": [
    "from sklearn.preprocessing import LabelEncoder\n",
    "\n",
    "encoded_targetNP = LabelEncoder().fit_transform(targetNP)\n",
    "# encoded_targetNP = encoded_targetNP.reshape(-1, 1)\n",
    "print(encoded_targetNP.shape)"
   ],
   "metadata": {
    "collapsed": false,
    "ExecuteTime": {
     "end_time": "2024-03-25T05:57:50.736408300Z",
     "start_time": "2024-03-25T05:57:50.722674100Z"
    }
   },
   "id": "1c582be20a77dd36",
   "execution_count": 94
  },
  {
   "cell_type": "code",
   "outputs": [
    {
     "data": {
      "text/plain": "array([0, 0, 0, 0, 0])"
     },
     "execution_count": 95,
     "metadata": {},
     "output_type": "execute_result"
    }
   ],
   "source": [
    "encoded_targetNP[:5]"
   ],
   "metadata": {
    "collapsed": false,
    "ExecuteTime": {
     "end_time": "2024-03-25T05:57:50.992915500Z",
     "start_time": "2024-03-25T05:57:50.960519200Z"
    }
   },
   "id": "23a41dbe98ce37c8",
   "execution_count": 95
  },
  {
   "cell_type": "code",
   "outputs": [],
   "source": [
    "class CustomDataset(Dataset):\n",
    "    # 초기화 함수\n",
    "    def __init__(self, x_data, y_data):\n",
    "        super().__init__()\n",
    "        \n",
    "        # x, y 데이터가 DF라면 ndarray로 변환해서 저장\n",
    "        self.x_data = x_data.values if isinstance(x_data, pd.DataFrame) else x_data\n",
    "        self.y_data = y_data.values if isinstance(y_data, pd.DataFrame) else y_data\n",
    "        \n",
    "        self.classes = np.unique(self.y_data).tolist()\n",
    "        self.nclasses = len(self.classes)\n",
    "        \n",
    "        # ndarray -> FloatTensor로 변환\n",
    "        self.x_data = torch.FloatTensor(self.x_data)\n",
    "        self.y_data = torch.LongTensor(self.y_data)\n",
    "        \n",
    "    # 총 데이터의 개수 리턴\n",
    "    def __len__(self):\n",
    "        return self.x_data.shape[0]\n",
    "    \n",
    "    # 인덱스에 해당하는 입출력 데이터를 파이토치의 Tensor 형태로 리턴\n",
    "    def __getitem__(self, idx):\n",
    "        x = self.x_data[idx]\n",
    "        y = self.y_data[idx]\n",
    "        return x, y"
   ],
   "metadata": {
    "collapsed": false,
    "ExecuteTime": {
     "end_time": "2024-03-25T06:01:50.337483800Z",
     "start_time": "2024-03-25T06:01:50.312316200Z"
    }
   },
   "id": "5a7d99a958e3f24c",
   "execution_count": 104
  },
  {
   "cell_type": "code",
   "outputs": [
    {
     "data": {
      "text/plain": "(tensor([6.6000, 3.0000, 4.4000, 1.4000]), tensor(1))"
     },
     "execution_count": 105,
     "metadata": {},
     "output_type": "execute_result"
    }
   ],
   "source": [
    "irisDS = CustomDataset(featureNP, encoded_targetNP)\n",
    "irisDS[75]"
   ],
   "metadata": {
    "collapsed": false,
    "ExecuteTime": {
     "end_time": "2024-03-25T06:01:51.209563900Z",
     "start_time": "2024-03-25T06:01:51.177489100Z"
    }
   },
   "id": "598dae5f02c807dc",
   "execution_count": 105
  },
  {
   "cell_type": "code",
   "outputs": [
    {
     "data": {
      "text/plain": "150"
     },
     "execution_count": 106,
     "metadata": {},
     "output_type": "execute_result"
    }
   ],
   "source": [
    "len(irisDS)"
   ],
   "metadata": {
    "collapsed": false,
    "ExecuteTime": {
     "end_time": "2024-03-25T06:01:51.469512100Z",
     "start_time": "2024-03-25T06:01:51.437924200Z"
    }
   },
   "id": "57913b8bf9d02e5e",
   "execution_count": 106
  },
  {
   "cell_type": "code",
   "outputs": [
    {
     "data": {
      "text/plain": "(3, [0, 1, 2])"
     },
     "execution_count": 107,
     "metadata": {},
     "output_type": "execute_result"
    }
   ],
   "source": [
    "irisDS.nclasses, irisDS.classes"
   ],
   "metadata": {
    "collapsed": false,
    "ExecuteTime": {
     "end_time": "2024-03-25T06:01:51.691540400Z",
     "start_time": "2024-03-25T06:01:51.664349900Z"
    }
   },
   "id": "6e70c8b9cdf205b3",
   "execution_count": 107
  },
  {
   "cell_type": "markdown",
   "source": [
    "DataLoader\n",
    "- batch_size, shuffle, drop_last, sampler"
   ],
   "metadata": {
    "collapsed": false
   },
   "id": "e64e7055a13fd61a"
  },
  {
   "cell_type": "code",
   "outputs": [],
   "source": [
    "### 로딩된 데이터 확인 함수\n",
    "def print_batch_data(loader, epochs, batch_size=1, shuffle=False, drop_last=False, sampler=None) -> None:\n",
    "    print(f'[설정값] batch_size : {batch_size}, shuffle : {shuffle}, drop_last : {drop_last}, sampler : {sampler}')\n",
    "    # print(f'[loader] : {loader}')\n",
    "    \n",
    "    for ep in range(epochs):\n",
    "        print(f'[{ep} EPOCHS]', '='*5, f'batch : {len(loader)}개')\n",
    "        for (feature, label) in loader:\n",
    "            # print(f'label 타입 : {type(label)}')\n",
    "            print(feature.shape, label.shape, label)"
   ],
   "metadata": {
    "collapsed": false,
    "ExecuteTime": {
     "end_time": "2024-03-25T06:01:52.656456900Z",
     "start_time": "2024-03-25T06:01:52.643118900Z"
    }
   },
   "id": "e16fa6c8253a21af",
   "execution_count": 108
  },
  {
   "cell_type": "code",
   "outputs": [
    {
     "name": "stdout",
     "output_type": "stream",
     "text": [
      "torch.Size([22, 4]) torch.Size([22]) tensor([9, 8, 5])\n",
      "torch.Size([22, 4]) torch.Size([22]) tensor([ 6, 12,  4])\n",
      "torch.Size([22, 4]) torch.Size([22]) tensor([7, 7, 8])\n",
      "torch.Size([22, 4]) torch.Size([22]) tensor([10,  5,  7])\n",
      "torch.Size([22, 4]) torch.Size([22]) tensor([ 7,  3, 12])\n",
      "torch.Size([22, 4]) torch.Size([22]) tensor([5, 8, 9])\n"
     ]
    }
   ],
   "source": [
    "### [기본사용] batch_size=1, shuffle=False, drop_last=False, sampler=None\n",
    "loader = DataLoader(irisDS, batch_size=22, shuffle=True, drop_last=True)\n",
    "\n",
    "for (feature, label) in loader:\n",
    "    print(feature.shape, label.shape, label.bincount())     # tensor.bincount() : DF.value_counts() 와 동일 (정수형만)"
   ],
   "metadata": {
    "collapsed": false,
    "ExecuteTime": {
     "end_time": "2024-03-25T06:01:53.266596800Z",
     "start_time": "2024-03-25T06:01:53.248598Z"
    }
   },
   "id": "ba138fa20a7134f9",
   "execution_count": 109
  },
  {
   "cell_type": "code",
   "outputs": [
    {
     "name": "stdout",
     "output_type": "stream",
     "text": [
      "[설정값] batch_size : 1, shuffle : False, drop_last : False, sampler : None\n",
      "[0 EPOCHS] ===== batch : 6개\n",
      "torch.Size([22, 4]) torch.Size([22]) tensor([1, 2, 1, 1, 0, 2, 2, 1, 2, 1, 2, 1, 1, 2, 0, 0, 2, 2, 1, 0, 0, 0])\n",
      "torch.Size([22, 4]) torch.Size([22]) tensor([1, 1, 0, 2, 2, 1, 0, 0, 0, 0, 0, 2, 0, 2, 1, 1, 0, 2, 0, 0, 2, 2])\n",
      "torch.Size([22, 4]) torch.Size([22]) tensor([2, 2, 2, 0, 0, 0, 2, 0, 2, 2, 0, 2, 1, 2, 1, 0, 2, 0, 1, 0, 0, 1])\n",
      "torch.Size([22, 4]) torch.Size([22]) tensor([1, 0, 0, 2, 1, 0, 1, 1, 1, 1, 0, 1, 0, 2, 0, 1, 0, 0, 1, 0, 2, 2])\n",
      "torch.Size([22, 4]) torch.Size([22]) tensor([1, 2, 2, 0, 1, 2, 0, 2, 1, 2, 0, 2, 0, 2, 0, 0, 1, 1, 1, 2, 2, 0])\n",
      "torch.Size([22, 4]) torch.Size([22]) tensor([0, 1, 2, 2, 2, 1, 2, 1, 0, 1, 2, 0, 2, 1, 2, 0, 1, 1, 2, 0, 0, 2])\n",
      "[1 EPOCHS] ===== batch : 6개\n",
      "torch.Size([22, 4]) torch.Size([22]) tensor([1, 1, 1, 2, 1, 1, 2, 1, 1, 1, 2, 2, 1, 2, 2, 0, 1, 0, 1, 1, 2, 0])\n",
      "torch.Size([22, 4]) torch.Size([22]) tensor([1, 0, 2, 0, 0, 0, 0, 2, 2, 2, 2, 1, 2, 1, 2, 0, 1, 2, 1, 2, 0, 2])\n",
      "torch.Size([22, 4]) torch.Size([22]) tensor([0, 1, 0, 0, 0, 1, 2, 1, 2, 2, 0, 0, 1, 0, 0, 0, 1, 2, 0, 0, 2, 1])\n",
      "torch.Size([22, 4]) torch.Size([22]) tensor([2, 1, 2, 0, 2, 0, 2, 0, 1, 1, 0, 2, 1, 1, 1, 1, 0, 2, 2, 1, 0, 1])\n",
      "torch.Size([22, 4]) torch.Size([22]) tensor([1, 0, 1, 2, 1, 1, 1, 1, 0, 2, 0, 2, 2, 2, 0, 0, 0, 0, 0, 2, 1, 2])\n",
      "torch.Size([22, 4]) torch.Size([22]) tensor([2, 2, 0, 2, 1, 0, 1, 2, 2, 0, 1, 2, 1, 2, 2, 0, 2, 0, 2, 0, 1, 1])\n"
     ]
    }
   ],
   "source": [
    "print_batch_data(loader=loader, epochs=2)"
   ],
   "metadata": {
    "collapsed": false,
    "ExecuteTime": {
     "end_time": "2024-03-25T06:01:53.634786Z",
     "start_time": "2024-03-25T06:01:53.617130600Z"
    }
   },
   "id": "1e6d3abd5998f35a",
   "execution_count": 110
  },
  {
   "cell_type": "markdown",
   "source": [
    "과제 : 복원추출, 가중치 부여, WeightedSampler 사용해서 DataLoader 만들기"
   ],
   "metadata": {
    "collapsed": false
   },
   "id": "aa1530c645048fd9"
  },
  {
   "cell_type": "code",
   "outputs": [],
   "source": [],
   "metadata": {
    "collapsed": false
   },
   "id": "bc3e22d7cd8651f8"
  }
 ],
 "metadata": {
  "kernelspec": {
   "display_name": "Python 3",
   "language": "python",
   "name": "python3"
  },
  "language_info": {
   "codemirror_mode": {
    "name": "ipython",
    "version": 2
   },
   "file_extension": ".py",
   "mimetype": "text/x-python",
   "name": "python",
   "nbconvert_exporter": "python",
   "pygments_lexer": "ipython2",
   "version": "2.7.6"
  }
 },
 "nbformat": 4,
 "nbformat_minor": 5
}
